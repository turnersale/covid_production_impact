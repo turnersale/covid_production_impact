{
 "nbformat": 4,
 "nbformat_minor": 2,
 "metadata": {
  "language_info": {
   "name": "python",
   "codemirror_mode": {
    "name": "ipython",
    "version": 3
   },
   "version": "3.7.4-final"
  },
  "orig_nbformat": 2,
  "file_extension": ".py",
  "mimetype": "text/x-python",
  "name": "python",
  "npconvert_exporter": "python",
  "pygments_lexer": "ipython3",
  "version": 3,
  "kernelspec": {
   "name": "python3",
   "display_name": "Python 3"
  }
 },
 "cells": [
  {
   "cell_type": "markdown",
   "execution_count": null,
   "metadata": {},
   "outputs": [],
   "source": [
    "# Covid-19 Impact on Company Performance\n",
    "### Turner Sale\n",
    "### July 2020"
   ]
  },
  {
   "cell_type": "markdown",
   "execution_count": null,
   "metadata": {},
   "outputs": [],
   "source": [
    "## Purpose\n",
    "\n",
    "As Covid-19 has ravaged much of the US economy, Company A has not been immune to the inevitable effects of a reduced labor force and impacted sales pipeline. The impacts of Covid-19 are clear to all observers, but the extent to which and the predictive capacity is not yet clear. This paper will be focused on determining the best model for predicting critical manufacturing success metrics using Covid-19 as part of the feature set. There are of course underlying patterns and trends inside the company (and internal projects to improve efficiency), but Covid-19 provides a new challenge. The impact of local, state, and regional cases, as well as governmental actions have led to an interesting new chapter in the company's history.\n",
    "\n",
    "In order to measure the impacts of Covid-19 (as well as predict potential future impacts) data will be collected from the shipping and production areas of our manufacturing center. Quality metrics were initially considered as well, but there have been 2 major changes in the past 3 months which have led to the schema changing in accordance which have led to the conclusion that the data is not yet clean enough to be used for this purpose. The lack of history and continual shifts in Quality make it a harder metric to rely upon."
   ]
  },
  {
   "cell_type": "markdown",
   "execution_count": null,
   "metadata": {},
   "outputs": [],
   "source": [
    "## Objectives\n",
    "\n",
    "### Primary\n",
    "\n",
    "The primary objective of this paper is to create a predictive model for on-time shipment with considerations for on-time comletion (of assembled goods). Shipments are the more critical factor as impacts there are more pronounced to the end customer.\n",
    "\n",
    "This model should have a high accuracy (target of 80%) in predicting on-time shipments and completions. Parsimony (as always) is preferred, but not a prerequisite. Models which are adaptable to future inputs are also preferred.\n",
    "\n",
    "### On-Time Shipment\n",
    "\n",
    "On-Time Shipment is perhaps the most critical metric of factory success in our organization. It not only impacts the customer and their satisfaction, but also the ability for our shipping center to continue normal operations. With a JIT (Just In Time) manufacturing push over the past 2 years, we are more and more reliant on accurate and consistent shipping, as space and time are at a premium. This metric is more critical than On-Time Completion, in that it is more likely to affect future orders from customers, as well as recommendations/sales leads.\n",
    "\n",
    "This metric is reliant upon the On-Time Completion from a process persepective, but supercedes it in importance to end users (and managers internally). \n",
    "\n",
    "### On-Time Completion\n",
    "\n",
    "The On-Time Completion metrics measure the performance of our Assembly group which feeds materials to the Shipping group. Without a stable assembly process, the Shipping group would be unable to handle the swings in volume. Therefor, we have begun the process of level loading with great success in process change and simplicity. This however does not always translate to success in the final results, especially during a time of crisis.\n",
    "\n",
    "This measure, and the On-Time Shipment metric as well, is broken into three main categories for greater clarity and utitlity (on-time, early and late). These two metrics combined should provide an interesting cross section of the business (for example, has Covid-19 had a greater impact on one or the other, or does the On-Time Completion metrics perhaps outweight Covid-19 as a predictor)."
   ]
  },
  {
   "cell_type": "markdown",
   "execution_count": null,
   "metadata": {},
   "outputs": [],
   "source": [
    "## Feasibility Assessment\n",
    "\n",
    "### Resources\n",
    "\n",
    "The primary resources to be utilized are the Data Warehouse (inlcuding SQL Server resources) and Python. Both resources are available to the data scientist and require no additional cost. The time spent on this project is to be recorded for the purposes of Company A should they decide the effort was worthwhile, else the data scientist will absorb all costs associated.\n",
    "\n",
    "### Risks\n",
    "\n",
    "Primary risk is low predictive value. There are no major costs or process stoppages that may impact this project. Additionally, all work is done with open source software or licensed enterprise tooling that is easily accessible.\n",
    "\n",
    "### Constraints\n",
    "\n",
    "As there are no employee or other sensitive data sources and we do not have any constraints on data access other than the removal of costs fields. These fields are accessible to Company A employees but might not be appropriate for external viewing. The only major constraint is the accessibility of highly detailed Covid-19 data. This data is available on county and other such levels, but not city or personal levels. Thus we can only utilize the data available to the public.\n"
   ]
  },
  {
   "cell_type": "markdown",
   "execution_count": null,
   "metadata": {},
   "outputs": [],
   "source": [
    "## Data Background\n",
    "\n",
    "### On-Time Shipment\n",
    "\n",
    "On-Time Shipments data is readily available in the Data Warehouse as this information tracks every single shipment leaving our stock or facilities. These lines are created in the normal shipment process when a supervisor finalizes the shipment. This in turn creates a \"Packing Slip\" of the inventory being shipped, warehouse ledger entries (for stockkeeping) and most importantly: Sales Shipment Lines. These lines are the ones we are capturing for this analysis. Each line indicates a product in/on a shipping unit (pallet, box, etc.). This means that a single sales line may contain multiple shipments lines. This gives us the benefit of knowing if the status of each shipment, not just the collective status of a higher level lines (like sales lines).\n",
    "\n",
    "The volume of data is roughly in the hundres to thousands of lines per working day. These lines are both highly accurate (as they determine certain accouting and stockkeeping functions) and are part of a now highly stable process. The quality of lines has dramatically improved over the past 2 years and the past 12 months (after transitioning to a new facility) have had very little noticeable error lines. The process also provides validity to the measurement, as this is a regularly measured feature of our company and is maintained and reviewed on a regular basis.\n",
    "\n",
    "\n",
    "### On-Time Completion\n",
    "\n",
    "On-Time Completion is a critical measure of assembly/production success. This metric is used both inside and outside the production group and provides valuable information regarding the ability and capacity at hand. Periods of high performance regularly reduce overhead while poor performance impacts both overhead and customer satisfaction. This data is on the magnitude of several hundred lines per day, depending heavily on the mix of product types.\n",
    "\n",
    "In order to measure On-Time Completion, we must capture the correct due date and the correct completion date. A unique aspect of our organization is the concept of a production order. These production orders contain one or more proucts of the same item number. This provides a way to consolidate the picking procedures and build the same product in sequence. This does however mean that we must consider the production order as completed only when all products related to it are complete. Because of this, we will be counting the number of prodction orders rather than the number of produced components inside of them. This is the standard for our organization internationally as well.\n",
    "\n",
    "The process of claiming labor and outputing the final product is very stable in our production group. The quality is some of the highest outside the Finance realm.\n",
    "\n",
    "### Covid-19\n",
    "\n",
    "Covid-19 data is collected primarily through governmental organizations and distributed through groups like the CDC or universities like John's Hopkins University. This paper focuses on several components of Covid-19 data:\n",
    "- United States\n",
    "    - All cases and deaths\n",
    "    - New cases and deaths\n",
    "- Michigan\n",
    "    - All cases and deaths\n",
    "    - New cases and deaths\n",
    "    - Mask requirement orders\n",
    "    - Stay at home orders\n",
    "    - Safer at home orders\n",
    "- Companu A's County\n",
    "    - All cases and deaths\n",
    "    - New cases and deaths\n",
    "\n",
    "These sources will be combined to provide a more detailed picture of the situation that Company A is working within. The inclusion of cases and deaths should provide direct impacts on population, while executive orders and governmental mandates should provide context to the situation.\n",
    "\n",
    "### Data Granularity\n",
    "\n",
    "All data is collected and/or aggregated on a daily grain. Smaller grains are not pertinent to this analysis (hourly does not provide any benefit nor is the information available). Weekly aggregations may be of value as well, but in this case they are not considered. Additionally, non-working dates will be excluded. We do have times where overtime is required, but none of the processes are designed specifically for that in mind, thus it is always used as a \"makeup\" period.\n"
   ]
  },
  {
   "cell_type": "markdown",
   "execution_count": null,
   "metadata": {},
   "outputs": [],
   "source": [
    "## Data Collection\n",
    "\n",
    "### On-Time Shipments\n",
    "\n",
    "On-Time Shipments are captured from the Data Warehouse utilizing SQL for the main work. This is both for performance purposes (all resources are internationally located and accessed across a VPN) and for speed (I have more SQL experience, although the method used is not necessarily the best). The SQL code is provided for clarity in the advent that certain metrics are misunderstood. Certain components have been redacted and only the fields required are included in the collection.\n",
    "\n",
    "The output from SQL is then saved as a csv for ease of use. Python is then utlized for the remainder of the data cleansing/transformation.\n"
   ]
  },
  {
   "cell_type": "code",
   "execution_count": null,
   "metadata": {},
   "outputs": [],
   "source": [
    "# DROP TABLE IF EXISTS #ships\n",
    "# DROP TABLE IF EXISTS #ship_group\n",
    "\n",
    "# SELECT ships.*\n",
    "# INTO #ships\n",
    "# FROM (\n",
    "# \tSELECT sl.[Posting Date]\n",
    "# \t\t,sl.[Document No_]\n",
    "# \t\t,sl.[Line No_]\n",
    "# \t\t,CASE \n",
    "# \t\t\tWHEN sl.[Posting Date] > [Planned Shipment Date]\n",
    "# \t\t\t\tTHEN 'Late'\n",
    "# \t\t\tWHEN sl.[Posting Date] < [Planned Shipment Date]\n",
    "# \t\t\t\tTHEN 'Early'\n",
    "# \t\t\tWHEN sl.[Posting Date] = [Planned Shipment Date]\n",
    "# \t\t\t\tTHEN 'On-Time'\n",
    "# \t\t\tELSE NULL\n",
    "# \t\t\tEND AS 'On-Time Status'\n",
    "# \tFROM [Sales Shipment Line] AS sl\n",
    "# \tWHERE [Posting Date] BETWEEN '01/01/2020' AND '07/31/2020'\n",
    "# \t) AS ships\n",
    "\n",
    "# SELECT *\n",
    "# INTO #ship_group\n",
    "# FROM (\n",
    "# \tSELECT ships.[Posting Date]\n",
    "# \t\t,ships.[On-Time Status]\n",
    "# \t\t,CAST(COUNT(ships.[Line No_]) AS decimal(20,6)) AS 'Line Count'\n",
    "# \tFROM #ships AS ships\n",
    "# \tGROUP BY ships.[Posting Date]\n",
    "# \t\t,ships.[On-Time Status]\n",
    "# \t) AS ship_group\n",
    "\n",
    "# SELECT *\n",
    "# \t,[Line Early] / [Total Lines] AS 'Line Early Prop'\n",
    "# \t,[Line On-Time] / [Total Lines] AS 'Line On-Time Prop'\n",
    "# \t,[Line Late]/ [Total Lines] AS 'Line Late Prop'\n",
    "# INTO #line\n",
    "# FROM (\n",
    "# \tSELECT [Posting Date]\n",
    "# \t\t,ISNULL([Early],0) AS 'Line Early'\n",
    "# \t\t,ISNULL([On-Time],0) AS 'Line On-Time'\n",
    "# \t\t,ISNULL([Late],0) AS 'Line Late'\n",
    "# \t\t,ISNULL([Early],0) + ISNULL([On-Time],0) + ISNULL([Late],0) AS 'Total Lines'\n",
    "# \tFROM (\n",
    "# \t\tSELECT [Posting Date]\n",
    "# \t\t\t,[Line Count]\n",
    "# \t\t\t,[On-Time Status]\n",
    "# \t\tFROM #ship_group\n",
    "# \t\t) AS piv_src\n",
    "# \tPIVOT (\n",
    "# \t\tSUM(piv_src.[Line Count])\n",
    "# \t\tFOR piv_src.[On-Time Status] IN ([Early],[On-Time],[Late])\n",
    "# \t\t) AS piv\n",
    "# \t) AS input\n",
    "# ORDER BY input.[Posting Date]"
   ]
  },
  {
   "cell_type": "code",
   "execution_count": 1,
   "metadata": {},
   "outputs": [],
   "source": [
    "#Import libraries\n",
    "import pandas as pd\n",
    "import numpy as np"
   ]
  },
  {
   "cell_type": "code",
   "execution_count": 41,
   "metadata": {},
   "outputs": [
    {
     "data": {
      "text/html": "<div>\n<style scoped>\n    .dataframe tbody tr th:only-of-type {\n        vertical-align: middle;\n    }\n\n    .dataframe tbody tr th {\n        vertical-align: top;\n    }\n\n    .dataframe thead th {\n        text-align: right;\n    }\n</style>\n<table border=\"1\" class=\"dataframe\">\n  <thead>\n    <tr style=\"text-align: right;\">\n      <th></th>\n      <th>Posting Date</th>\n      <th>Line Early</th>\n      <th>Line On-Time</th>\n      <th>Line Late</th>\n      <th>Total Lines</th>\n      <th>Line Early Prop</th>\n      <th>Line On-Time Prop</th>\n      <th>Line Late Prop</th>\n    </tr>\n  </thead>\n  <tbody>\n    <tr>\n      <td>0</td>\n      <td>2020-01-02 00:00:00.000</td>\n      <td>216.0</td>\n      <td>79.0</td>\n      <td>70.0</td>\n      <td>365.0</td>\n      <td>0.591780</td>\n      <td>0.216438</td>\n      <td>0.191780</td>\n    </tr>\n    <tr>\n      <td>1</td>\n      <td>2020-01-03 00:00:00.000</td>\n      <td>156.0</td>\n      <td>42.0</td>\n      <td>87.0</td>\n      <td>285.0</td>\n      <td>0.547368</td>\n      <td>0.147368</td>\n      <td>0.305263</td>\n    </tr>\n    <tr>\n      <td>2</td>\n      <td>2020-01-06 00:00:00.000</td>\n      <td>264.0</td>\n      <td>22.0</td>\n      <td>131.0</td>\n      <td>417.0</td>\n      <td>0.633093</td>\n      <td>0.052757</td>\n      <td>0.314148</td>\n    </tr>\n    <tr>\n      <td>3</td>\n      <td>2020-01-07 00:00:00.000</td>\n      <td>357.0</td>\n      <td>15.0</td>\n      <td>185.0</td>\n      <td>557.0</td>\n      <td>0.640933</td>\n      <td>0.026929</td>\n      <td>0.332136</td>\n    </tr>\n    <tr>\n      <td>4</td>\n      <td>2020-01-08 00:00:00.000</td>\n      <td>283.0</td>\n      <td>23.0</td>\n      <td>94.0</td>\n      <td>400.0</td>\n      <td>0.707500</td>\n      <td>0.057500</td>\n      <td>0.235000</td>\n    </tr>\n  </tbody>\n</table>\n</div>",
      "text/plain": "              Posting Date  Line Early  Line On-Time  Line Late  Total Lines  \\\n0  2020-01-02 00:00:00.000       216.0          79.0       70.0        365.0   \n1  2020-01-03 00:00:00.000       156.0          42.0       87.0        285.0   \n2  2020-01-06 00:00:00.000       264.0          22.0      131.0        417.0   \n3  2020-01-07 00:00:00.000       357.0          15.0      185.0        557.0   \n4  2020-01-08 00:00:00.000       283.0          23.0       94.0        400.0   \n\n   Line Early Prop  Line On-Time Prop  Line Late Prop  \n0         0.591780           0.216438        0.191780  \n1         0.547368           0.147368        0.305263  \n2         0.633093           0.052757        0.314148  \n3         0.640933           0.026929        0.332136  \n4         0.707500           0.057500        0.235000  "
     },
     "execution_count": 41,
     "metadata": {},
     "output_type": "execute_result"
    }
   ],
   "source": [
    "ships = pd.read_csv('G:\\Shared drives\\Sale\\Escuela\\Elmhurst_MSDS\\MDS_576_research_methods\\shipments.csv')\n",
    "\n",
    "ships.head(5)"
   ]
  },
  {
   "cell_type": "markdown",
   "execution_count": null,
   "metadata": {},
   "outputs": [],
   "source": [
    "As can be seen above, the final result is a dataframe at a daily grain that contains several calculated values:\n",
    "- Line Early/On-Time/Late = the count of lines which shipped early/on-time/late\n",
    "- Total Lines = the count of all lines shipped that daily\n",
    "- Line Early/On-Time/Late Prop = the proportion of all lines in that day that shipped early/on-time/late\n",
    "\n",
    "These values are both nominal and relative in order to provide additional features for modeling, and is also commonplace in our organzation for providing a clearer picture of what is going on at the factory (in effect it provides volume and normalized performance data)."
   ]
  },
  {
   "cell_type": "markdown",
   "execution_count": null,
   "metadata": {},
   "outputs": [],
   "source": [
    "### On-Time Completion\n",
    "\n",
    "On-Time Completion is very similar to the On-Time Shipments in concept, but has metrics for two different methods: lines and hours. Lines provide us the number of different production orders while hours provides a more normalized value (not truly normalized, but it is what we use to level load the production centers). It is also entirely possible to break down this concept even further (to the work center, or building) but this would likely be less valuable information as workers can be moved between work centers, thus negating some of the largest swings. Further granularity would also require tooling other than SQL, as the pivoting/melting functions are not as robust (as can be seen in the somewhat convluded code below)."
   ]
  },
  {
   "cell_type": "code",
   "execution_count": null,
   "metadata": {},
   "outputs": [],
   "source": [
    "# DROP TABLE IF EXISTS #prod_orders\n",
    "# DROP TABLE IF EXISTS #prod_time\n",
    "# DROP TABLE IF EXISTS #prod_group\n",
    "# DROP TABLE IF EXISTS #lines\n",
    "# DROP TABLE IF EXISTS #time\n",
    "\n",
    "# SELECT *\n",
    "# INTO #prod_orders\n",
    "# FROM (\n",
    "# \tSELECT pol.[Prod_ Order No_]\n",
    "# \t\t,pol.[Line No_]\n",
    "# \t\t,(CASE \n",
    "# \t\t\tWHEN pol.[Modified Ending Date] != '1753-01-01 00:00:00.000' THEN pol.[Modified Ending Date]\n",
    "# \t\t\tELSE pol.[Ending Date]\n",
    "# \t\t\tEND\n",
    "# \t\t\t) AS 'Modified Ending Date' --Specialty field for level loading the prodution floor, built on a due date and modifier\n",
    "# \t\t,porl.[Run Time] * pol.[Quantity] AS 'Total Run Time' --Time to build\n",
    "# \t\t,(SELECT MAX(cle.[Posting Date])\n",
    "# \t\t\tFROM [TGW-ERMANCO$Capacity Ledger Entry] AS cle\n",
    "# \t\t\tWHERE cle.[Prod_ Order No_] = pol.[Prod_ Order No_]\n",
    "# \t\t\t\tAND cle.[Prod_ Order Line No_] = pol.[Line No_]\n",
    "# \t\t\t\tAND cle.[Work Center No_] = 'PUTAWAY'\n",
    "# \t\t\t) AS 'Putaway Date' --Date in which the worker completes the assembly and the item goes on stock for shipment\n",
    "# \tFROM [TGW-ERMANCO$Prod_ Order Line] AS pol\n",
    "# \t\tLEFT JOIN [TGW-ERMANCO$Prod_ Order Routing Line] AS porl\n",
    "# \t\t\tON pol.[Prod_ Order No_] = porl.[Prod_ Order No_]\n",
    "# \tWHERE porl.[Process Structure Code] = 'ASS' --Unfortunate naming convention for Assembly\n",
    "# \t\tAND pol.[Modified Ending Date] BETWEEN '01/01/2020' AND '07/31/2020'\n",
    "# \t\tAND pol.[Item Category Code] = 'PRODUCT' --Only looking for items which we are producing (we could have an outside supplier with some other categories)\n",
    "# \t\tAND pol.[Status] = 4 --Completed\n",
    "# \t\tAND pol.[Destination] IN (SELECT [No_]\n",
    "# \t\t\t\t\t\t\t\t\tFROM [TGW-ERMANCO$Work Center]\n",
    "# \t\t\t\t\t\t\t\t\tWHERE [Active Reporting] = 1\n",
    "# \t\t\t\t\t\t\t\t\t) --The work centers that are considered relevant in our business\n",
    "# \t) AS prod_orders\n",
    "\n",
    "# SELECT *\n",
    "# INTO #prod_time\n",
    "# FROM (\n",
    "# \tSELECT prod_ords.*\n",
    "# \t\t,CASE \n",
    "# \t\t\tWHEN prod_ords.[Putaway Date] > prod_ords.[Modified Ending Date]\n",
    "# \t\t\t\tTHEN 'Late'\n",
    "# \t\t\tWHEN prod_ords.[Putaway Date] < prod_ords.[Modified Ending Date]\n",
    "# \t\t\t\tTHEN 'Early'\n",
    "# \t\t\tWHEN prod_ords.[Putaway Date] = prod_ords.[Modified Ending Date]\n",
    "# \t\t\t\tTHEN 'On-Time'\n",
    "# \t\t\tELSE 'N/A'\n",
    "# \t\t\tEND AS 'On-Time Status'\n",
    "# \tFROM #prod_orders AS prod_ords\n",
    "# \t) AS prod_time\n",
    "\n",
    "# SELECT *\n",
    "# INTO #prod_group\n",
    "# FROM (\n",
    "# \tSELECT prod_time.[Putaway Date]\n",
    "# \t\t,prod_time.[On-Time Status]\n",
    "# \t\t,CAST(COUNT(prod_time.[Line No_]) AS decimal(20,6)) AS 'Line Count'\n",
    "# \t\t,SUM(prod_time.[Total Run Time]) AS 'Total Run Time'\n",
    "# \tFROM #prod_time AS prod_time\n",
    "# \tGROUP BY prod_time.[Putaway Date]\n",
    "# \t\t,prod_time.[On-Time Status]\n",
    "# \t) AS prod_group\n",
    "\n",
    "# SELECT *\n",
    "# \t,[Line Early] / [Total Lines] AS 'Line Early Prop'\n",
    "# \t,[Line On-Time] / [Total Lines] AS 'Line On-Time Prop'\n",
    "# \t,[Line Late]/ [Total Lines] AS 'Line Late Prop'\n",
    "# INTO #line\n",
    "# FROM (\n",
    "# \tSELECT [Putaway Date]\n",
    "# \t\t,ISNULL([Early],0) AS 'Line Early'\n",
    "# \t\t,ISNULL([On-Time],0) AS 'Line On-Time'\n",
    "# \t\t,ISNULL([Late],0) AS 'Line Late'\n",
    "# \t\t,ISNULL([Early],0) + ISNULL([On-Time],0) + ISNULL([Late],0) AS 'Total Lines'\n",
    "# \tFROM (\n",
    "# \t\tSELECT [Putaway Date]\n",
    "# \t\t\t,[Line Count]\n",
    "# \t\t\t,[On-Time Status]\n",
    "# \t\tFROM #prod_group\n",
    "# \t\t) AS piv_src\n",
    "# \tPIVOT (\n",
    "# \t\tSUM(piv_src.[Line Count])\n",
    "# \t\tFOR piv_src.[On-Time Status] IN ([Early],[On-Time],[Late])\n",
    "# \t\t) AS piv\n",
    "# \t) AS input\n",
    "# ORDER BY input.[Putaway Date]\n",
    "\n",
    "# SELECT *\n",
    "# \t,[Time Early] / [Total Time] AS 'Time Early Prop'\n",
    "# \t,[Time On-Time] / [Total Time] AS 'Time On-Time Prop'\n",
    "# \t,[Time Late]/ [Total Time] AS 'Time Late Prop'\n",
    "# INTO #time\n",
    "# FROM (\n",
    "# \tSELECT [Putaway Date]\n",
    "# \t\t,ISNULL([Early],0) AS 'Time Early'\n",
    "# \t\t,ISNULL([On-Time],0) AS 'Time On-Time'\n",
    "# \t\t,ISNULL([Late],0) AS 'Time Late'\n",
    "# \t\t,ISNULL([Early],0) + ISNULL([On-Time],0) + ISNULL([Late],0) AS 'Total Time'\n",
    "# \tFROM (\n",
    "# \t\tSELECT [Putaway Date]\n",
    "# \t\t\t,[Total Run Time]\n",
    "# \t\t\t,[On-Time Status]\n",
    "# \t\tFROM #prod_group\n",
    "# \t\t) AS piv_src\n",
    "# \tPIVOT (\n",
    "# \t\tSUM(piv_src.[Total Run Time])\n",
    "# \t\tFOR piv_src.[On-Time Status] IN ([Early],[On-Time],[Late])\n",
    "# \t\t) AS piv\n",
    "# \t) AS input\n",
    "# ORDER BY input.[Putaway Date]\n",
    "\n",
    "# SELECT lines.*\n",
    "# \t,times.*\n",
    "# FROM #line AS lines\n",
    "# \tLEFT JOIN #time AS times\n",
    "# \t\tON lines.[Putaway Date] = times.[Putaway Date]"
   ]
  },
  {
   "cell_type": "code",
   "execution_count": 42,
   "metadata": {},
   "outputs": [
    {
     "data": {
      "text/html": "<div>\n<style scoped>\n    .dataframe tbody tr th:only-of-type {\n        vertical-align: middle;\n    }\n\n    .dataframe tbody tr th {\n        vertical-align: top;\n    }\n\n    .dataframe thead th {\n        text-align: right;\n    }\n</style>\n<table border=\"1\" class=\"dataframe\">\n  <thead>\n    <tr style=\"text-align: right;\">\n      <th></th>\n      <th>Putaway Date</th>\n      <th>Line Early</th>\n      <th>Line On-Time</th>\n      <th>Line Late</th>\n      <th>Total Lines</th>\n      <th>Line Early Prop</th>\n      <th>Line On-Time Prop</th>\n      <th>Line Late Prop</th>\n      <th>Putaway Date.1</th>\n      <th>Time Early</th>\n      <th>Time On-Time</th>\n      <th>Time Late</th>\n      <th>Total Time</th>\n      <th>Time Early Prop</th>\n      <th>Time On-Time Prop</th>\n      <th>Time Late Prop</th>\n    </tr>\n  </thead>\n  <tbody>\n    <tr>\n      <td>0</td>\n      <td>2020-03-11 00:00:00.000</td>\n      <td>0.0</td>\n      <td>0.0</td>\n      <td>173.0</td>\n      <td>173.0</td>\n      <td>0.0</td>\n      <td>0.0</td>\n      <td>1.0</td>\n      <td>2020-03-11 00:00:00.000</td>\n      <td>0.0</td>\n      <td>0.0</td>\n      <td>301.3413</td>\n      <td>301.3413</td>\n      <td>0.0</td>\n      <td>0.0</td>\n      <td>1.0</td>\n    </tr>\n    <tr>\n      <td>1</td>\n      <td>2020-03-12 00:00:00.000</td>\n      <td>0.0</td>\n      <td>0.0</td>\n      <td>215.0</td>\n      <td>215.0</td>\n      <td>0.0</td>\n      <td>0.0</td>\n      <td>1.0</td>\n      <td>2020-03-12 00:00:00.000</td>\n      <td>0.0</td>\n      <td>0.0</td>\n      <td>308.7788</td>\n      <td>308.7788</td>\n      <td>0.0</td>\n      <td>0.0</td>\n      <td>1.0</td>\n    </tr>\n    <tr>\n      <td>2</td>\n      <td>2020-03-13 00:00:00.000</td>\n      <td>0.0</td>\n      <td>0.0</td>\n      <td>128.0</td>\n      <td>128.0</td>\n      <td>0.0</td>\n      <td>0.0</td>\n      <td>1.0</td>\n      <td>2020-03-13 00:00:00.000</td>\n      <td>0.0</td>\n      <td>0.0</td>\n      <td>247.6972</td>\n      <td>247.6972</td>\n      <td>0.0</td>\n      <td>0.0</td>\n      <td>1.0</td>\n    </tr>\n    <tr>\n      <td>3</td>\n      <td>2020-03-14 00:00:00.000</td>\n      <td>0.0</td>\n      <td>0.0</td>\n      <td>91.0</td>\n      <td>91.0</td>\n      <td>0.0</td>\n      <td>0.0</td>\n      <td>1.0</td>\n      <td>2020-03-14 00:00:00.000</td>\n      <td>0.0</td>\n      <td>0.0</td>\n      <td>105.1593</td>\n      <td>105.1593</td>\n      <td>0.0</td>\n      <td>0.0</td>\n      <td>1.0</td>\n    </tr>\n    <tr>\n      <td>4</td>\n      <td>2020-03-16 00:00:00.000</td>\n      <td>0.0</td>\n      <td>0.0</td>\n      <td>189.0</td>\n      <td>189.0</td>\n      <td>0.0</td>\n      <td>0.0</td>\n      <td>1.0</td>\n      <td>2020-03-16 00:00:00.000</td>\n      <td>0.0</td>\n      <td>0.0</td>\n      <td>289.8514</td>\n      <td>289.8514</td>\n      <td>0.0</td>\n      <td>0.0</td>\n      <td>1.0</td>\n    </tr>\n  </tbody>\n</table>\n</div>",
      "text/plain": "              Putaway Date  Line Early  Line On-Time  Line Late  Total Lines  \\\n0  2020-03-11 00:00:00.000         0.0           0.0      173.0        173.0   \n1  2020-03-12 00:00:00.000         0.0           0.0      215.0        215.0   \n2  2020-03-13 00:00:00.000         0.0           0.0      128.0        128.0   \n3  2020-03-14 00:00:00.000         0.0           0.0       91.0         91.0   \n4  2020-03-16 00:00:00.000         0.0           0.0      189.0        189.0   \n\n   Line Early Prop  Line On-Time Prop  Line Late Prop  \\\n0              0.0                0.0             1.0   \n1              0.0                0.0             1.0   \n2              0.0                0.0             1.0   \n3              0.0                0.0             1.0   \n4              0.0                0.0             1.0   \n\n            Putaway Date.1  Time Early  Time On-Time  Time Late  Total Time  \\\n0  2020-03-11 00:00:00.000         0.0           0.0   301.3413    301.3413   \n1  2020-03-12 00:00:00.000         0.0           0.0   308.7788    308.7788   \n2  2020-03-13 00:00:00.000         0.0           0.0   247.6972    247.6972   \n3  2020-03-14 00:00:00.000         0.0           0.0   105.1593    105.1593   \n4  2020-03-16 00:00:00.000         0.0           0.0   289.8514    289.8514   \n\n   Time Early Prop  Time On-Time Prop  Time Late Prop  \n0              0.0                0.0             1.0  \n1              0.0                0.0             1.0  \n2              0.0                0.0             1.0  \n3              0.0                0.0             1.0  \n4              0.0                0.0             1.0  "
     },
     "execution_count": 42,
     "metadata": {},
     "output_type": "execute_result"
    }
   ],
   "source": [
    "prods = pd.read_csv('G:\\Shared drives\\Sale\\Escuela\\Elmhurst_MSDS\\MDS_576_research_methods\\production_orders.csv')\n",
    "\n",
    "prods.head()"
   ]
  },
  {
   "cell_type": "markdown",
   "execution_count": null,
   "metadata": {},
   "outputs": [],
   "source": [
    "Just like the On-Time Shipments data, this dataset contains the line level information by on-time status, as well as the hours of production in a similar method. The left join was required due to the difficulty with the UNPIVOT and PIVOT functions of SQL Server. Perhaps a method in Python would be superior."
   ]
  },
  {
   "cell_type": "markdown",
   "execution_count": null,
   "metadata": {},
   "outputs": [],
   "source": [
    "### Covid-19 Cases/Deaths\n",
    "\n",
    "The Covid-19 datasets are collected from usafacts.org (https://usafacts.org/visualizations/coronavirus-covid-19-spread-map/) which is an organization that collects governmental datasets and published them to the public. The county level data available on their site is used both by the CDC and John's Hopkins University (both of which are leading the response to the pandemic). This data is collected in three main components: known cases, deaths, and county population. These three sets are imported (from csv that was downloaded from usafact.org with accurate data through 7/27) and then altered to provide the known cases and deaths for the US as a whole, for Michigan, and for Muskegon county (this is where Company A is located). They are also altered to give the relative cases and deaths per 100k population.\n"
   ]
  },
  {
   "cell_type": "code",
   "execution_count": 15,
   "metadata": {},
   "outputs": [
    {
     "data": {
      "text/html": "<div>\n<style scoped>\n    .dataframe tbody tr th:only-of-type {\n        vertical-align: middle;\n    }\n\n    .dataframe tbody tr th {\n        vertical-align: top;\n    }\n\n    .dataframe thead th {\n        text-align: right;\n    }\n</style>\n<table border=\"1\" class=\"dataframe\">\n  <thead>\n    <tr style=\"text-align: right;\">\n      <th></th>\n      <th>countyFIPS</th>\n      <th>County Name</th>\n      <th>State</th>\n      <th>stateFIPS</th>\n      <th>1/22/20</th>\n      <th>1/23/20</th>\n      <th>1/24/20</th>\n      <th>1/25/20</th>\n      <th>1/26/20</th>\n      <th>1/27/20</th>\n      <th>...</th>\n      <th>7/18/20</th>\n      <th>7/19/20</th>\n      <th>7/20/20</th>\n      <th>7/21/20</th>\n      <th>7/22/20</th>\n      <th>7/23/20</th>\n      <th>7/24/20</th>\n      <th>7/25/20</th>\n      <th>7/26/20</th>\n      <th>7/27/20</th>\n    </tr>\n  </thead>\n  <tbody>\n    <tr>\n      <td>0</td>\n      <td>0</td>\n      <td>Statewide Unallocated</td>\n      <td>AL</td>\n      <td>1</td>\n      <td>0</td>\n      <td>0</td>\n      <td>0</td>\n      <td>0</td>\n      <td>0</td>\n      <td>0</td>\n      <td>...</td>\n      <td>0</td>\n      <td>0</td>\n      <td>0</td>\n      <td>0</td>\n      <td>0</td>\n      <td>0</td>\n      <td>0</td>\n      <td>0</td>\n      <td>0</td>\n      <td>0</td>\n    </tr>\n    <tr>\n      <td>1</td>\n      <td>1001</td>\n      <td>Autauga County</td>\n      <td>AL</td>\n      <td>1</td>\n      <td>0</td>\n      <td>0</td>\n      <td>0</td>\n      <td>0</td>\n      <td>0</td>\n      <td>0</td>\n      <td>...</td>\n      <td>827</td>\n      <td>842</td>\n      <td>857</td>\n      <td>865</td>\n      <td>886</td>\n      <td>905</td>\n      <td>921</td>\n      <td>932</td>\n      <td>942</td>\n      <td>974</td>\n    </tr>\n    <tr>\n      <td>2</td>\n      <td>1003</td>\n      <td>Baldwin County</td>\n      <td>AL</td>\n      <td>1</td>\n      <td>0</td>\n      <td>0</td>\n      <td>0</td>\n      <td>0</td>\n      <td>0</td>\n      <td>0</td>\n      <td>...</td>\n      <td>1819</td>\n      <td>1937</td>\n      <td>2013</td>\n      <td>2102</td>\n      <td>2196</td>\n      <td>2461</td>\n      <td>2513</td>\n      <td>2662</td>\n      <td>2708</td>\n      <td>2836</td>\n    </tr>\n  </tbody>\n</table>\n<p>3 rows × 192 columns</p>\n</div>",
      "text/plain": "   countyFIPS            County Name State  stateFIPS  1/22/20  1/23/20  \\\n0           0  Statewide Unallocated    AL          1        0        0   \n1        1001         Autauga County    AL          1        0        0   \n2        1003         Baldwin County    AL          1        0        0   \n\n   1/24/20  1/25/20  1/26/20  1/27/20  ...  7/18/20  7/19/20  7/20/20  \\\n0        0        0        0        0  ...        0        0        0   \n1        0        0        0        0  ...      827      842      857   \n2        0        0        0        0  ...     1819     1937     2013   \n\n   7/21/20  7/22/20  7/23/20  7/24/20  7/25/20  7/26/20  7/27/20  \n0        0        0        0        0        0        0        0  \n1      865      886      905      921      932      942      974  \n2     2102     2196     2461     2513     2662     2708     2836  \n\n[3 rows x 192 columns]"
     },
     "execution_count": 15,
     "metadata": {},
     "output_type": "execute_result"
    }
   ],
   "source": [
    "#Import datasets\n",
    "cases = pd.read_csv('G:\\Shared drives\\Sale\\Escuela\\Elmhurst_MSDS\\MDS_576_research_methods\\covid_confirmed_usafacts.csv')\n",
    "deaths = pd.read_csv('G:\\Shared drives\\Sale\\Escuela\\Elmhurst_MSDS\\MDS_576_research_methods\\covid_deaths_usafacts.csv')\n",
    "pop = pd.read_csv('G:\\Shared drives\\Sale\\Escuela\\Elmhurst_MSDS\\MDS_576_research_methods\\covid_county_population_usafacts.csv')\n",
    "\n",
    "cases.head(3)"
   ]
  },
  {
   "cell_type": "code",
   "execution_count": 5,
   "metadata": {},
   "outputs": [
    {
     "data": {
      "text/html": "<div>\n<style scoped>\n    .dataframe tbody tr th:only-of-type {\n        vertical-align: middle;\n    }\n\n    .dataframe tbody tr th {\n        vertical-align: top;\n    }\n\n    .dataframe thead th {\n        text-align: right;\n    }\n</style>\n<table border=\"1\" class=\"dataframe\">\n  <thead>\n    <tr style=\"text-align: right;\">\n      <th></th>\n      <th>Total National Cases</th>\n      <th>New National Cases</th>\n      <th>Total National Deaths</th>\n      <th>New National Deaths</th>\n      <th>National Population</th>\n      <th>National Cases/100k</th>\n      <th>National Deaths/100k</th>\n      <th>National Case Increase Percent</th>\n    </tr>\n  </thead>\n  <tbody>\n    <tr>\n      <td>7/23/20</td>\n      <td>4006505.0</td>\n      <td>68408.0</td>\n      <td>142803.0</td>\n      <td>1083.0</td>\n      <td>328239523</td>\n      <td>1220.604077</td>\n      <td>43.505730</td>\n      <td>1.737083</td>\n    </tr>\n    <tr>\n      <td>7/24/20</td>\n      <td>4080584.0</td>\n      <td>74079.0</td>\n      <td>144031.0</td>\n      <td>1228.0</td>\n      <td>328239523</td>\n      <td>1243.172657</td>\n      <td>43.879847</td>\n      <td>1.848968</td>\n    </tr>\n    <tr>\n      <td>7/25/20</td>\n      <td>4145071.0</td>\n      <td>64487.0</td>\n      <td>144706.0</td>\n      <td>675.0</td>\n      <td>328239523</td>\n      <td>1262.818981</td>\n      <td>44.085489</td>\n      <td>1.580338</td>\n    </tr>\n    <tr>\n      <td>7/26/20</td>\n      <td>4199864.0</td>\n      <td>54793.0</td>\n      <td>145154.0</td>\n      <td>448.0</td>\n      <td>328239523</td>\n      <td>1279.511974</td>\n      <td>44.221975</td>\n      <td>1.321883</td>\n    </tr>\n    <tr>\n      <td>7/27/20</td>\n      <td>4259226.0</td>\n      <td>59362.0</td>\n      <td>146858.0</td>\n      <td>1704.0</td>\n      <td>328239523</td>\n      <td>1297.596938</td>\n      <td>44.741108</td>\n      <td>1.413427</td>\n    </tr>\n  </tbody>\n</table>\n</div>",
      "text/plain": "         Total National Cases  New National Cases  Total National Deaths  \\\n7/23/20             4006505.0             68408.0               142803.0   \n7/24/20             4080584.0             74079.0               144031.0   \n7/25/20             4145071.0             64487.0               144706.0   \n7/26/20             4199864.0             54793.0               145154.0   \n7/27/20             4259226.0             59362.0               146858.0   \n\n         New National Deaths  National Population  National Cases/100k  \\\n7/23/20               1083.0            328239523          1220.604077   \n7/24/20               1228.0            328239523          1243.172657   \n7/25/20                675.0            328239523          1262.818981   \n7/26/20                448.0            328239523          1279.511974   \n7/27/20               1704.0            328239523          1297.596938   \n\n         National Deaths/100k  National Case Increase Percent  \n7/23/20             43.505730                        1.737083  \n7/24/20             43.879847                        1.848968  \n7/25/20             44.085489                        1.580338  \n7/26/20             44.221975                        1.321883  \n7/27/20             44.741108                        1.413427  "
     },
     "execution_count": 5,
     "metadata": {},
     "output_type": "execute_result"
    }
   ],
   "source": [
    "#Capture the sum of US cases\n",
    "cases_us = cases\n",
    "cases_us.loc['Total',:] = cases_us.sum(axis=0)\n",
    "cases_us = cases_us.filter(like='Total' ,axis=0)\n",
    "\n",
    "# Remove unncessary fields and transpose to prepare for joins\n",
    "cases_us = cases_us.drop(['countyFIPS','County Name','State','stateFIPS'], axis=1)\n",
    "cases_us_t = cases_us.transpose()\n",
    "\n",
    "#Add the number of new cases\n",
    "cases_us_t['New Cases'] = cases_us_t.diff()\n",
    "\n",
    "#Capture the sum of US deaths\n",
    "deaths_us = deaths\n",
    "deaths_us.loc['Total',:] = deaths_us.sum(axis=0)\n",
    "deaths_us = deaths_us.filter(like='Total' ,axis=0)\n",
    "\n",
    "# Remove unncessary fields and transpose to prepare for joins\n",
    "deaths_us = deaths_us.drop(['countyFIPS','County Name','State','stateFIPS'], axis=1)\n",
    "deaths_us_t = deaths_us.transpose()\n",
    "\n",
    "#Add the number of new cases\n",
    "deaths_us_t['New Deaths'] = deaths_us_t.diff()\n",
    "\n",
    "#Capture the sum of US population\n",
    "pop_us = pop['population'].sum()\n",
    "\n",
    "#Join the US cases, deaths, and population\n",
    "all_us = pd.merge(cases_us_t, deaths_us_t, left_index=True, right_index=True)\n",
    "all_us['National Population'] = pop_us\n",
    "all_us = all_us.rename(columns={'Total_x':'Total National Cases','Total_y':'Total National Deaths','Total Cases':'Total National Cases','Total Deaths':'Total National Deaths','New Cases':'New National Cases','New Deaths':'New National Deaths'})\n",
    "\n",
    "#Add relative values for new cases and deaths compared to population\n",
    "all_us['National Cases/100k'] = (all_us['Total National Cases']/all_us['National Population']) * 100000\n",
    "all_us['National Deaths/100k'] = (all_us['Total National Deaths']/all_us['National Population']) * 100000\n",
    "\n",
    "#Create a relative gain in cases and deaths (new cases/deaths vs. previous days total cases)\n",
    "all_us['National Case Increase Percent'] = (all_us['New National Cases'] / all_us['Total National Cases'].shift(1)) * 100\n",
    "\n",
    "all_us.tail()"
   ]
  },
  {
   "cell_type": "code",
   "execution_count": 6,
   "metadata": {},
   "outputs": [
    {
     "data": {
      "text/html": "<div>\n<style scoped>\n    .dataframe tbody tr th:only-of-type {\n        vertical-align: middle;\n    }\n\n    .dataframe tbody tr th {\n        vertical-align: top;\n    }\n\n    .dataframe thead th {\n        text-align: right;\n    }\n</style>\n<table border=\"1\" class=\"dataframe\">\n  <thead>\n    <tr style=\"text-align: right;\">\n      <th></th>\n      <th>Total MI Cases</th>\n      <th>New MI Cases</th>\n      <th>Total MI Deaths</th>\n      <th>New MI Deaths</th>\n      <th>MI Population</th>\n      <th>MI Cases/100k</th>\n      <th>MI Deaths/100k</th>\n      <th>MI Case Increase Percent</th>\n    </tr>\n  </thead>\n  <tbody>\n    <tr>\n      <td>7/23/20</td>\n      <td>84425.0</td>\n      <td>712.0</td>\n      <td>6389.0</td>\n      <td>5.0</td>\n      <td>9986857</td>\n      <td>845.361058</td>\n      <td>63.974081</td>\n      <td>0.850525</td>\n    </tr>\n    <tr>\n      <td>7/24/20</td>\n      <td>85064.0</td>\n      <td>639.0</td>\n      <td>6393.0</td>\n      <td>4.0</td>\n      <td>9986857</td>\n      <td>851.759467</td>\n      <td>64.014134</td>\n      <td>0.756885</td>\n    </tr>\n    <tr>\n      <td>7/25/20</td>\n      <td>85599.0</td>\n      <td>535.0</td>\n      <td>6400.0</td>\n      <td>7.0</td>\n      <td>9986857</td>\n      <td>857.116508</td>\n      <td>64.084226</td>\n      <td>0.628938</td>\n    </tr>\n    <tr>\n      <td>7/26/20</td>\n      <td>86648.0</td>\n      <td>1049.0</td>\n      <td>6400.0</td>\n      <td>0.0</td>\n      <td>9986857</td>\n      <td>867.620313</td>\n      <td>64.084226</td>\n      <td>1.225482</td>\n    </tr>\n    <tr>\n      <td>7/27/20</td>\n      <td>87173.0</td>\n      <td>525.0</td>\n      <td>6405.0</td>\n      <td>5.0</td>\n      <td>9986857</td>\n      <td>872.877223</td>\n      <td>64.134292</td>\n      <td>0.605900</td>\n    </tr>\n  </tbody>\n</table>\n</div>",
      "text/plain": "         Total MI Cases  New MI Cases  Total MI Deaths  New MI Deaths  \\\n7/23/20         84425.0         712.0           6389.0            5.0   \n7/24/20         85064.0         639.0           6393.0            4.0   \n7/25/20         85599.0         535.0           6400.0            7.0   \n7/26/20         86648.0        1049.0           6400.0            0.0   \n7/27/20         87173.0         525.0           6405.0            5.0   \n\n         MI Population  MI Cases/100k  MI Deaths/100k  \\\n7/23/20        9986857     845.361058       63.974081   \n7/24/20        9986857     851.759467       64.014134   \n7/25/20        9986857     857.116508       64.084226   \n7/26/20        9986857     867.620313       64.084226   \n7/27/20        9986857     872.877223       64.134292   \n\n         MI Case Increase Percent  \n7/23/20                  0.850525  \n7/24/20                  0.756885  \n7/25/20                  0.628938  \n7/26/20                  1.225482  \n7/27/20                  0.605900  "
     },
     "execution_count": 6,
     "metadata": {},
     "output_type": "execute_result"
    }
   ],
   "source": [
    "#Capture the sum of Michigan cases\n",
    "cases_mi = cases\n",
    "cases_mi = cases_mi[cases_mi['State']=='MI']\n",
    "cases_mi.loc['Total',:] = cases_mi.sum(axis=0)\n",
    "cases_mi = cases_mi.filter(like='Total' ,axis=0)\n",
    "\n",
    "# Remove unncessary fields and transpose to prepare for joins\n",
    "cases_mi = cases_mi.drop(['countyFIPS','County Name','State','stateFIPS'], axis=1)\n",
    "cases_mi_t = cases_mi.transpose()\n",
    "\n",
    "#Add the number of new cases\n",
    "cases_mi_t['New MI Cases'] = cases_mi_t.diff()\n",
    "\n",
    "#Capture the sum of MI deaths\n",
    "deaths_mi = deaths\n",
    "deaths_mi = deaths_mi[deaths_mi['State']=='MI']\n",
    "deaths_mi.loc['Total',:] = deaths_mi.sum(axis=0)\n",
    "deaths_mi = deaths_mi.filter(like='Total' ,axis=0)\n",
    "\n",
    "# Remove unncessary fields and transpose to prepare for joins\n",
    "deaths_mi = deaths_mi.drop(['countyFIPS','County Name','State','stateFIPS'], axis=1)\n",
    "deaths_mi_t = deaths_mi.transpose()\n",
    "\n",
    "#Add the number of new cases\n",
    "deaths_mi_t['New MI Deaths'] = deaths_mi_t.diff()\n",
    "\n",
    "#Capture the sum of MI population\n",
    "pop_mi = pop[pop['State']=='MI']\n",
    "pop_mi = pop_mi['population'].sum()\n",
    "\n",
    "#Join the MI cases, deaths, and population\n",
    "all_mi = pd.merge(cases_mi_t, deaths_mi_t, left_index=True, right_index=True)\n",
    "all_mi['MI Population'] = pop_mi\n",
    "all_mi = all_mi.rename(columns={'Total_x':'Total MI Cases','Total_y':'Total MI Deaths','Total Cases':'Total MI Cases','Total Deaths':'Total MI Deaths','New Cases':'New MI Cases','New Deaths':'New MI Deaths'})\n",
    "\n",
    "#Add relative values for new cases and deaths compared to population\n",
    "all_mi['MI Cases/100k'] = (all_mi['Total MI Cases']/all_mi['MI Population']) * 100000\n",
    "all_mi['MI Deaths/100k'] = (all_mi['Total MI Deaths']/all_mi['MI Population']) * 100000\n",
    "\n",
    "#Create a relative gain in cases and deaths (new cases/deaths vs. previous days total cases)\n",
    "all_mi['MI Case Increase Percent'] = (all_mi['New MI Cases'] / all_mi['Total MI Cases'].shift(1)) * 100\n",
    "\n",
    "all_mi.tail()"
   ]
  },
  {
   "cell_type": "code",
   "execution_count": 7,
   "metadata": {},
   "outputs": [
    {
     "data": {
      "text/html": "<div>\n<style scoped>\n    .dataframe tbody tr th:only-of-type {\n        vertical-align: middle;\n    }\n\n    .dataframe tbody tr th {\n        vertical-align: top;\n    }\n\n    .dataframe thead th {\n        text-align: right;\n    }\n</style>\n<table border=\"1\" class=\"dataframe\">\n  <thead>\n    <tr style=\"text-align: right;\">\n      <th></th>\n      <th>Total Musk Cases</th>\n      <th>New Musk Cases</th>\n      <th>Total Musk Deaths</th>\n      <th>New Musk Deaths</th>\n      <th>Musk Population</th>\n      <th>Musk Cases/100k</th>\n      <th>Musk Deaths/100k</th>\n      <th>Musk Case Increase Percent</th>\n    </tr>\n  </thead>\n  <tbody>\n    <tr>\n      <td>7/23/20</td>\n      <td>1069.0</td>\n      <td>17.0</td>\n      <td>55.0</td>\n      <td>0.0</td>\n      <td>173566</td>\n      <td>615.904037</td>\n      <td>31.688234</td>\n      <td>1.615970</td>\n    </tr>\n    <tr>\n      <td>7/24/20</td>\n      <td>1072.0</td>\n      <td>3.0</td>\n      <td>55.0</td>\n      <td>0.0</td>\n      <td>173566</td>\n      <td>617.632486</td>\n      <td>31.688234</td>\n      <td>0.280636</td>\n    </tr>\n    <tr>\n      <td>7/25/20</td>\n      <td>1072.0</td>\n      <td>0.0</td>\n      <td>56.0</td>\n      <td>1.0</td>\n      <td>173566</td>\n      <td>617.632486</td>\n      <td>32.264384</td>\n      <td>0.000000</td>\n    </tr>\n    <tr>\n      <td>7/26/20</td>\n      <td>1080.0</td>\n      <td>8.0</td>\n      <td>56.0</td>\n      <td>0.0</td>\n      <td>173566</td>\n      <td>622.241683</td>\n      <td>32.264384</td>\n      <td>0.746269</td>\n    </tr>\n    <tr>\n      <td>7/27/20</td>\n      <td>1089.0</td>\n      <td>9.0</td>\n      <td>56.0</td>\n      <td>0.0</td>\n      <td>173566</td>\n      <td>627.427031</td>\n      <td>32.264384</td>\n      <td>0.833333</td>\n    </tr>\n  </tbody>\n</table>\n</div>",
      "text/plain": "         Total Musk Cases  New Musk Cases  Total Musk Deaths  New Musk Deaths  \\\n7/23/20            1069.0            17.0               55.0              0.0   \n7/24/20            1072.0             3.0               55.0              0.0   \n7/25/20            1072.0             0.0               56.0              1.0   \n7/26/20            1080.0             8.0               56.0              0.0   \n7/27/20            1089.0             9.0               56.0              0.0   \n\n         Musk Population  Musk Cases/100k  Musk Deaths/100k  \\\n7/23/20           173566       615.904037         31.688234   \n7/24/20           173566       617.632486         31.688234   \n7/25/20           173566       617.632486         32.264384   \n7/26/20           173566       622.241683         32.264384   \n7/27/20           173566       627.427031         32.264384   \n\n         Musk Case Increase Percent  \n7/23/20                    1.615970  \n7/24/20                    0.280636  \n7/25/20                    0.000000  \n7/26/20                    0.746269  \n7/27/20                    0.833333  "
     },
     "execution_count": 7,
     "metadata": {},
     "output_type": "execute_result"
    }
   ],
   "source": [
    "#Capture the sum of Muskegon County cases\n",
    "cases_musk = cases\n",
    "cases_musk = cases_musk[cases_musk['State']=='MI']\n",
    "cases_musk = cases_musk[cases_musk['County Name']=='Muskegon County']\n",
    "cases_musk.loc['Total',:] = cases_musk.sum(axis=0)\n",
    "cases_musk = cases_musk.filter(like='Total' ,axis=0)\n",
    "\n",
    "# Remove unncessary fields and transpose to prepare for joins\n",
    "cases_musk = cases_musk.drop(['countyFIPS','County Name','State','stateFIPS'], axis=1)\n",
    "cases_musk_t = cases_musk.transpose()\n",
    "\n",
    "#Add the number of new cases\n",
    "cases_musk_t['New Musk Cases'] = cases_musk_t.diff()\n",
    "\n",
    "#Capture the sum of Muskegon deaths\n",
    "deaths_musk = deaths\n",
    "deaths_musk = deaths_musk[deaths_musk['State']=='MI']\n",
    "deaths_musk = deaths_musk[deaths_musk['County Name']=='Muskegon County']\n",
    "deaths_musk.loc['Total',:] = deaths_musk.sum(axis=0)\n",
    "deaths_musk = deaths_musk.filter(like='Total' ,axis=0)\n",
    "\n",
    "# Remove unncessary fields and transpose to prepare for joins\n",
    "deaths_musk = deaths_musk.drop(['countyFIPS','County Name','State','stateFIPS'], axis=1)\n",
    "deaths_musk_t = deaths_musk.transpose()\n",
    "\n",
    "#Add the number of new cases\n",
    "deaths_musk_t['New Musk Deaths'] = deaths_musk_t.diff()\n",
    "\n",
    "#Capture the sum of MI population\n",
    "pop_musk = pop[pop['State']=='MI']\n",
    "pop_musk = pop_musk[pop_musk['County Name']=='Muskegon County']\n",
    "pop_musk = pop_musk['population'].sum()\n",
    "\n",
    "#Join the MI cases, deaths, and population\n",
    "all_musk = pd.merge(cases_musk_t, deaths_musk_t, left_index=True, right_index=True)\n",
    "all_musk['Musk Population'] = pop_musk\n",
    "all_musk = all_musk.rename(columns={'Total_x':'Total Musk Cases','Total_y':'Total Musk Deaths','Total Cases':'Total Musk Cases','Total Deaths':'Total Musk Deaths','New Cases':'New Musk Cases','New Deaths':'New Musk Deaths'})\n",
    "\n",
    "#Add relative values for new cases and deaths compared to population\n",
    "all_musk['Musk Cases/100k'] = (all_musk['Total Musk Cases']/all_musk['Musk Population']) * 100000\n",
    "all_musk['Musk Deaths/100k'] = (all_musk['Total Musk Deaths']/all_musk['Musk Population']) * 100000\n",
    "\n",
    "#Create a relative gain in cases and deaths (new cases/deaths vs. previous days total cases)\n",
    "all_musk['Musk Case Increase Percent'] = (all_musk['New Musk Cases'] / all_musk['Total Musk Cases'].shift(1)) * 100\n",
    "\n",
    "all_musk.tail()"
   ]
  },
  {
   "cell_type": "code",
   "execution_count": 8,
   "metadata": {},
   "outputs": [
    {
     "data": {
      "text/html": "<div>\n<style scoped>\n    .dataframe tbody tr th:only-of-type {\n        vertical-align: middle;\n    }\n\n    .dataframe tbody tr th {\n        vertical-align: top;\n    }\n\n    .dataframe thead th {\n        text-align: right;\n    }\n</style>\n<table border=\"1\" class=\"dataframe\">\n  <thead>\n    <tr style=\"text-align: right;\">\n      <th></th>\n      <th>Total National Cases</th>\n      <th>New National Cases</th>\n      <th>Total National Deaths</th>\n      <th>New National Deaths</th>\n      <th>National Population</th>\n      <th>National Cases/100k</th>\n      <th>National Deaths/100k</th>\n      <th>National Case Increase Percent</th>\n      <th>Total MI Cases</th>\n      <th>New MI Cases</th>\n      <th>...</th>\n      <th>MI Deaths/100k</th>\n      <th>MI Case Increase Percent</th>\n      <th>Total Musk Cases</th>\n      <th>New Musk Cases</th>\n      <th>Total Musk Deaths</th>\n      <th>New Musk Deaths</th>\n      <th>Musk Population</th>\n      <th>Musk Cases/100k</th>\n      <th>Musk Deaths/100k</th>\n      <th>Musk Case Increase Percent</th>\n    </tr>\n  </thead>\n  <tbody>\n    <tr>\n      <td>7/23/20</td>\n      <td>4006505.0</td>\n      <td>68408.0</td>\n      <td>142803.0</td>\n      <td>1083.0</td>\n      <td>328239523</td>\n      <td>1220.604077</td>\n      <td>43.505730</td>\n      <td>1.737083</td>\n      <td>84425.0</td>\n      <td>712.0</td>\n      <td>...</td>\n      <td>63.974081</td>\n      <td>0.850525</td>\n      <td>1069.0</td>\n      <td>17.0</td>\n      <td>55.0</td>\n      <td>0.0</td>\n      <td>173566</td>\n      <td>615.904037</td>\n      <td>31.688234</td>\n      <td>1.615970</td>\n    </tr>\n    <tr>\n      <td>7/24/20</td>\n      <td>4080584.0</td>\n      <td>74079.0</td>\n      <td>144031.0</td>\n      <td>1228.0</td>\n      <td>328239523</td>\n      <td>1243.172657</td>\n      <td>43.879847</td>\n      <td>1.848968</td>\n      <td>85064.0</td>\n      <td>639.0</td>\n      <td>...</td>\n      <td>64.014134</td>\n      <td>0.756885</td>\n      <td>1072.0</td>\n      <td>3.0</td>\n      <td>55.0</td>\n      <td>0.0</td>\n      <td>173566</td>\n      <td>617.632486</td>\n      <td>31.688234</td>\n      <td>0.280636</td>\n    </tr>\n    <tr>\n      <td>7/25/20</td>\n      <td>4145071.0</td>\n      <td>64487.0</td>\n      <td>144706.0</td>\n      <td>675.0</td>\n      <td>328239523</td>\n      <td>1262.818981</td>\n      <td>44.085489</td>\n      <td>1.580338</td>\n      <td>85599.0</td>\n      <td>535.0</td>\n      <td>...</td>\n      <td>64.084226</td>\n      <td>0.628938</td>\n      <td>1072.0</td>\n      <td>0.0</td>\n      <td>56.0</td>\n      <td>1.0</td>\n      <td>173566</td>\n      <td>617.632486</td>\n      <td>32.264384</td>\n      <td>0.000000</td>\n    </tr>\n    <tr>\n      <td>7/26/20</td>\n      <td>4199864.0</td>\n      <td>54793.0</td>\n      <td>145154.0</td>\n      <td>448.0</td>\n      <td>328239523</td>\n      <td>1279.511974</td>\n      <td>44.221975</td>\n      <td>1.321883</td>\n      <td>86648.0</td>\n      <td>1049.0</td>\n      <td>...</td>\n      <td>64.084226</td>\n      <td>1.225482</td>\n      <td>1080.0</td>\n      <td>8.0</td>\n      <td>56.0</td>\n      <td>0.0</td>\n      <td>173566</td>\n      <td>622.241683</td>\n      <td>32.264384</td>\n      <td>0.746269</td>\n    </tr>\n    <tr>\n      <td>7/27/20</td>\n      <td>4259226.0</td>\n      <td>59362.0</td>\n      <td>146858.0</td>\n      <td>1704.0</td>\n      <td>328239523</td>\n      <td>1297.596938</td>\n      <td>44.741108</td>\n      <td>1.413427</td>\n      <td>87173.0</td>\n      <td>525.0</td>\n      <td>...</td>\n      <td>64.134292</td>\n      <td>0.605900</td>\n      <td>1089.0</td>\n      <td>9.0</td>\n      <td>56.0</td>\n      <td>0.0</td>\n      <td>173566</td>\n      <td>627.427031</td>\n      <td>32.264384</td>\n      <td>0.833333</td>\n    </tr>\n  </tbody>\n</table>\n<p>5 rows × 24 columns</p>\n</div>",
      "text/plain": "         Total National Cases  New National Cases  Total National Deaths  \\\n7/23/20             4006505.0             68408.0               142803.0   \n7/24/20             4080584.0             74079.0               144031.0   \n7/25/20             4145071.0             64487.0               144706.0   \n7/26/20             4199864.0             54793.0               145154.0   \n7/27/20             4259226.0             59362.0               146858.0   \n\n         New National Deaths  National Population  National Cases/100k  \\\n7/23/20               1083.0            328239523          1220.604077   \n7/24/20               1228.0            328239523          1243.172657   \n7/25/20                675.0            328239523          1262.818981   \n7/26/20                448.0            328239523          1279.511974   \n7/27/20               1704.0            328239523          1297.596938   \n\n         National Deaths/100k  National Case Increase Percent  Total MI Cases  \\\n7/23/20             43.505730                        1.737083         84425.0   \n7/24/20             43.879847                        1.848968         85064.0   \n7/25/20             44.085489                        1.580338         85599.0   \n7/26/20             44.221975                        1.321883         86648.0   \n7/27/20             44.741108                        1.413427         87173.0   \n\n         New MI Cases  ...  MI Deaths/100k  MI Case Increase Percent  \\\n7/23/20         712.0  ...       63.974081                  0.850525   \n7/24/20         639.0  ...       64.014134                  0.756885   \n7/25/20         535.0  ...       64.084226                  0.628938   \n7/26/20        1049.0  ...       64.084226                  1.225482   \n7/27/20         525.0  ...       64.134292                  0.605900   \n\n         Total Musk Cases  New Musk Cases  Total Musk Deaths  New Musk Deaths  \\\n7/23/20            1069.0            17.0               55.0              0.0   \n7/24/20            1072.0             3.0               55.0              0.0   \n7/25/20            1072.0             0.0               56.0              1.0   \n7/26/20            1080.0             8.0               56.0              0.0   \n7/27/20            1089.0             9.0               56.0              0.0   \n\n         Musk Population  Musk Cases/100k  Musk Deaths/100k  \\\n7/23/20           173566       615.904037         31.688234   \n7/24/20           173566       617.632486         31.688234   \n7/25/20           173566       617.632486         32.264384   \n7/26/20           173566       622.241683         32.264384   \n7/27/20           173566       627.427031         32.264384   \n\n         Musk Case Increase Percent  \n7/23/20                    1.615970  \n7/24/20                    0.280636  \n7/25/20                    0.000000  \n7/26/20                    0.746269  \n7/27/20                    0.833333  \n\n[5 rows x 24 columns]"
     },
     "execution_count": 8,
     "metadata": {},
     "output_type": "execute_result"
    }
   ],
   "source": [
    "#Combine the 3 sources based on the date index\n",
    "all_us_mi = pd.merge(all_us, all_mi, left_index=True, right_index=True)\n",
    "all_multi = pd.merge(all_us_mi, all_musk, left_index=True, right_index=True)\n",
    "\n",
    "all_multi.tail()"
   ]
  },
  {
   "cell_type": "markdown",
   "execution_count": null,
   "metadata": {},
   "outputs": [],
   "source": [
    "Additional Covid-19 datasets are generated from the mandates and executive orders for multiple governmental organizations. These dates and orders and captured from disparate sources that will be linked along with the information they provide. The data was then input into Excel (for speed and simplicity) based on the active dates, and was joined to the rest of the Covid-19 dataset."
   ]
  },
  {
   "cell_type": "code",
   "execution_count": 9,
   "metadata": {},
   "outputs": [
    {
     "data": {
      "text/html": "<div>\n<style scoped>\n    .dataframe tbody tr th:only-of-type {\n        vertical-align: middle;\n    }\n\n    .dataframe tbody tr th {\n        vertical-align: top;\n    }\n\n    .dataframe thead th {\n        text-align: right;\n    }\n</style>\n<table border=\"1\" class=\"dataframe\">\n  <thead>\n    <tr style=\"text-align: right;\">\n      <th></th>\n      <th>MI Stay at Home</th>\n      <th>MI State of Emergency</th>\n      <th>US Public Health Emergency</th>\n      <th>Stafford Act Emergency</th>\n      <th>National Emergencies Act</th>\n      <th>Defense Production Act</th>\n    </tr>\n    <tr>\n      <th>Date</th>\n      <th></th>\n      <th></th>\n      <th></th>\n      <th></th>\n      <th></th>\n      <th></th>\n    </tr>\n  </thead>\n  <tbody>\n    <tr>\n      <td>2020-01-01</td>\n      <td>0</td>\n      <td>0</td>\n      <td>0</td>\n      <td>0</td>\n      <td>0</td>\n      <td>0</td>\n    </tr>\n    <tr>\n      <td>2020-01-02</td>\n      <td>0</td>\n      <td>0</td>\n      <td>0</td>\n      <td>0</td>\n      <td>0</td>\n      <td>0</td>\n    </tr>\n    <tr>\n      <td>2020-01-03</td>\n      <td>0</td>\n      <td>0</td>\n      <td>0</td>\n      <td>0</td>\n      <td>0</td>\n      <td>0</td>\n    </tr>\n    <tr>\n      <td>2020-01-04</td>\n      <td>0</td>\n      <td>0</td>\n      <td>0</td>\n      <td>0</td>\n      <td>0</td>\n      <td>0</td>\n    </tr>\n    <tr>\n      <td>2020-01-05</td>\n      <td>0</td>\n      <td>0</td>\n      <td>0</td>\n      <td>0</td>\n      <td>0</td>\n      <td>0</td>\n    </tr>\n  </tbody>\n</table>\n</div>",
      "text/plain": "            MI Stay at Home  MI State of Emergency  \\\nDate                                                 \n2020-01-01                0                      0   \n2020-01-02                0                      0   \n2020-01-03                0                      0   \n2020-01-04                0                      0   \n2020-01-05                0                      0   \n\n            US Public Health Emergency  Stafford Act Emergency  \\\nDate                                                             \n2020-01-01                           0                       0   \n2020-01-02                           0                       0   \n2020-01-03                           0                       0   \n2020-01-04                           0                       0   \n2020-01-05                           0                       0   \n\n            National Emergencies Act  Defense Production Act  \nDate                                                          \n2020-01-01                         0                       0  \n2020-01-02                         0                       0  \n2020-01-03                         0                       0  \n2020-01-04                         0                       0  \n2020-01-05                         0                       0  "
     },
     "execution_count": 9,
     "metadata": {},
     "output_type": "execute_result"
    }
   ],
   "source": [
    "#Import dataset from Excel file\n",
    "mandates = pd.read_excel('G:\\Shared drives\\Sale\\Escuela\\Elmhurst_MSDS\\MDS_576_research_methods\\governmental_policies.xlsx')\n",
    "mandates.set_index('Date', inplace=True)\n",
    "mandates.head()\n",
    "\n",
    "#Stay At Home Data = https://www.clickondetroit.com/news/local/2020/06/02/michigan-stay-at-home-order-timeline-70-days-4-extensions-ever-changing-restrictions/\n",
    "#State of Emergency Data = https://www.freep.com/story/news/local/michigan/detroit/2020/07/14/michigan-coronavirus-state-emergency-gretchen-whitmer/5427163002/, https://www.michigan.gov/whitmer/0,9309,7-387-90499_90705-534176--,00.html\n",
    "#National Orders = https://www.ncsl.org/ncsl-in-dc/publications-and-resources/president-trump-declares-state-of-emergency-for-covid-19.aspx"
   ]
  },
  {
   "cell_type": "code",
   "execution_count": 11,
   "metadata": {},
   "outputs": [
    {
     "data": {
      "text/html": "<div>\n<style scoped>\n    .dataframe tbody tr th:only-of-type {\n        vertical-align: middle;\n    }\n\n    .dataframe tbody tr th {\n        vertical-align: top;\n    }\n\n    .dataframe thead th {\n        text-align: right;\n    }\n</style>\n<table border=\"1\" class=\"dataframe\">\n  <thead>\n    <tr style=\"text-align: right;\">\n      <th></th>\n      <th>Total National Cases</th>\n      <th>New National Cases</th>\n      <th>Total National Deaths</th>\n      <th>New National Deaths</th>\n      <th>National Population</th>\n      <th>National Cases/100k</th>\n      <th>National Deaths/100k</th>\n      <th>National Case Increase Percent</th>\n      <th>Total MI Cases</th>\n      <th>New MI Cases</th>\n      <th>...</th>\n      <th>Musk Population</th>\n      <th>Musk Cases/100k</th>\n      <th>Musk Deaths/100k</th>\n      <th>Musk Case Increase Percent</th>\n      <th>MI Stay at Home</th>\n      <th>MI State of Emergency</th>\n      <th>US Public Health Emergency</th>\n      <th>Stafford Act Emergency</th>\n      <th>National Emergencies Act</th>\n      <th>Defense Production Act</th>\n    </tr>\n  </thead>\n  <tbody>\n    <tr>\n      <td>2020-07-23</td>\n      <td>4006505.0</td>\n      <td>68408.0</td>\n      <td>142803.0</td>\n      <td>1083.0</td>\n      <td>328239523</td>\n      <td>1220.604077</td>\n      <td>43.505730</td>\n      <td>1.737083</td>\n      <td>84425.0</td>\n      <td>712.0</td>\n      <td>...</td>\n      <td>173566</td>\n      <td>615.904037</td>\n      <td>31.688234</td>\n      <td>1.615970</td>\n      <td>0</td>\n      <td>1</td>\n      <td>1</td>\n      <td>1</td>\n      <td>1</td>\n      <td>1</td>\n    </tr>\n    <tr>\n      <td>2020-07-24</td>\n      <td>4080584.0</td>\n      <td>74079.0</td>\n      <td>144031.0</td>\n      <td>1228.0</td>\n      <td>328239523</td>\n      <td>1243.172657</td>\n      <td>43.879847</td>\n      <td>1.848968</td>\n      <td>85064.0</td>\n      <td>639.0</td>\n      <td>...</td>\n      <td>173566</td>\n      <td>617.632486</td>\n      <td>31.688234</td>\n      <td>0.280636</td>\n      <td>0</td>\n      <td>1</td>\n      <td>1</td>\n      <td>1</td>\n      <td>1</td>\n      <td>1</td>\n    </tr>\n    <tr>\n      <td>2020-07-25</td>\n      <td>4145071.0</td>\n      <td>64487.0</td>\n      <td>144706.0</td>\n      <td>675.0</td>\n      <td>328239523</td>\n      <td>1262.818981</td>\n      <td>44.085489</td>\n      <td>1.580338</td>\n      <td>85599.0</td>\n      <td>535.0</td>\n      <td>...</td>\n      <td>173566</td>\n      <td>617.632486</td>\n      <td>32.264384</td>\n      <td>0.000000</td>\n      <td>0</td>\n      <td>1</td>\n      <td>1</td>\n      <td>1</td>\n      <td>1</td>\n      <td>1</td>\n    </tr>\n    <tr>\n      <td>2020-07-26</td>\n      <td>4199864.0</td>\n      <td>54793.0</td>\n      <td>145154.0</td>\n      <td>448.0</td>\n      <td>328239523</td>\n      <td>1279.511974</td>\n      <td>44.221975</td>\n      <td>1.321883</td>\n      <td>86648.0</td>\n      <td>1049.0</td>\n      <td>...</td>\n      <td>173566</td>\n      <td>622.241683</td>\n      <td>32.264384</td>\n      <td>0.746269</td>\n      <td>0</td>\n      <td>1</td>\n      <td>1</td>\n      <td>1</td>\n      <td>1</td>\n      <td>1</td>\n    </tr>\n    <tr>\n      <td>2020-07-27</td>\n      <td>4259226.0</td>\n      <td>59362.0</td>\n      <td>146858.0</td>\n      <td>1704.0</td>\n      <td>328239523</td>\n      <td>1297.596938</td>\n      <td>44.741108</td>\n      <td>1.413427</td>\n      <td>87173.0</td>\n      <td>525.0</td>\n      <td>...</td>\n      <td>173566</td>\n      <td>627.427031</td>\n      <td>32.264384</td>\n      <td>0.833333</td>\n      <td>0</td>\n      <td>1</td>\n      <td>1</td>\n      <td>1</td>\n      <td>1</td>\n      <td>1</td>\n    </tr>\n  </tbody>\n</table>\n<p>5 rows × 30 columns</p>\n</div>",
      "text/plain": "            Total National Cases  New National Cases  Total National Deaths  \\\n2020-07-23             4006505.0             68408.0               142803.0   \n2020-07-24             4080584.0             74079.0               144031.0   \n2020-07-25             4145071.0             64487.0               144706.0   \n2020-07-26             4199864.0             54793.0               145154.0   \n2020-07-27             4259226.0             59362.0               146858.0   \n\n            New National Deaths  National Population  National Cases/100k  \\\n2020-07-23               1083.0            328239523          1220.604077   \n2020-07-24               1228.0            328239523          1243.172657   \n2020-07-25                675.0            328239523          1262.818981   \n2020-07-26                448.0            328239523          1279.511974   \n2020-07-27               1704.0            328239523          1297.596938   \n\n            National Deaths/100k  National Case Increase Percent  \\\n2020-07-23             43.505730                        1.737083   \n2020-07-24             43.879847                        1.848968   \n2020-07-25             44.085489                        1.580338   \n2020-07-26             44.221975                        1.321883   \n2020-07-27             44.741108                        1.413427   \n\n            Total MI Cases  New MI Cases  ...  Musk Population  \\\n2020-07-23         84425.0         712.0  ...           173566   \n2020-07-24         85064.0         639.0  ...           173566   \n2020-07-25         85599.0         535.0  ...           173566   \n2020-07-26         86648.0        1049.0  ...           173566   \n2020-07-27         87173.0         525.0  ...           173566   \n\n            Musk Cases/100k  Musk Deaths/100k  Musk Case Increase Percent  \\\n2020-07-23       615.904037         31.688234                    1.615970   \n2020-07-24       617.632486         31.688234                    0.280636   \n2020-07-25       617.632486         32.264384                    0.000000   \n2020-07-26       622.241683         32.264384                    0.746269   \n2020-07-27       627.427031         32.264384                    0.833333   \n\n            MI Stay at Home  MI State of Emergency  \\\n2020-07-23                0                      1   \n2020-07-24                0                      1   \n2020-07-25                0                      1   \n2020-07-26                0                      1   \n2020-07-27                0                      1   \n\n            US Public Health Emergency  Stafford Act Emergency  \\\n2020-07-23                           1                       1   \n2020-07-24                           1                       1   \n2020-07-25                           1                       1   \n2020-07-26                           1                       1   \n2020-07-27                           1                       1   \n\n            National Emergencies Act  Defense Production Act  \n2020-07-23                         1                       1  \n2020-07-24                         1                       1  \n2020-07-25                         1                       1  \n2020-07-26                         1                       1  \n2020-07-27                         1                       1  \n\n[5 rows x 30 columns]"
     },
     "execution_count": 11,
     "metadata": {},
     "output_type": "execute_result"
    }
   ],
   "source": [
    "#Merge the policies data and the cases/deaths data\n",
    "covid = pd.merge(all_multi, mandates, left_index=True, right_index=True)\n",
    "\n",
    "covid.tail(5)"
   ]
  },
  {
   "cell_type": "markdown",
   "execution_count": null,
   "metadata": {},
   "outputs": [],
   "source": [
    "## Final Dataset\n",
    "\n",
    "The final dataset is a combination of all the above smaller datasets joined on the same date. This will allow for the discovery of relationships and creation of new features which otherwise would not be possible. In addition, it is important to consider the causal relationship between on-time completion and on-time shipment, they are not entirely 1:1 because we have a \"buffer\" period of typically two working days. This does mean though that when production is two or more days behind on a product, it almost inevitably leads to late shipments. This may be highly useful in prediction, but is something to keep an eye on."
   ]
  },
  {
   "cell_type": "code",
   "execution_count": 43,
   "metadata": {},
   "outputs": [
    {
     "data": {
      "text/html": "<div>\n<style scoped>\n    .dataframe tbody tr th:only-of-type {\n        vertical-align: middle;\n    }\n\n    .dataframe tbody tr th {\n        vertical-align: top;\n    }\n\n    .dataframe thead th {\n        text-align: right;\n    }\n</style>\n<table border=\"1\" class=\"dataframe\">\n  <thead>\n    <tr style=\"text-align: right;\">\n      <th></th>\n      <th>Total National Cases</th>\n      <th>New National Cases</th>\n      <th>Total National Deaths</th>\n      <th>New National Deaths</th>\n      <th>National Population</th>\n      <th>National Cases/100k</th>\n      <th>National Deaths/100k</th>\n      <th>National Case Increase Percent</th>\n      <th>Total MI Cases</th>\n      <th>New MI Cases</th>\n      <th>...</th>\n      <th>Time Early Prop</th>\n      <th>Time On-Time Prop</th>\n      <th>Time Late Prop</th>\n      <th>Line Early_y</th>\n      <th>Line On-Time_y</th>\n      <th>Line Late_y</th>\n      <th>Total Lines_y</th>\n      <th>Line Early Prop_y</th>\n      <th>Line On-Time Prop_y</th>\n      <th>Line Late Prop_y</th>\n    </tr>\n  </thead>\n  <tbody>\n    <tr>\n      <td>2020-07-21</td>\n      <td>3870819.0</td>\n      <td>66693.0</td>\n      <td>140706.0</td>\n      <td>1020.0</td>\n      <td>328239523</td>\n      <td>1179.266581</td>\n      <td>42.866867</td>\n      <td>1.753175</td>\n      <td>83053.0</td>\n      <td>661.0</td>\n      <td>...</td>\n      <td>0.005968</td>\n      <td>0.196991</td>\n      <td>0.797040</td>\n      <td>213.0</td>\n      <td>316.0</td>\n      <td>615.0</td>\n      <td>1144.0</td>\n      <td>0.186188</td>\n      <td>0.276223</td>\n      <td>0.537587</td>\n    </tr>\n    <tr>\n      <td>2020-07-22</td>\n      <td>3938097.0</td>\n      <td>67278.0</td>\n      <td>141720.0</td>\n      <td>1014.0</td>\n      <td>328239523</td>\n      <td>1199.763199</td>\n      <td>43.175788</td>\n      <td>1.738082</td>\n      <td>83713.0</td>\n      <td>660.0</td>\n      <td>...</td>\n      <td>0.000000</td>\n      <td>0.191569</td>\n      <td>0.808430</td>\n      <td>403.0</td>\n      <td>54.0</td>\n      <td>86.0</td>\n      <td>543.0</td>\n      <td>0.742173</td>\n      <td>0.099447</td>\n      <td>0.158379</td>\n    </tr>\n    <tr>\n      <td>2020-07-23</td>\n      <td>4006505.0</td>\n      <td>68408.0</td>\n      <td>142803.0</td>\n      <td>1083.0</td>\n      <td>328239523</td>\n      <td>1220.604077</td>\n      <td>43.505730</td>\n      <td>1.737083</td>\n      <td>84425.0</td>\n      <td>712.0</td>\n      <td>...</td>\n      <td>0.002023</td>\n      <td>0.203445</td>\n      <td>0.794530</td>\n      <td>542.0</td>\n      <td>67.0</td>\n      <td>270.0</td>\n      <td>879.0</td>\n      <td>0.616609</td>\n      <td>0.076222</td>\n      <td>0.307167</td>\n    </tr>\n    <tr>\n      <td>2020-07-24</td>\n      <td>4080584.0</td>\n      <td>74079.0</td>\n      <td>144031.0</td>\n      <td>1228.0</td>\n      <td>328239523</td>\n      <td>1243.172657</td>\n      <td>43.879847</td>\n      <td>1.848968</td>\n      <td>85064.0</td>\n      <td>639.0</td>\n      <td>...</td>\n      <td>0.000000</td>\n      <td>0.308705</td>\n      <td>0.691294</td>\n      <td>519.0</td>\n      <td>528.0</td>\n      <td>130.0</td>\n      <td>1177.0</td>\n      <td>0.440951</td>\n      <td>0.448598</td>\n      <td>0.110450</td>\n    </tr>\n    <tr>\n      <td>2020-07-27</td>\n      <td>4259226.0</td>\n      <td>59362.0</td>\n      <td>146858.0</td>\n      <td>1704.0</td>\n      <td>328239523</td>\n      <td>1297.596938</td>\n      <td>44.741108</td>\n      <td>1.413427</td>\n      <td>87173.0</td>\n      <td>525.0</td>\n      <td>...</td>\n      <td>0.012667</td>\n      <td>0.316830</td>\n      <td>0.670502</td>\n      <td>70.0</td>\n      <td>271.0</td>\n      <td>63.0</td>\n      <td>404.0</td>\n      <td>0.173267</td>\n      <td>0.670792</td>\n      <td>0.155940</td>\n    </tr>\n  </tbody>\n</table>\n<p>5 rows × 51 columns</p>\n</div>",
      "text/plain": "            Total National Cases  New National Cases  Total National Deaths  \\\n2020-07-21             3870819.0             66693.0               140706.0   \n2020-07-22             3938097.0             67278.0               141720.0   \n2020-07-23             4006505.0             68408.0               142803.0   \n2020-07-24             4080584.0             74079.0               144031.0   \n2020-07-27             4259226.0             59362.0               146858.0   \n\n            New National Deaths  National Population  National Cases/100k  \\\n2020-07-21               1020.0            328239523          1179.266581   \n2020-07-22               1014.0            328239523          1199.763199   \n2020-07-23               1083.0            328239523          1220.604077   \n2020-07-24               1228.0            328239523          1243.172657   \n2020-07-27               1704.0            328239523          1297.596938   \n\n            National Deaths/100k  National Case Increase Percent  \\\n2020-07-21             42.866867                        1.753175   \n2020-07-22             43.175788                        1.738082   \n2020-07-23             43.505730                        1.737083   \n2020-07-24             43.879847                        1.848968   \n2020-07-27             44.741108                        1.413427   \n\n            Total MI Cases  New MI Cases  ...  Time Early Prop  \\\n2020-07-21         83053.0         661.0  ...         0.005968   \n2020-07-22         83713.0         660.0  ...         0.000000   \n2020-07-23         84425.0         712.0  ...         0.002023   \n2020-07-24         85064.0         639.0  ...         0.000000   \n2020-07-27         87173.0         525.0  ...         0.012667   \n\n            Time On-Time Prop  Time Late Prop  Line Early_y  Line On-Time_y  \\\n2020-07-21           0.196991        0.797040         213.0           316.0   \n2020-07-22           0.191569        0.808430         403.0            54.0   \n2020-07-23           0.203445        0.794530         542.0            67.0   \n2020-07-24           0.308705        0.691294         519.0           528.0   \n2020-07-27           0.316830        0.670502          70.0           271.0   \n\n            Line Late_y  Total Lines_y  Line Early Prop_y  \\\n2020-07-21        615.0         1144.0           0.186188   \n2020-07-22         86.0          543.0           0.742173   \n2020-07-23        270.0          879.0           0.616609   \n2020-07-24        130.0         1177.0           0.440951   \n2020-07-27         63.0          404.0           0.173267   \n\n            Line On-Time Prop_y  Line Late Prop_y  \n2020-07-21             0.276223          0.537587  \n2020-07-22             0.099447          0.158379  \n2020-07-23             0.076222          0.307167  \n2020-07-24             0.448598          0.110450  \n2020-07-27             0.670792          0.155940  \n\n[5 rows x 51 columns]"
     },
     "execution_count": 43,
     "metadata": {},
     "output_type": "execute_result"
    }
   ],
   "source": [
    "#Merge three datasets together\n",
    "\n",
    "#Set indexes on date value\n",
    "prods.set_index('Putaway Date', inplace=True)\n",
    "ships.set_index('Posting Date', inplace=True)\n",
    "\n",
    "#Merge in two steps\n",
    "all_data = pd.merge(covid, prods, left_index=True, right_index=True)\n",
    "all_data = pd.merge(all_data, ships, left_index=True, right_index=True)\n",
    "\n",
    "#Remove unnecessary columns\n",
    "all_data = all_data.drop(columns=['Putaway Date.1'])\n",
    "\n",
    "#Remove non-working days\n",
    "all_data[all_data.index.dayofweek < 5]\n",
    "\n",
    "all_data.tail(5)"
   ]
  },
  {
   "cell_type": "markdown",
   "execution_count": null,
   "metadata": {},
   "outputs": [],
   "source": [
    "## Exploration and Cleansing\n",
    "\n",
    "### Correlations\n",
    "\n",
    "Here a correlation matrix is used to determine which variables are highly interrelated. This should help determine whether some features should be removed right away to avoid collinearity.\n"
   ]
  },
  {
   "cell_type": "code",
   "execution_count": 44,
   "metadata": {},
   "outputs": [
    {
     "name": "stdout",
     "output_type": "stream",
     "text": "Top Absolute Correlations\nTotal MI Deaths         MI Deaths/100k              1.000000\nTotal Musk Cases        Musk Cases/100k             1.000000\nStafford Act Emergency  National Emergencies Act    1.000000\nTotal Musk Deaths       Musk Deaths/100k            1.000000\nTotal MI Cases          MI Cases/100k               1.000000\nTotal National Cases    National Cases/100k         1.000000\nTotal National Deaths   National Deaths/100k        1.000000\nTotal Musk Cases        Total Musk Deaths           0.994928\n                        Musk Deaths/100k            0.994928\nTotal Musk Deaths       Musk Cases/100k             0.994928\ndtype: float64\n"
    }
   ],
   "source": [
    "#See variables with highest absolute correlation\n",
    "#Thanks to @arun from this post on StackOverflow = https://stackoverflow.com/questions/17778394/list-highest-correlation-pairs-from-a-large-correlation-matrix-in-pandas/51071640\n",
    "def get_redundant_pairs(df):\n",
    "    '''Get diagonal and lower triangular pairs of correlation matrix'''\n",
    "    pairs_to_drop = set()\n",
    "    cols = df.columns\n",
    "    for i in range(0, df.shape[1]):\n",
    "        for j in range(0, i+1):\n",
    "            pairs_to_drop.add((cols[i], cols[j]))\n",
    "    return pairs_to_drop\n",
    "\n",
    "def get_top_abs_correlations(df, n=5):\n",
    "    au_corr = df.corr().abs().unstack()\n",
    "    labels_to_drop = get_redundant_pairs(df)\n",
    "    au_corr = au_corr.drop(labels=labels_to_drop).sort_values(ascending=False)\n",
    "    return au_corr[0:n]\n",
    "\n",
    "print(\"Top Absolute Correlations\")\n",
    "print(get_top_abs_correlations(all_data, 10))"
   ]
  },
  {
   "cell_type": "markdown",
   "execution_count": null,
   "metadata": {},
   "outputs": [],
   "source": [
    "We can see that there are some fields which are perfectly correlated and understandably so (increase in deaths with of course lead to increase in deaths/100k).\n",
    "\n",
    "For such strong correlations, we will be taking the relative values rather than the nominal values. Then we will check once more to determine if there are other relationships that should be removed."
   ]
  },
  {
   "cell_type": "code",
   "execution_count": 45,
   "metadata": {},
   "outputs": [
    {
     "name": "stdout",
     "output_type": "stream",
     "text": "Stafford Act Emergency  National Emergencies Act    1.000000\nMusk Cases/100k         Musk Deaths/100k            0.994928\nNational Deaths/100k    MI Cases/100k               0.994243\n                        MI Deaths/100k              0.992670\nMI Cases/100k           MI Deaths/100k              0.990790\nNational Deaths/100k    Musk Cases/100k             0.985581\nNational Cases/100k     Musk Cases/100k             0.983833\nNational Deaths/100k    Musk Deaths/100k            0.981209\nNational Cases/100k     Musk Deaths/100k            0.975967\nMI Cases/100k           Musk Cases/100k             0.971757\ndtype: float64\n"
    }
   ],
   "source": [
    "#Remove columns\n",
    "all_data = all_data.drop(columns=['Total MI Deaths','Total Musk Deaths','Total Musk Cases','Total MI Cases','Total National Cases','Total National Deaths','Line Early_x','Line On-Time_x','Line Late_x','Line Early_y','Line On-Time_y','Line Late_y','Time Early','Time On-Time','Time Late'])\n",
    "\n",
    "#Rerun correlations\n",
    "print(get_top_abs_correlations(all_data, 10))"
   ]
  },
  {
   "cell_type": "markdown",
   "execution_count": null,
   "metadata": {},
   "outputs": [],
   "source": [
    "From these resulting correlations, we can see that many of the national, state, and county based values are highly correlated. This would suggest that the state and county are very similar to the national averages.\n",
    "\n",
    "Because of this, removal of the state and local variables should not negatively impact the overall model performance and should reduce multicolinearity."
   ]
  },
  {
   "cell_type": "code",
   "execution_count": 46,
   "metadata": {},
   "outputs": [
    {
     "name": "stdout",
     "output_type": "stream",
     "text": "Stafford Act Emergency    National Emergencies Act    1.000000\nLine Late Prop_x          Time Late Prop              0.969795\nLine On-Time Prop_x       Time On-Time Prop           0.968539\nNational Cases/100k       National Deaths/100k        0.966515\nLine Early Prop_x         Time Early Prop             0.951874\nMI State of Emergency     National Emergencies Act    0.951006\n                          Stafford Act Emergency      0.951006\nNational Emergencies Act  Defense Production Act      0.937886\nStafford Act Emergency    Defense Production Act      0.937886\nLine On-Time Prop_x       Line Late Prop_x            0.931166\ndtype: float64\n"
    }
   ],
   "source": [
    "#Remove columns\n",
    "all_data = all_data.drop(columns=['Musk Cases/100k','Musk Deaths/100k','MI Cases/100k','MI Deaths/100k','New Musk Cases','New Musk Deaths','New MI Cases','New MI Deaths','Musk Population','MI Population','Musk Case Increase Percent','MI Case Increase Percent'])\n",
    "\n",
    "#Rerun correlations\n",
    "print(get_top_abs_correlations(all_data, 10))"
   ]
  },
  {
   "cell_type": "markdown",
   "execution_count": null,
   "metadata": {},
   "outputs": [],
   "source": [
    "### Missing Values\n",
    "\n",
    "Next we check the remaining dataset to see if there are any columns with significant proportions of missing values."
   ]
  },
  {
   "cell_type": "code",
   "execution_count": 47,
   "metadata": {},
   "outputs": [
    {
     "name": "stdout",
     "output_type": "stream",
     "text": "New National Cases - 1.0%\nNew National Deaths - 1.0%\nNational Population - 0.0%\nNational Cases/100k - 0.0%\nNational Deaths/100k - 0.0%\nNational Case Increase Percent - 1.0%\nMI Stay at Home - 0.0%\nMI State of Emergency - 0.0%\nUS Public Health Emergency - 0.0%\nStafford Act Emergency - 0.0%\nNational Emergencies Act - 0.0%\nDefense Production Act - 0.0%\nTotal Lines_x - 0.0%\nLine Early Prop_x - 0.0%\nLine On-Time Prop_x - 0.0%\nLine Late Prop_x - 0.0%\nTotal Time - 0.0%\nTime Early Prop - 0.0%\nTime On-Time Prop - 0.0%\nTime Late Prop - 0.0%\nTotal Lines_y - 0.0%\nLine Early Prop_y - 0.0%\nLine On-Time Prop_y - 0.0%\nLine Late Prop_y - 0.0%\n"
    }
   ],
   "source": [
    "for col in all_data.columns:\n",
    "    pct_missing = np.mean(all_data[col].isnull())\n",
    "    print('{} - {}%'.format(col, round(pct_missing*100)))"
   ]
  },
  {
   "cell_type": "markdown",
   "execution_count": null,
   "metadata": {},
   "outputs": [],
   "source": [
    "Thankfully, this component of the dataset is very robust, with very few missing values. As such we can be fairly confident in our data integrity. We must however alter the missing values in order to run our regression models."
   ]
  },
  {
   "cell_type": "code",
   "execution_count": 48,
   "metadata": {},
   "outputs": [
    {
     "data": {
      "text/html": "<div>\n<style scoped>\n    .dataframe tbody tr th:only-of-type {\n        vertical-align: middle;\n    }\n\n    .dataframe tbody tr th {\n        vertical-align: top;\n    }\n\n    .dataframe thead th {\n        text-align: right;\n    }\n</style>\n<table border=\"1\" class=\"dataframe\">\n  <thead>\n    <tr style=\"text-align: right;\">\n      <th></th>\n      <th>New National Cases</th>\n      <th>New National Deaths</th>\n      <th>National Population</th>\n      <th>National Cases/100k</th>\n      <th>National Deaths/100k</th>\n      <th>National Case Increase Percent</th>\n      <th>MI Stay at Home</th>\n      <th>MI State of Emergency</th>\n      <th>US Public Health Emergency</th>\n      <th>Stafford Act Emergency</th>\n      <th>...</th>\n      <th>Line On-Time Prop_x</th>\n      <th>Line Late Prop_x</th>\n      <th>Total Time</th>\n      <th>Time Early Prop</th>\n      <th>Time On-Time Prop</th>\n      <th>Time Late Prop</th>\n      <th>Total Lines_y</th>\n      <th>Line Early Prop_y</th>\n      <th>Line On-Time Prop_y</th>\n      <th>Line Late Prop_y</th>\n    </tr>\n  </thead>\n  <tbody>\n    <tr>\n      <td>2020-01-22</td>\n      <td>NaN</td>\n      <td>NaN</td>\n      <td>328239523</td>\n      <td>0.000305</td>\n      <td>0.0</td>\n      <td>NaN</td>\n      <td>0</td>\n      <td>0</td>\n      <td>0</td>\n      <td>0</td>\n      <td>...</td>\n      <td>0.015</td>\n      <td>0.985</td>\n      <td>306.9785</td>\n      <td>0.0</td>\n      <td>0.00355</td>\n      <td>0.996449</td>\n      <td>829.0</td>\n      <td>0.288299</td>\n      <td>0.050663</td>\n      <td>0.661037</td>\n    </tr>\n  </tbody>\n</table>\n<p>1 rows × 24 columns</p>\n</div>",
      "text/plain": "            New National Cases  New National Deaths  National Population  \\\n2020-01-22                 NaN                  NaN            328239523   \n\n            National Cases/100k  National Deaths/100k  \\\n2020-01-22             0.000305                   0.0   \n\n            National Case Increase Percent  MI Stay at Home  \\\n2020-01-22                             NaN                0   \n\n            MI State of Emergency  US Public Health Emergency  \\\n2020-01-22                      0                           0   \n\n            Stafford Act Emergency  ...  Line On-Time Prop_x  \\\n2020-01-22                       0  ...                0.015   \n\n            Line Late Prop_x  Total Time  Time Early Prop  Time On-Time Prop  \\\n2020-01-22             0.985    306.9785              0.0            0.00355   \n\n            Time Late Prop  Total Lines_y  Line Early Prop_y  \\\n2020-01-22        0.996449          829.0           0.288299   \n\n            Line On-Time Prop_y  Line Late Prop_y  \n2020-01-22             0.050663          0.661037  \n\n[1 rows x 24 columns]"
     },
     "execution_count": 48,
     "metadata": {},
     "output_type": "execute_result"
    }
   ],
   "source": [
    "#Look at the error line (known as the above function for calculating differences cannot run on the first line)\n",
    "all_data.head(1)"
   ]
  },
  {
   "cell_type": "code",
   "execution_count": 49,
   "metadata": {},
   "outputs": [
    {
     "data": {
      "text/html": "<div>\n<style scoped>\n    .dataframe tbody tr th:only-of-type {\n        vertical-align: middle;\n    }\n\n    .dataframe tbody tr th {\n        vertical-align: top;\n    }\n\n    .dataframe thead th {\n        text-align: right;\n    }\n</style>\n<table border=\"1\" class=\"dataframe\">\n  <thead>\n    <tr style=\"text-align: right;\">\n      <th></th>\n      <th>New National Cases</th>\n      <th>New National Deaths</th>\n      <th>National Population</th>\n      <th>National Cases/100k</th>\n      <th>National Deaths/100k</th>\n      <th>National Case Increase Percent</th>\n      <th>MI Stay at Home</th>\n      <th>MI State of Emergency</th>\n      <th>US Public Health Emergency</th>\n      <th>Stafford Act Emergency</th>\n      <th>...</th>\n      <th>Line On-Time Prop_x</th>\n      <th>Line Late Prop_x</th>\n      <th>Total Time</th>\n      <th>Time Early Prop</th>\n      <th>Time On-Time Prop</th>\n      <th>Time Late Prop</th>\n      <th>Total Lines_y</th>\n      <th>Line Early Prop_y</th>\n      <th>Line On-Time Prop_y</th>\n      <th>Line Late Prop_y</th>\n    </tr>\n  </thead>\n  <tbody>\n    <tr>\n      <td>2020-01-22</td>\n      <td>0.0</td>\n      <td>0.0</td>\n      <td>328239523</td>\n      <td>0.000305</td>\n      <td>0.0</td>\n      <td>0.0</td>\n      <td>0</td>\n      <td>0</td>\n      <td>0</td>\n      <td>0</td>\n      <td>...</td>\n      <td>0.015</td>\n      <td>0.985</td>\n      <td>306.9785</td>\n      <td>0.0</td>\n      <td>0.00355</td>\n      <td>0.996449</td>\n      <td>829.0</td>\n      <td>0.288299</td>\n      <td>0.050663</td>\n      <td>0.661037</td>\n    </tr>\n  </tbody>\n</table>\n<p>1 rows × 24 columns</p>\n</div>",
      "text/plain": "            New National Cases  New National Deaths  National Population  \\\n2020-01-22                 0.0                  0.0            328239523   \n\n            National Cases/100k  National Deaths/100k  \\\n2020-01-22             0.000305                   0.0   \n\n            National Case Increase Percent  MI Stay at Home  \\\n2020-01-22                             0.0                0   \n\n            MI State of Emergency  US Public Health Emergency  \\\n2020-01-22                      0                           0   \n\n            Stafford Act Emergency  ...  Line On-Time Prop_x  \\\n2020-01-22                       0  ...                0.015   \n\n            Line Late Prop_x  Total Time  Time Early Prop  Time On-Time Prop  \\\n2020-01-22             0.985    306.9785              0.0            0.00355   \n\n            Time Late Prop  Total Lines_y  Line Early Prop_y  \\\n2020-01-22        0.996449          829.0           0.288299   \n\n            Line On-Time Prop_y  Line Late Prop_y  \n2020-01-22             0.050663          0.661037  \n\n[1 rows x 24 columns]"
     },
     "execution_count": 49,
     "metadata": {},
     "output_type": "execute_result"
    }
   ],
   "source": [
    "#Fill the three missing value with a 0 (this is the first date of the dataset)\n",
    "all_data = all_data.fillna(0)\n",
    "\n",
    "all_data.head(1)"
   ]
  },
  {
   "cell_type": "markdown",
   "execution_count": null,
   "metadata": {},
   "outputs": [],
   "source": [
    "# Problem Statement\n",
    "\n",
    "There are two main problems that we wish to solve:\n",
    "- Can we predict the on-time completion of production orders (either lines or hours)?\n",
    "- Can we predict the on-time completion of shipment?\n",
    "\n",
    "These two questions require some considerations to be made. The first being: do we consider early produced/shipped product as part of the on-time metric? For most purposes in our organization the answer is yes, thus this analysis will assumme the same. To that end we must combine the on-time proportion values with the early proportion values.\n",
    "\n",
    "In addition, we must also consider the importance of each question. In this case, shipment prediction is more important for the management team and the customer, so we will focus our efforts on the shipment prediction before considering the production metrics."
   ]
  },
  {
   "cell_type": "code",
   "execution_count": 50,
   "metadata": {},
   "outputs": [
    {
     "data": {
      "text/html": "<div>\n<style scoped>\n    .dataframe tbody tr th:only-of-type {\n        vertical-align: middle;\n    }\n\n    .dataframe tbody tr th {\n        vertical-align: top;\n    }\n\n    .dataframe thead th {\n        text-align: right;\n    }\n</style>\n<table border=\"1\" class=\"dataframe\">\n  <thead>\n    <tr style=\"text-align: right;\">\n      <th></th>\n      <th>New National Cases</th>\n      <th>New National Deaths</th>\n      <th>National Population</th>\n      <th>National Cases/100k</th>\n      <th>National Deaths/100k</th>\n      <th>National Case Increase Percent</th>\n      <th>MI Stay at Home</th>\n      <th>MI State of Emergency</th>\n      <th>US Public Health Emergency</th>\n      <th>Stafford Act Emergency</th>\n      <th>National Emergencies Act</th>\n      <th>Defense Production Act</th>\n      <th>Total Production Lines</th>\n      <th>Total Time</th>\n      <th>Total Shipment Lines</th>\n      <th>Production Lines On-Time Prop</th>\n      <th>Production Hours On-Time Prop</th>\n      <th>Shipment Lines On-Time Prop</th>\n    </tr>\n  </thead>\n  <tbody>\n    <tr>\n      <td>2020-07-21</td>\n      <td>66693.0</td>\n      <td>1020.0</td>\n      <td>328239523</td>\n      <td>1179.266581</td>\n      <td>42.866867</td>\n      <td>1.753175</td>\n      <td>0</td>\n      <td>1</td>\n      <td>1</td>\n      <td>1</td>\n      <td>1</td>\n      <td>1</td>\n      <td>208.0</td>\n      <td>269.7636</td>\n      <td>1144.0</td>\n      <td>0.274037</td>\n      <td>0.202959</td>\n      <td>0.462411</td>\n    </tr>\n    <tr>\n      <td>2020-07-22</td>\n      <td>67278.0</td>\n      <td>1014.0</td>\n      <td>328239523</td>\n      <td>1199.763199</td>\n      <td>43.175788</td>\n      <td>1.738082</td>\n      <td>0</td>\n      <td>1</td>\n      <td>1</td>\n      <td>1</td>\n      <td>1</td>\n      <td>1</td>\n      <td>162.0</td>\n      <td>258.7567</td>\n      <td>543.0</td>\n      <td>0.154320</td>\n      <td>0.191569</td>\n      <td>0.841620</td>\n    </tr>\n    <tr>\n      <td>2020-07-23</td>\n      <td>68408.0</td>\n      <td>1083.0</td>\n      <td>328239523</td>\n      <td>1220.604077</td>\n      <td>43.505730</td>\n      <td>1.737083</td>\n      <td>0</td>\n      <td>1</td>\n      <td>1</td>\n      <td>1</td>\n      <td>1</td>\n      <td>1</td>\n      <td>267.0</td>\n      <td>370.6331</td>\n      <td>879.0</td>\n      <td>0.209737</td>\n      <td>0.205468</td>\n      <td>0.692831</td>\n    </tr>\n    <tr>\n      <td>2020-07-24</td>\n      <td>74079.0</td>\n      <td>1228.0</td>\n      <td>328239523</td>\n      <td>1243.172657</td>\n      <td>43.879847</td>\n      <td>1.848968</td>\n      <td>0</td>\n      <td>1</td>\n      <td>1</td>\n      <td>1</td>\n      <td>1</td>\n      <td>1</td>\n      <td>222.0</td>\n      <td>294.5491</td>\n      <td>1177.0</td>\n      <td>0.198198</td>\n      <td>0.308705</td>\n      <td>0.889549</td>\n    </tr>\n    <tr>\n      <td>2020-07-27</td>\n      <td>59362.0</td>\n      <td>1704.0</td>\n      <td>328239523</td>\n      <td>1297.596938</td>\n      <td>44.741108</td>\n      <td>1.413427</td>\n      <td>0</td>\n      <td>1</td>\n      <td>1</td>\n      <td>1</td>\n      <td>1</td>\n      <td>1</td>\n      <td>190.0</td>\n      <td>206.0410</td>\n      <td>404.0</td>\n      <td>0.257894</td>\n      <td>0.329497</td>\n      <td>0.844059</td>\n    </tr>\n  </tbody>\n</table>\n</div>",
      "text/plain": "            New National Cases  New National Deaths  National Population  \\\n2020-07-21             66693.0               1020.0            328239523   \n2020-07-22             67278.0               1014.0            328239523   \n2020-07-23             68408.0               1083.0            328239523   \n2020-07-24             74079.0               1228.0            328239523   \n2020-07-27             59362.0               1704.0            328239523   \n\n            National Cases/100k  National Deaths/100k  \\\n2020-07-21          1179.266581             42.866867   \n2020-07-22          1199.763199             43.175788   \n2020-07-23          1220.604077             43.505730   \n2020-07-24          1243.172657             43.879847   \n2020-07-27          1297.596938             44.741108   \n\n            National Case Increase Percent  MI Stay at Home  \\\n2020-07-21                        1.753175                0   \n2020-07-22                        1.738082                0   \n2020-07-23                        1.737083                0   \n2020-07-24                        1.848968                0   \n2020-07-27                        1.413427                0   \n\n            MI State of Emergency  US Public Health Emergency  \\\n2020-07-21                      1                           1   \n2020-07-22                      1                           1   \n2020-07-23                      1                           1   \n2020-07-24                      1                           1   \n2020-07-27                      1                           1   \n\n            Stafford Act Emergency  National Emergencies Act  \\\n2020-07-21                       1                         1   \n2020-07-22                       1                         1   \n2020-07-23                       1                         1   \n2020-07-24                       1                         1   \n2020-07-27                       1                         1   \n\n            Defense Production Act  Total Production Lines  Total Time  \\\n2020-07-21                       1                   208.0    269.7636   \n2020-07-22                       1                   162.0    258.7567   \n2020-07-23                       1                   267.0    370.6331   \n2020-07-24                       1                   222.0    294.5491   \n2020-07-27                       1                   190.0    206.0410   \n\n            Total Shipment Lines  Production Lines On-Time Prop  \\\n2020-07-21                1144.0                       0.274037   \n2020-07-22                 543.0                       0.154320   \n2020-07-23                 879.0                       0.209737   \n2020-07-24                1177.0                       0.198198   \n2020-07-27                 404.0                       0.257894   \n\n            Production Hours On-Time Prop  Shipment Lines On-Time Prop  \n2020-07-21                       0.202959                     0.462411  \n2020-07-22                       0.191569                     0.841620  \n2020-07-23                       0.205468                     0.692831  \n2020-07-24                       0.308705                     0.889549  \n2020-07-27                       0.329497                     0.844059  "
     },
     "execution_count": 50,
     "metadata": {},
     "output_type": "execute_result"
    }
   ],
   "source": [
    "#Combine the early and on-time related values\n",
    "all_data['Production Lines On-Time Prop'] = all_data['Line Early Prop_x'] + all_data['Line On-Time Prop_x']\n",
    "all_data['Production Hours On-Time Prop'] = all_data['Time Early Prop'] + all_data['Time On-Time Prop']\n",
    "all_data['Shipment Lines On-Time Prop'] = all_data['Line Early Prop_y'] + all_data['Line On-Time Prop_y']\n",
    "\n",
    "#Drop the two combined columns and the late column as it is not needed\n",
    "all_data = all_data.drop(columns=['Line Early Prop_x','Line On-Time Prop_x','Line Late Prop_x','Line Early Prop_y','Line On-Time Prop_y','Line Late Prop_y','Time Early Prop','Time Late Prop','Time On-Time Prop'])\n",
    "\n",
    "#Rename columns which are ambiguous\n",
    "all_data = all_data.rename(columns={'Total Lines_x':'Total Production Lines','Total Lines_y':'Total Shipment Lines'})\n",
    "\n",
    "all_data.tail(5)"
   ]
  },
  {
   "cell_type": "markdown",
   "execution_count": null,
   "metadata": {},
   "outputs": [],
   "source": [
    "With these alterations we now have a dataset that should be far cleaner for model building."
   ]
  },
  {
   "cell_type": "markdown",
   "execution_count": null,
   "metadata": {},
   "outputs": [],
   "source": [
    "## Initial Models\n",
    "\n",
    "Prior to conducting any further feature engineering, it is first important to create some baseline models. For this we will be using 3 main models as a baseline: \n",
    "- Linear Regression (LM)\n",
    "- Bayesian Ridge (BR)\n",
    "- Random Forest (RF)\n",
    "\n",
    "These models should provide us with enough breadth to determine whether our feature engineering is improving model performance or if perhaps we require some new models. We will be relying on the open source scikit-learn machine learning library for all models.\n",
    "\n",
    "### Data Splitting\n",
    "\n",
    "In order to determine model performance, we will be splitting the data with the bulk (80%) reserved for training and the remainder for testing (20%)."
   ]
  },
  {
   "cell_type": "code",
   "execution_count": 51,
   "metadata": {},
   "outputs": [],
   "source": [
    "#Split data with 80/20 proportions\n",
    "from sklearn.model_selection import train_test_split\n",
    "\n",
    "all_data_x = all_data.drop(columns=['Shipment Lines On-Time Prop'])\n",
    "all_data_y = all_data['Shipment Lines On-Time Prop']\n",
    "\n",
    "ship_train_x, ship_test_x, ship_train_y, ship_test_y = train_test_split(all_data_x, all_data_y, test_size=0.2)"
   ]
  },
  {
   "cell_type": "markdown",
   "execution_count": null,
   "metadata": {},
   "outputs": [],
   "source": [
    "### Linear Regression (LM)\n",
    "\n",
    "The first model being considered is linear regression. This is for a couple reasons:\n",
    "- It is simple, and thus easy to explain to management\n",
    "- It is usually very performant (data volume is not an issue here, but were we to capture years worth of data it would be)\n",
    "- Nearly all our data is numeric in nature (the only categories are boolean in nature)"
   ]
  },
  {
   "cell_type": "code",
   "execution_count": 52,
   "metadata": {},
   "outputs": [
    {
     "name": "stdout",
     "output_type": "stream",
     "text": "Coefficients: \n [ 2.13607901e-06 -6.54215284e-05  3.49964198e-15  1.25725543e-04\n -1.00108999e-03  9.16005737e-04 -4.07264481e-02 -2.71383323e-01\n -9.76333148e-02 -6.24049740e-02 -6.24049740e-02  3.34773327e-01\n -4.16479119e-04  1.45319936e-03 -4.08958935e-05  3.93365853e-01\n -3.15999104e-02]\nMean squared error: 0.07\nRoot mean squared error: 0.21\nR^2: 0.28\n"
    }
   ],
   "source": [
    "#Linear Regression Base Model\n",
    "\n",
    "#Import required namespaces\n",
    "from sklearn.linear_model import LinearRegression\n",
    "from sklearn.metrics import mean_squared_error, r2_score\n",
    "\n",
    "#Create model\n",
    "lm_1 = LinearRegression()\n",
    "\n",
    "#Fit model\n",
    "lm_1.fit(ship_train_x, ship_train_y)\n",
    "\n",
    "#Make predictions\n",
    "lm_1_preds = lm_1.predict(ship_test_x)\n",
    "\n",
    "#Print coefficients\n",
    "print('Coefficients: \\n', lm_1.coef_)\n",
    "\n",
    "#Print mean squared error\n",
    "lm_1_mse = mean_squared_error(ship_test_y, lm_1_preds)\n",
    "print('Mean squared error: %.2f' % mse)\n",
    "\n",
    "#Print the RMSE\n",
    "from math import sqrt\n",
    "lm_1_rmse = sqrt(lm_1_mse)\n",
    "print('Root mean squared error: %.2f' % lm_1_rmse)\n",
    "\n",
    "#Print the R^2\n",
    "lm_1_r2 = r2_score(ship_test_y, lm_1_preds)\n",
    "print('R^2: %.2f' % lm_1_r2)"
   ]
  },
  {
   "cell_type": "markdown",
   "metadata": {},
   "source": [
    "Here we see that although our model has a very low MSE, it is very poor in terms of R^2. This would seem to indicate that this model is a poor predictor of on-time shipment success. Perhaps this is because the Covid-19 features are not as impactful, or perhaps it is due to some sort of time lag. Since we have very little data, we will also look at Bayesian models which are considered better suited to low volume model building.\n",
    "\n",
    "### Bayesian Ridge (BR)\n",
    "\n",
    "In addition to the LM model above, we will be looking at BR as another form of linear regression, only this time the methodology for calculation is different. Hopefully the includion of a different method of iteration helps to overcome some of the underfitting issues (or perhaps the dataset is too small to really overcome this issue directly)."
   ]
  },
  {
   "cell_type": "code",
   "execution_count": 53,
   "metadata": {},
   "outputs": [
    {
     "name": "stdout",
     "output_type": "stream",
     "text": "Coefficients: \n [ 3.87451948e-06 -1.37538802e-04  1.09967814e-17  1.42398002e-04\n -2.95665091e-05 -2.47566382e-05 -1.24851576e-05 -2.61612445e-05\n -1.53026225e-05 -2.09620657e-05 -2.09620657e-05 -6.89527753e-06\n  9.18457351e-05  1.11968971e-03 -2.43919355e-05  4.79838363e-06\n  5.39710996e-06]\nMean squared error: 0.04\nRoot mean squared error: 0.19\nR^2: 0.40\n"
    }
   ],
   "source": [
    "#Import required namespaces\n",
    "from sklearn.linear_model import BayesianRidge\n",
    "\n",
    "#Create model\n",
    "br_1 = BayesianRidge(compute_score=True)\n",
    "\n",
    "#Fit model\n",
    "br_1.fit(ship_train_x, ship_train_y)\n",
    "\n",
    "#Make predictions\n",
    "br_1_preds = br_1.predict(ship_test_x)\n",
    "\n",
    "#Print coefficients\n",
    "print('Coefficients: \\n', br_1.coef_)\n",
    "\n",
    "#Print mean squared error\n",
    "br_1_mse = mean_squared_error(ship_test_y, br_1_preds)\n",
    "print('Mean squared error: %.2f' % br_1_mse)\n",
    "\n",
    "#Print the RMSE\n",
    "from math import sqrt\n",
    "br_1_rmse = sqrt(br_1_mse)\n",
    "print('Root mean squared error: %.2f' % br_1_rmse)\n",
    "\n",
    "#Print the R^2\n",
    "br_1_r2 = r2_score(ship_test_y, br_1_preds)\n",
    "print('R^2: %.2f' % br_1_r2)"
   ]
  },
  {
   "cell_type": "markdown",
   "metadata": {},
   "source": [
    "Unfortunately, it appears that our BR model is also a poor performer in terms of R^2, there is a slight improvement, but nothing that would be considered acceptable as an end result. This would seem to indicate that the fit is quite poor, perhaps due to a very high variance.\n",
    "\n",
    "### Random Forest (RF)\n",
    "\n",
    "Our last model is a Random Forest (RF) model. This model will specifically be using RF as a regression model and not a classification model. If the model does not perform well, then we may alter the dependant variable to improve model performance. "
   ]
  },
  {
   "cell_type": "code",
   "execution_count": 54,
   "metadata": {},
   "outputs": [
    {
     "name": "stdout",
     "output_type": "stream",
     "text": "Mean squared error: 0.05\nRoot mean squared error: 0.21\nR^2: 0.28\n"
    }
   ],
   "source": [
    "#Import necessary namespaces\n",
    "from sklearn.ensemble import RandomForestRegressor\n",
    "\n",
    "#Create model\n",
    "rf_1 = RandomForestRegressor()\n",
    "\n",
    "#Fit model\n",
    "rf_1.fit(ship_train_x, ship_train_y)\n",
    "\n",
    "#Make predictions\n",
    "rf_1_preds = rf_1.predict(ship_test_x)\n",
    "\n",
    "#Print mean squared error\n",
    "rf_1_mse = mean_squared_error(ship_test_y, rf_1_preds)\n",
    "print('Mean squared error: %.2f' % rf_1_mse)\n",
    "\n",
    "#Print the RMSE\n",
    "from math import sqrt\n",
    "rf_1_rmse = sqrt(rf_1_mse)\n",
    "print('Root mean squared error: %.2f' % rf_1_rmse)\n",
    "\n",
    "#Print the R^2\n",
    "rf_1_r2 = r2_score(ship_test_y, rf_1_preds)\n",
    "print('R^2: %.2f' % rf_1_r2)"
   ]
  },
  {
   "cell_type": "markdown",
   "metadata": {},
   "source": [
    "Yet again we find that the model is a very poor performer in terms of R^2. Perhaps this is due to lack of data (very few working days) or there are relationships that the models cannot find (or none at all).\n",
    "\n",
    "### Feature Engineering\n",
    "\n",
    "### Dependent Variable\n",
    "\n",
    "As we saw above, all three models were very poor fits for the data. As such, we should first consider whether we must maintain this problem as a regression task. It is preferable to be able to predict the outcome directly, however for management purposes it seems reasonable to simply answer the question: will be perform better or worse than average?\n",
    "\n",
    "If this is indeed the minimum requirement of prediction (which seems reasonable given the lack of information and unusual times we are in today), then it is acceptable to alter the expectations and design a new variable. For this, we will take the average of on-time shipment proportion in the total time period and compare each day."
   ]
  },
  {
   "cell_type": "code",
   "execution_count": 61,
   "metadata": {},
   "outputs": [
    {
     "name": "stdout",
     "output_type": "stream",
     "text": "Average On-Time Proportion; 0.4533\n"
    },
    {
     "data": {
      "text/html": "<div>\n<style scoped>\n    .dataframe tbody tr th:only-of-type {\n        vertical-align: middle;\n    }\n\n    .dataframe tbody tr th {\n        vertical-align: top;\n    }\n\n    .dataframe thead th {\n        text-align: right;\n    }\n</style>\n<table border=\"1\" class=\"dataframe\">\n  <thead>\n    <tr style=\"text-align: right;\">\n      <th></th>\n      <th>New National Cases</th>\n      <th>New National Deaths</th>\n      <th>National Population</th>\n      <th>National Cases/100k</th>\n      <th>National Deaths/100k</th>\n      <th>National Case Increase Percent</th>\n      <th>MI Stay at Home</th>\n      <th>MI State of Emergency</th>\n      <th>US Public Health Emergency</th>\n      <th>Stafford Act Emergency</th>\n      <th>National Emergencies Act</th>\n      <th>Defense Production Act</th>\n      <th>Total Production Lines</th>\n      <th>Total Time</th>\n      <th>Total Shipment Lines</th>\n      <th>Production Lines On-Time Prop</th>\n      <th>Production Hours On-Time Prop</th>\n      <th>Shipment Lines On-Time Prop</th>\n      <th>Shipment Performance Category</th>\n    </tr>\n  </thead>\n  <tbody>\n    <tr>\n      <td>2020-07-23</td>\n      <td>68408.0</td>\n      <td>1083.0</td>\n      <td>328239523</td>\n      <td>1220.604077</td>\n      <td>43.505730</td>\n      <td>1.737083</td>\n      <td>0</td>\n      <td>1</td>\n      <td>1</td>\n      <td>1</td>\n      <td>1</td>\n      <td>1</td>\n      <td>267.0</td>\n      <td>370.6331</td>\n      <td>879.0</td>\n      <td>0.209737</td>\n      <td>0.205468</td>\n      <td>0.692831</td>\n      <td>Above Average</td>\n    </tr>\n    <tr>\n      <td>2020-07-24</td>\n      <td>74079.0</td>\n      <td>1228.0</td>\n      <td>328239523</td>\n      <td>1243.172657</td>\n      <td>43.879847</td>\n      <td>1.848968</td>\n      <td>0</td>\n      <td>1</td>\n      <td>1</td>\n      <td>1</td>\n      <td>1</td>\n      <td>1</td>\n      <td>222.0</td>\n      <td>294.5491</td>\n      <td>1177.0</td>\n      <td>0.198198</td>\n      <td>0.308705</td>\n      <td>0.889549</td>\n      <td>Above Average</td>\n    </tr>\n    <tr>\n      <td>2020-07-27</td>\n      <td>59362.0</td>\n      <td>1704.0</td>\n      <td>328239523</td>\n      <td>1297.596938</td>\n      <td>44.741108</td>\n      <td>1.413427</td>\n      <td>0</td>\n      <td>1</td>\n      <td>1</td>\n      <td>1</td>\n      <td>1</td>\n      <td>1</td>\n      <td>190.0</td>\n      <td>206.0410</td>\n      <td>404.0</td>\n      <td>0.257894</td>\n      <td>0.329497</td>\n      <td>0.844059</td>\n      <td>Above Average</td>\n    </tr>\n  </tbody>\n</table>\n</div>",
      "text/plain": "            New National Cases  New National Deaths  National Population  \\\n2020-07-23             68408.0               1083.0            328239523   \n2020-07-24             74079.0               1228.0            328239523   \n2020-07-27             59362.0               1704.0            328239523   \n\n            National Cases/100k  National Deaths/100k  \\\n2020-07-23          1220.604077             43.505730   \n2020-07-24          1243.172657             43.879847   \n2020-07-27          1297.596938             44.741108   \n\n            National Case Increase Percent  MI Stay at Home  \\\n2020-07-23                        1.737083                0   \n2020-07-24                        1.848968                0   \n2020-07-27                        1.413427                0   \n\n            MI State of Emergency  US Public Health Emergency  \\\n2020-07-23                      1                           1   \n2020-07-24                      1                           1   \n2020-07-27                      1                           1   \n\n            Stafford Act Emergency  National Emergencies Act  \\\n2020-07-23                       1                         1   \n2020-07-24                       1                         1   \n2020-07-27                       1                         1   \n\n            Defense Production Act  Total Production Lines  Total Time  \\\n2020-07-23                       1                   267.0    370.6331   \n2020-07-24                       1                   222.0    294.5491   \n2020-07-27                       1                   190.0    206.0410   \n\n            Total Shipment Lines  Production Lines On-Time Prop  \\\n2020-07-23                 879.0                       0.209737   \n2020-07-24                1177.0                       0.198198   \n2020-07-27                 404.0                       0.257894   \n\n            Production Hours On-Time Prop  Shipment Lines On-Time Prop  \\\n2020-07-23                       0.205468                     0.692831   \n2020-07-24                       0.308705                     0.889549   \n2020-07-27                       0.329497                     0.844059   \n\n           Shipment Performance Category  \n2020-07-23                 Above Average  \n2020-07-24                 Above Average  \n2020-07-27                 Above Average  "
     },
     "execution_count": 61,
     "metadata": {},
     "output_type": "execute_result"
    }
   ],
   "source": [
    "#Average on-time shipment proportion during workdays in time period\n",
    "wd_avg = all_data['Shipment Lines On-Time Prop'].mean()\n",
    "\n",
    "print('Average On-Time Proportion; %.4f' % wd_avg)\n",
    "\n",
    "#New predictor value\n",
    "all_data['Shipment Performance Category'] = ['Above Average' if x >= wd_avg else 'Below Average' for x in all_data['Shipment Lines On-Time Prop']]\n",
    "\n",
    "all_data.tail(3)"
   ]
  },
  {
   "cell_type": "markdown",
   "execution_count": null,
   "metadata": {},
   "outputs": [],
   "source": [
    "With this additional variable, we can now run classifier models to see if the classification methodology works better. We will additionally keep the regression models to see if improvement have been made after additional engineering steps.\n",
    "\n",
    "### New Time Related Features\n",
    "\n",
    "Knowing that there is a certain amount of \"buffer time\" between the due date of a production order and its planned shipment date, we must consider the possibility of previous days having and impact on subsequent days. Thus, we will be adding a couple lagged fields from the production center (namely the lines proportion and time proportion values). We will provide 3 days of lag to see if the addition is worthwile."
   ]
  },
  {
   "cell_type": "code",
   "execution_count": 63,
   "metadata": {},
   "outputs": [
    {
     "data": {
      "text/html": "<div>\n<style scoped>\n    .dataframe tbody tr th:only-of-type {\n        vertical-align: middle;\n    }\n\n    .dataframe tbody tr th {\n        vertical-align: top;\n    }\n\n    .dataframe thead th {\n        text-align: right;\n    }\n</style>\n<table border=\"1\" class=\"dataframe\">\n  <thead>\n    <tr style=\"text-align: right;\">\n      <th></th>\n      <th>New National Cases</th>\n      <th>New National Deaths</th>\n      <th>National Population</th>\n      <th>National Cases/100k</th>\n      <th>National Deaths/100k</th>\n      <th>National Case Increase Percent</th>\n      <th>MI Stay at Home</th>\n      <th>MI State of Emergency</th>\n      <th>US Public Health Emergency</th>\n      <th>Stafford Act Emergency</th>\n      <th>...</th>\n      <th>Production Lines On-Time Prop</th>\n      <th>Production Hours On-Time Prop</th>\n      <th>Shipment Lines On-Time Prop</th>\n      <th>Shipment Performance Category</th>\n      <th>Prod Line Lag1</th>\n      <th>Prod Line Lag2</th>\n      <th>Prod Line Lag3</th>\n      <th>Prod Time Lag1</th>\n      <th>Prod Time Lag2</th>\n      <th>Prod Time Lag3</th>\n    </tr>\n  </thead>\n  <tbody>\n    <tr>\n      <td>2020-07-23</td>\n      <td>68408.0</td>\n      <td>1083.0</td>\n      <td>328239523</td>\n      <td>1220.604077</td>\n      <td>43.505730</td>\n      <td>1.737083</td>\n      <td>0</td>\n      <td>1</td>\n      <td>1</td>\n      <td>1</td>\n      <td>...</td>\n      <td>0.209737</td>\n      <td>0.205468</td>\n      <td>0.692831</td>\n      <td>Above Average</td>\n      <td>0.154320</td>\n      <td>0.274037</td>\n      <td>0.531428</td>\n      <td>0.191569</td>\n      <td>0.202959</td>\n      <td>0.461750</td>\n    </tr>\n    <tr>\n      <td>2020-07-24</td>\n      <td>74079.0</td>\n      <td>1228.0</td>\n      <td>328239523</td>\n      <td>1243.172657</td>\n      <td>43.879847</td>\n      <td>1.848968</td>\n      <td>0</td>\n      <td>1</td>\n      <td>1</td>\n      <td>1</td>\n      <td>...</td>\n      <td>0.198198</td>\n      <td>0.308705</td>\n      <td>0.889549</td>\n      <td>Above Average</td>\n      <td>0.209737</td>\n      <td>0.154320</td>\n      <td>0.274037</td>\n      <td>0.205468</td>\n      <td>0.191569</td>\n      <td>0.202959</td>\n    </tr>\n    <tr>\n      <td>2020-07-27</td>\n      <td>59362.0</td>\n      <td>1704.0</td>\n      <td>328239523</td>\n      <td>1297.596938</td>\n      <td>44.741108</td>\n      <td>1.413427</td>\n      <td>0</td>\n      <td>1</td>\n      <td>1</td>\n      <td>1</td>\n      <td>...</td>\n      <td>0.257894</td>\n      <td>0.329497</td>\n      <td>0.844059</td>\n      <td>Above Average</td>\n      <td>0.198198</td>\n      <td>0.209737</td>\n      <td>0.154320</td>\n      <td>0.308705</td>\n      <td>0.205468</td>\n      <td>0.191569</td>\n    </tr>\n  </tbody>\n</table>\n<p>3 rows × 25 columns</p>\n</div>",
      "text/plain": "            New National Cases  New National Deaths  National Population  \\\n2020-07-23             68408.0               1083.0            328239523   \n2020-07-24             74079.0               1228.0            328239523   \n2020-07-27             59362.0               1704.0            328239523   \n\n            National Cases/100k  National Deaths/100k  \\\n2020-07-23          1220.604077             43.505730   \n2020-07-24          1243.172657             43.879847   \n2020-07-27          1297.596938             44.741108   \n\n            National Case Increase Percent  MI Stay at Home  \\\n2020-07-23                        1.737083                0   \n2020-07-24                        1.848968                0   \n2020-07-27                        1.413427                0   \n\n            MI State of Emergency  US Public Health Emergency  \\\n2020-07-23                      1                           1   \n2020-07-24                      1                           1   \n2020-07-27                      1                           1   \n\n            Stafford Act Emergency  ...  Production Lines On-Time Prop  \\\n2020-07-23                       1  ...                       0.209737   \n2020-07-24                       1  ...                       0.198198   \n2020-07-27                       1  ...                       0.257894   \n\n            Production Hours On-Time Prop  Shipment Lines On-Time Prop  \\\n2020-07-23                       0.205468                     0.692831   \n2020-07-24                       0.308705                     0.889549   \n2020-07-27                       0.329497                     0.844059   \n\n            Shipment Performance Category  Prod Line Lag1  Prod Line Lag2  \\\n2020-07-23                  Above Average        0.154320        0.274037   \n2020-07-24                  Above Average        0.209737        0.154320   \n2020-07-27                  Above Average        0.198198        0.209737   \n\n            Prod Line Lag3  Prod Time Lag1 Prod Time Lag2  Prod Time Lag3  \n2020-07-23        0.531428        0.191569       0.202959        0.461750  \n2020-07-24        0.274037        0.205468       0.191569        0.202959  \n2020-07-27        0.154320        0.308705       0.205468        0.191569  \n\n[3 rows x 25 columns]"
     },
     "execution_count": 63,
     "metadata": {},
     "output_type": "execute_result"
    }
   ],
   "source": [
    "#Lag the two variables each with three new levels\n",
    "all_data_lag = all_data.copy()\n",
    "\n",
    "all_data_lag['Prod Line Lag1'] = all_data_lag['Production Lines On-Time Prop'].shift(1)\n",
    "all_data_lag['Prod Line Lag2'] = all_data_lag['Production Lines On-Time Prop'].shift(2)\n",
    "all_data_lag['Prod Line Lag3'] = all_data_lag['Production Lines On-Time Prop'].shift(3)\n",
    "\n",
    "all_data_lag['Prod Time Lag1'] = all_data_lag['Production Hours On-Time Prop'].shift(1)\n",
    "all_data_lag['Prod Time Lag2'] = all_data_lag['Production Hours On-Time Prop'].shift(2)\n",
    "all_data_lag['Prod Time Lag3'] = all_data_lag['Production Hours On-Time Prop'].shift(3)\n",
    "\n",
    "#Change the resulting null values into zeroes for those dates which cannot properly lag\n",
    "all_data_lag = all_data_lag.fillna(0)\n",
    "\n",
    "all_data_lag.tail(3)"
   ]
  },
  {
   "cell_type": "markdown",
   "metadata": {},
   "source": [
    "### Creating Training and Test Data\n",
    "\n",
    "In order to properly compare the previous models, as well as to use regression and classification, we must create new datasets for training and tesing purposes."
   ]
  },
  {
   "cell_type": "code",
   "execution_count": 65,
   "metadata": {},
   "outputs": [],
   "source": [
    "#Create a regression set and a classification set\n",
    "lag_clas_x = all_data_lag.drop(columns=['Shipment Performance Category','Shipment Lines On-Time Prop'])\n",
    "lag_reg_x = all_data_lag.drop(columns=['Shipment Performance Category','Shipment Lines On-Time Prop'])\n",
    "\n",
    "#Create dependant variables df's\n",
    "lag_clas_y = all_data_lag['Shipment Performance Category']\n",
    "lag_reg_y = all_data_lag['Shipment Lines On-Time Prop']\n",
    "\n",
    "#Create splits\n",
    "lag_clas_train_x, lag_clas_test_x, lag_clas_train_y, lag_clas_test_y = train_test_split(lag_clas_x, lag_clas_y, test_size=0.2)\n",
    "lag_reg_train_x, lag_reg_test_x, lag_reg_train_y, lag_reg_test_y = train_test_split(lag_reg_x, lag_reg_y, test_size=0.2)"
   ]
  },
  {
   "cell_type": "markdown",
   "metadata": {},
   "source": [
    "## Model Iterations\n",
    "\n",
    "### Random Forest (RF)\n",
    "\n",
    "We will begin with Random Forest as we can create both a regression and classifier easily with the same model type (slightly different in terms of output)."
   ]
  },
  {
   "cell_type": "code",
   "execution_count": 66,
   "metadata": {},
   "outputs": [
    {
     "name": "stdout",
     "output_type": "stream",
     "text": "RF Regression 2\nMean squared error: 0.04\nRoot mean squared error: 0.19\nR^2: 0.38\n"
    }
   ],
   "source": [
    "#RF Regression 2\n",
    "print('RF Regression 2')\n",
    "\n",
    "#Create model\n",
    "rf_2 = RandomForestRegressor()\n",
    "\n",
    "#Fit model\n",
    "rf_2.fit(lag_reg_train_x, lag_reg_train_y)\n",
    "\n",
    "#Make predictions\n",
    "rf_2_preds = rf_2.predict(lag_reg_test_x)\n",
    "\n",
    "#Print mean squared error\n",
    "rf_2_mse = mean_squared_error(lag_reg_test_y, rf_2_preds)\n",
    "print('Mean squared error: %.2f' % rf_2_mse)\n",
    "\n",
    "#Print the RMSE\n",
    "from math import sqrt\n",
    "rf_2_rmse = sqrt(rf_2_mse)\n",
    "print('Root mean squared error: %.2f' % rf_2_rmse)\n",
    "\n",
    "#Print the R^2\n",
    "rf_2_r2 = r2_score(lag_reg_test_y, rf_2_preds)\n",
    "print('R^2: %.2f' % rf_2_r2)"
   ]
  },
  {
   "cell_type": "code",
   "execution_count": 88,
   "metadata": {},
   "outputs": [
    {
     "name": "stdout",
     "output_type": "stream",
     "text": "RF Classification 1\n=== Confusion Matrix ===\n[[18  3]\n [ 3  5]]\n\n\n=== Classification Report ===\n               precision    recall  f1-score   support\n\nAbove Average       0.86      0.86      0.86        21\nBelow Average       0.62      0.62      0.62         8\n\n     accuracy                           0.79        29\n    macro avg       0.74      0.74      0.74        29\n weighted avg       0.79      0.79      0.79        29\n\n\n\n=== Mean AUC Score ===\nMean AUC Score:  0.6321853741496597\n\n\n=== Mean Accuracy Score ===\nMean Accuracy Score:  0.7931034482758621\n"
    }
   ],
   "source": [
    "#RF Classification 1 (Third RF model)\n",
    "print('RF Classification 1')\n",
    "\n",
    "#Import necessary namespaces\n",
    "from sklearn.ensemble import RandomForestClassifier\n",
    "from sklearn.model_selection import cross_val_score\n",
    "from sklearn.metrics import classification_report, confusion_matrix\n",
    "\n",
    "#Create model\n",
    "rf_3 = RandomForestClassifier()\n",
    "\n",
    "#Fit model\n",
    "rf_3.fit(lag_clas_train_x, lag_clas_train_y)\n",
    "\n",
    "#Run cross validation\n",
    "rf_3_cv = cross_val_score(rf_3, lag_clas_x, lag_clas_y, cv=10, scoring='roc_auc')\n",
    "\n",
    "#Make predictions\n",
    "rf_3_preds = rf_3.predict(lag_clas_test_x)\n",
    "\n",
    "#Show metrics\n",
    "#Thanks to Jake Huneycutt for his Medium post = https://medium.com/@hjhuney/implementing-a-random-forest-classification-model-in-python-583891c99652\n",
    "print(\"=== Confusion Matrix ===\")\n",
    "print(confusion_matrix(lag_clas_test_y, rf_3_preds))\n",
    "print('\\n')\n",
    "\n",
    "print(\"=== Classification Report ===\")\n",
    "print(classification_report(lag_clas_test_y, rf_3_preds))\n",
    "print('\\n')\n",
    "\n",
    "print(\"=== Mean AUC Score ===\")\n",
    "print(\"Mean AUC Score: \", rf_3_cv.mean())\n",
    "print('\\n')\n",
    "\n",
    "print(\"=== Mean Accuracy Score ===\")\n",
    "print(\"Mean Accuracy Score: \", rf_3.score(lag_clas_test_x,lag_clas_test_y))"
   ]
  },
  {
   "cell_type": "markdown",
   "metadata": {},
   "source": [
    "Here we see that the classifier model actually performed far better than previous models. Although it is difficult to compare regression and classification tasks, the accuracy of the classifier is far better in its respective field than the R^2 and other metrics in the regression realm.\n",
    "\n",
    "As such, it seems prudent to iterate on the classification task rather than regression and see if any other models may perform similarly or better than the Random Forest model here.\n",
    "\n",
    "### Gradient Boosted Trees (GBDT)\n",
    "\n",
    "The next model to consider in this classification process in another decision tree based methodology: Gradient Boosted Decision Trees. This method is similar to other multi-tree models in that it takes iterations of different decision trees to arrive at a conclusion, but in this case it is taking the average of the resulting trees like Random Forest, instead it uses gradient decent to minimize the desired loss function."
   ]
  },
  {
   "cell_type": "code",
   "execution_count": 81,
   "metadata": {},
   "outputs": [
    {
     "name": "stdout",
     "output_type": "stream",
     "text": "=== Confusion Matrix ===\n[[16  5]\n [ 2  6]]\n\n\n=== Classification Report ===\n               precision    recall  f1-score   support\n\nAbove Average       0.89      0.76      0.82        21\nBelow Average       0.55      0.75      0.63         8\n\n     accuracy                           0.76        29\n    macro avg       0.72      0.76      0.73        29\n weighted avg       0.79      0.76      0.77        29\n\n\n\n=== Mean Accuracy Score ===\nMean Accuracy Score:  0.7586206896551724\n"
    }
   ],
   "source": [
    "#Import necessary namespaces\n",
    "from sklearn.ensemble import GradientBoostingClassifier\n",
    "\n",
    "#Build model\n",
    "gb_1 = GradientBoostingClassifier()\n",
    "\n",
    "#Fit model\n",
    "gb_1.fit(lag_clas_train_x, lag_clas_train_y)\n",
    "\n",
    "#Make predictions\n",
    "gb_1_preds = gb_1.predict(lag_clas_test_x)\n",
    "\n",
    "#Show metrics\n",
    "print(\"=== Confusion Matrix ===\")\n",
    "print(confusion_matrix(lag_clas_test_y, gb_1_preds))\n",
    "print('\\n')\n",
    "\n",
    "print(\"=== Classification Report ===\")\n",
    "print(classification_report(lag_clas_test_y, gb_1_preds))\n",
    "print('\\n')\n",
    "\n",
    "print(\"=== Mean Accuracy Score ===\")\n",
    "print(\"Mean Accuracy Score: \", gb_1.score(lag_clas_test_x,lag_clas_test_y))"
   ]
  },
  {
   "cell_type": "markdown",
   "metadata": {},
   "source": [
    "Here we see that GBDT and RF both perform very similarly. In fact, the accuracy, precision, and recall metrics are all very similar. We can see though that the precision and recall (and thus F-score) is a bit lower in the Below Average class."
   ]
  },
  {
   "cell_type": "code",
   "execution_count": 84,
   "metadata": {},
   "outputs": [
    {
     "data": {
      "text/plain": "<matplotlib.axes._subplots.AxesSubplot at 0x233d8b3b2c8>"
     },
     "execution_count": 84,
     "metadata": {},
     "output_type": "execute_result"
    },
    {
     "data": {
      "image/png": "[encoded data removed]",
      "image/svg+xml": "<?xml version=\"1.0\" encoding=\"utf-8\" standalone=\"no\"?>\r\n<!DOCTYPE svg PUBLIC \"-//W3C//DTD SVG 1.1//EN\"\r\n  \"http://www.w3.org/Graphics/SVG/1.1/DTD/svg11.dtd\">\r\n<!-- Created with matplotlib (https://matplotlib.org/) -->\r\n<svg height=\"315.043125pt\" version=\"1.1\" viewBox=\"0 0 368.925 315.043125\" width=\"368.925pt\" xmlns=\"http://www.w3.org/2000/svg\" xmlns:xlink=\"http://www.w3.org/1999/xlink\">\r\n <defs>\r\n  <style type=\"text/css\">\r\n*{stroke-linecap:butt;stroke-linejoin:round;}\r\n  </style>\r\n </defs>\r\n <g id=\"figure_1\">\r\n  <g id=\"patch_1\">\r\n   <path d=\"M -0 315.043125 \r\nL 368.925 315.043125 \r\nL 368.925 0 \r\nL -0 0 \r\nz\r\n\" style=\"fill:none;\"/>\r\n  </g>\r\n  <g id=\"axes_1\">\r\n   <g id=\"patch_2\">\r\n    <path d=\"M 26.925 224.64 \r\nL 361.725 224.64 \r\nL 361.725 7.2 \r\nL 26.925 7.2 \r\nz\r\n\" style=\"fill:#ffffff;\"/>\r\n   </g>\r\n   <g id=\"patch_3\">\r\n    <path clip-path=\"url(#p59e3184698)\" d=\"M 68.775 224.64 \r\nL 152.475 224.64 \r\nL 152.475 17.554286 \r\nL 68.775 17.554286 \r\nz\r\n\" style=\"fill:#1f77b4;\"/>\r\n   </g>\r\n   <g id=\"patch_4\">\r\n    <path clip-path=\"url(#p59e3184698)\" d=\"M 236.175 224.64 \r\nL 319.875 224.64 \r\nL 319.875 36.882286 \r\nL 236.175 36.882286 \r\nz\r\n\" style=\"fill:#1f77b4;\"/>\r\n   </g>\r\n   <g id=\"matplotlib.axis_1\">\r\n    <g id=\"xtick_1\">\r\n     <g id=\"line2d_1\">\r\n      <defs>\r\n       <path d=\"M 0 0 \r\nL 0 3.5 \r\n\" id=\"ma33e22adbf\" style=\"stroke:#000000;stroke-width:0.8;\"/>\r\n      </defs>\r\n      <g>\r\n       <use style=\"stroke:#000000;stroke-width:0.8;\" x=\"110.625\" xlink:href=\"#ma33e22adbf\" y=\"224.64\"/>\r\n      </g>\r\n     </g>\r\n     <g id=\"text_1\">\r\n      <!-- Above Average -->\r\n      <defs>\r\n       <path d=\"M 34.1875 63.1875 \r\nL 20.796875 26.90625 \r\nL 47.609375 26.90625 \r\nz\r\nM 28.609375 72.90625 \r\nL 39.796875 72.90625 \r\nL 67.578125 0 \r\nL 57.328125 0 \r\nL 50.6875 18.703125 \r\nL 17.828125 18.703125 \r\nL 11.1875 0 \r\nL 0.78125 0 \r\nz\r\n\" id=\"DejaVuSans-65\"/>\r\n       <path d=\"M 48.6875 27.296875 \r\nQ 48.6875 37.203125 44.609375 42.84375 \r\nQ 40.53125 48.484375 33.40625 48.484375 \r\nQ 26.265625 48.484375 22.1875 42.84375 \r\nQ 18.109375 37.203125 18.109375 27.296875 \r\nQ 18.109375 17.390625 22.1875 11.75 \r\nQ 26.265625 6.109375 33.40625 6.109375 \r\nQ 40.53125 6.109375 44.609375 11.75 \r\nQ 48.6875 17.390625 48.6875 27.296875 \r\nz\r\nM 18.109375 46.390625 \r\nQ 20.953125 51.265625 25.265625 53.625 \r\nQ 29.59375 56 35.59375 56 \r\nQ 45.5625 56 51.78125 48.09375 \r\nQ 58.015625 40.1875 58.015625 27.296875 \r\nQ 58.015625 14.40625 51.78125 6.484375 \r\nQ 45.5625 -1.421875 35.59375 -1.421875 \r\nQ 29.59375 -1.421875 25.265625 0.953125 \r\nQ 20.953125 3.328125 18.109375 8.203125 \r\nL 18.109375 0 \r\nL 9.078125 0 \r\nL 9.078125 75.984375 \r\nL 18.109375 75.984375 \r\nz\r\n\" id=\"DejaVuSans-98\"/>\r\n       <path d=\"M 30.609375 48.390625 \r\nQ 23.390625 48.390625 19.1875 42.75 \r\nQ 14.984375 37.109375 14.984375 27.296875 \r\nQ 14.984375 17.484375 19.15625 11.84375 \r\nQ 23.34375 6.203125 30.609375 6.203125 \r\nQ 37.796875 6.203125 41.984375 11.859375 \r\nQ 46.1875 17.53125 46.1875 27.296875 \r\nQ 46.1875 37.015625 41.984375 42.703125 \r\nQ 37.796875 48.390625 30.609375 48.390625 \r\nz\r\nM 30.609375 56 \r\nQ 42.328125 56 49.015625 48.375 \r\nQ 55.71875 40.765625 55.71875 27.296875 \r\nQ 55.71875 13.875 49.015625 6.21875 \r\nQ 42.328125 -1.421875 30.609375 -1.421875 \r\nQ 18.84375 -1.421875 12.171875 6.21875 \r\nQ 5.515625 13.875 5.515625 27.296875 \r\nQ 5.515625 40.765625 12.171875 48.375 \r\nQ 18.84375 56 30.609375 56 \r\nz\r\n\" id=\"DejaVuSans-111\"/>\r\n       <path d=\"M 2.984375 54.6875 \r\nL 12.5 54.6875 \r\nL 29.59375 8.796875 \r\nL 46.6875 54.6875 \r\nL 56.203125 54.6875 \r\nL 35.6875 0 \r\nL 23.484375 0 \r\nz\r\n\" id=\"DejaVuSans-118\"/>\r\n       <path d=\"M 56.203125 29.59375 \r\nL 56.203125 25.203125 \r\nL 14.890625 25.203125 \r\nQ 15.484375 15.921875 20.484375 11.0625 \r\nQ 25.484375 6.203125 34.421875 6.203125 \r\nQ 39.59375 6.203125 44.453125 7.46875 \r\nQ 49.3125 8.734375 54.109375 11.28125 \r\nL 54.109375 2.78125 \r\nQ 49.265625 0.734375 44.1875 -0.34375 \r\nQ 39.109375 -1.421875 33.890625 -1.421875 \r\nQ 20.796875 -1.421875 13.15625 6.1875 \r\nQ 5.515625 13.8125 5.515625 26.8125 \r\nQ 5.515625 40.234375 12.765625 48.109375 \r\nQ 20.015625 56 32.328125 56 \r\nQ 43.359375 56 49.78125 48.890625 \r\nQ 56.203125 41.796875 56.203125 29.59375 \r\nz\r\nM 47.21875 32.234375 \r\nQ 47.125 39.59375 43.09375 43.984375 \r\nQ 39.0625 48.390625 32.421875 48.390625 \r\nQ 24.90625 48.390625 20.390625 44.140625 \r\nQ 15.875 39.890625 15.1875 32.171875 \r\nz\r\n\" id=\"DejaVuSans-101\"/>\r\n       <path id=\"DejaVuSans-32\"/>\r\n       <path d=\"M 41.109375 46.296875 \r\nQ 39.59375 47.171875 37.8125 47.578125 \r\nQ 36.03125 48 33.890625 48 \r\nQ 26.265625 48 22.1875 43.046875 \r\nQ 18.109375 38.09375 18.109375 28.8125 \r\nL 18.109375 0 \r\nL 9.078125 0 \r\nL 9.078125 54.6875 \r\nL 18.109375 54.6875 \r\nL 18.109375 46.1875 \r\nQ 20.953125 51.171875 25.484375 53.578125 \r\nQ 30.03125 56 36.53125 56 \r\nQ 37.453125 56 38.578125 55.875 \r\nQ 39.703125 55.765625 41.0625 55.515625 \r\nz\r\n\" id=\"DejaVuSans-114\"/>\r\n       <path d=\"M 34.28125 27.484375 \r\nQ 23.390625 27.484375 19.1875 25 \r\nQ 14.984375 22.515625 14.984375 16.5 \r\nQ 14.984375 11.71875 18.140625 8.90625 \r\nQ 21.296875 6.109375 26.703125 6.109375 \r\nQ 34.1875 6.109375 38.703125 11.40625 \r\nQ 43.21875 16.703125 43.21875 25.484375 \r\nL 43.21875 27.484375 \r\nz\r\nM 52.203125 31.203125 \r\nL 52.203125 0 \r\nL 43.21875 0 \r\nL 43.21875 8.296875 \r\nQ 40.140625 3.328125 35.546875 0.953125 \r\nQ 30.953125 -1.421875 24.3125 -1.421875 \r\nQ 15.921875 -1.421875 10.953125 3.296875 \r\nQ 6 8.015625 6 15.921875 \r\nQ 6 25.140625 12.171875 29.828125 \r\nQ 18.359375 34.515625 30.609375 34.515625 \r\nL 43.21875 34.515625 \r\nL 43.21875 35.40625 \r\nQ 43.21875 41.609375 39.140625 45 \r\nQ 35.0625 48.390625 27.6875 48.390625 \r\nQ 23 48.390625 18.546875 47.265625 \r\nQ 14.109375 46.140625 10.015625 43.890625 \r\nL 10.015625 52.203125 \r\nQ 14.9375 54.109375 19.578125 55.046875 \r\nQ 24.21875 56 28.609375 56 \r\nQ 40.484375 56 46.34375 49.84375 \r\nQ 52.203125 43.703125 52.203125 31.203125 \r\nz\r\n\" id=\"DejaVuSans-97\"/>\r\n       <path d=\"M 45.40625 27.984375 \r\nQ 45.40625 37.75 41.375 43.109375 \r\nQ 37.359375 48.484375 30.078125 48.484375 \r\nQ 22.859375 48.484375 18.828125 43.109375 \r\nQ 14.796875 37.75 14.796875 27.984375 \r\nQ 14.796875 18.265625 18.828125 12.890625 \r\nQ 22.859375 7.515625 30.078125 7.515625 \r\nQ 37.359375 7.515625 41.375 12.890625 \r\nQ 45.40625 18.265625 45.40625 27.984375 \r\nz\r\nM 54.390625 6.78125 \r\nQ 54.390625 -7.171875 48.1875 -13.984375 \r\nQ 42 -20.796875 29.203125 -20.796875 \r\nQ 24.46875 -20.796875 20.265625 -20.09375 \r\nQ 16.0625 -19.390625 12.109375 -17.921875 \r\nL 12.109375 -9.1875 \r\nQ 16.0625 -11.328125 19.921875 -12.34375 \r\nQ 23.78125 -13.375 27.78125 -13.375 \r\nQ 36.625 -13.375 41.015625 -8.765625 \r\nQ 45.40625 -4.15625 45.40625 5.171875 \r\nL 45.40625 9.625 \r\nQ 42.625 4.78125 38.28125 2.390625 \r\nQ 33.9375 0 27.875 0 \r\nQ 17.828125 0 11.671875 7.65625 \r\nQ 5.515625 15.328125 5.515625 27.984375 \r\nQ 5.515625 40.671875 11.671875 48.328125 \r\nQ 17.828125 56 27.875 56 \r\nQ 33.9375 56 38.28125 53.609375 \r\nQ 42.625 51.21875 45.40625 46.390625 \r\nL 45.40625 54.6875 \r\nL 54.390625 54.6875 \r\nz\r\n\" id=\"DejaVuSans-103\"/>\r\n      </defs>\r\n      <g transform=\"translate(113.384375 307.843125)rotate(-90)scale(0.1 -0.1)\">\r\n       <use xlink:href=\"#DejaVuSans-65\"/>\r\n       <use x=\"68.408203\" xlink:href=\"#DejaVuSans-98\"/>\r\n       <use x=\"131.884766\" xlink:href=\"#DejaVuSans-111\"/>\r\n       <use x=\"193.066406\" xlink:href=\"#DejaVuSans-118\"/>\r\n       <use x=\"252.246094\" xlink:href=\"#DejaVuSans-101\"/>\r\n       <use x=\"313.769531\" xlink:href=\"#DejaVuSans-32\"/>\r\n       <use x=\"345.556641\" xlink:href=\"#DejaVuSans-65\"/>\r\n       <use x=\"413.886719\" xlink:href=\"#DejaVuSans-118\"/>\r\n       <use x=\"473.066406\" xlink:href=\"#DejaVuSans-101\"/>\r\n       <use x=\"534.589844\" xlink:href=\"#DejaVuSans-114\"/>\r\n       <use x=\"575.703125\" xlink:href=\"#DejaVuSans-97\"/>\r\n       <use x=\"636.982422\" xlink:href=\"#DejaVuSans-103\"/>\r\n       <use x=\"700.458984\" xlink:href=\"#DejaVuSans-101\"/>\r\n      </g>\r\n     </g>\r\n    </g>\r\n    <g id=\"xtick_2\">\r\n     <g id=\"line2d_2\">\r\n      <g>\r\n       <use style=\"stroke:#000000;stroke-width:0.8;\" x=\"278.025\" xlink:href=\"#ma33e22adbf\" y=\"224.64\"/>\r\n      </g>\r\n     </g>\r\n     <g id=\"text_2\">\r\n      <!-- Below Average -->\r\n      <defs>\r\n       <path d=\"M 19.671875 34.8125 \r\nL 19.671875 8.109375 \r\nL 35.5 8.109375 \r\nQ 43.453125 8.109375 47.28125 11.40625 \r\nQ 51.125 14.703125 51.125 21.484375 \r\nQ 51.125 28.328125 47.28125 31.5625 \r\nQ 43.453125 34.8125 35.5 34.8125 \r\nz\r\nM 19.671875 64.796875 \r\nL 19.671875 42.828125 \r\nL 34.28125 42.828125 \r\nQ 41.5 42.828125 45.03125 45.53125 \r\nQ 48.578125 48.25 48.578125 53.8125 \r\nQ 48.578125 59.328125 45.03125 62.0625 \r\nQ 41.5 64.796875 34.28125 64.796875 \r\nz\r\nM 9.8125 72.90625 \r\nL 35.015625 72.90625 \r\nQ 46.296875 72.90625 52.390625 68.21875 \r\nQ 58.5 63.53125 58.5 54.890625 \r\nQ 58.5 48.1875 55.375 44.234375 \r\nQ 52.25 40.28125 46.1875 39.3125 \r\nQ 53.46875 37.75 57.5 32.78125 \r\nQ 61.53125 27.828125 61.53125 20.40625 \r\nQ 61.53125 10.640625 54.890625 5.3125 \r\nQ 48.25 0 35.984375 0 \r\nL 9.8125 0 \r\nz\r\n\" id=\"DejaVuSans-66\"/>\r\n       <path d=\"M 9.421875 75.984375 \r\nL 18.40625 75.984375 \r\nL 18.40625 0 \r\nL 9.421875 0 \r\nz\r\n\" id=\"DejaVuSans-108\"/>\r\n       <path d=\"M 4.203125 54.6875 \r\nL 13.1875 54.6875 \r\nL 24.421875 12.015625 \r\nL 35.59375 54.6875 \r\nL 46.1875 54.6875 \r\nL 57.421875 12.015625 \r\nL 68.609375 54.6875 \r\nL 77.59375 54.6875 \r\nL 63.28125 0 \r\nL 52.6875 0 \r\nL 40.921875 44.828125 \r\nL 29.109375 0 \r\nL 18.5 0 \r\nz\r\n\" id=\"DejaVuSans-119\"/>\r\n      </defs>\r\n      <g transform=\"translate(280.784375 306.5525)rotate(-90)scale(0.1 -0.1)\">\r\n       <use xlink:href=\"#DejaVuSans-66\"/>\r\n       <use x=\"68.603516\" xlink:href=\"#DejaVuSans-101\"/>\r\n       <use x=\"130.126953\" xlink:href=\"#DejaVuSans-108\"/>\r\n       <use x=\"157.910156\" xlink:href=\"#DejaVuSans-111\"/>\r\n       <use x=\"219.091797\" xlink:href=\"#DejaVuSans-119\"/>\r\n       <use x=\"300.878906\" xlink:href=\"#DejaVuSans-32\"/>\r\n       <use x=\"332.666016\" xlink:href=\"#DejaVuSans-65\"/>\r\n       <use x=\"400.996094\" xlink:href=\"#DejaVuSans-118\"/>\r\n       <use x=\"460.175781\" xlink:href=\"#DejaVuSans-101\"/>\r\n       <use x=\"521.699219\" xlink:href=\"#DejaVuSans-114\"/>\r\n       <use x=\"562.8125\" xlink:href=\"#DejaVuSans-97\"/>\r\n       <use x=\"624.091797\" xlink:href=\"#DejaVuSans-103\"/>\r\n       <use x=\"687.568359\" xlink:href=\"#DejaVuSans-101\"/>\r\n      </g>\r\n     </g>\r\n    </g>\r\n   </g>\r\n   <g id=\"matplotlib.axis_2\">\r\n    <g id=\"ytick_1\">\r\n     <g id=\"line2d_3\">\r\n      <defs>\r\n       <path d=\"M 0 0 \r\nL -3.5 0 \r\n\" id=\"mcc1091be0e\" style=\"stroke:#000000;stroke-width:0.8;\"/>\r\n      </defs>\r\n      <g>\r\n       <use style=\"stroke:#000000;stroke-width:0.8;\" x=\"26.925\" xlink:href=\"#mcc1091be0e\" y=\"224.64\"/>\r\n      </g>\r\n     </g>\r\n     <g id=\"text_3\">\r\n      <!-- 0 -->\r\n      <defs>\r\n       <path d=\"M 31.78125 66.40625 \r\nQ 24.171875 66.40625 20.328125 58.90625 \r\nQ 16.5 51.421875 16.5 36.375 \r\nQ 16.5 21.390625 20.328125 13.890625 \r\nQ 24.171875 6.390625 31.78125 6.390625 \r\nQ 39.453125 6.390625 43.28125 13.890625 \r\nQ 47.125 21.390625 47.125 36.375 \r\nQ 47.125 51.421875 43.28125 58.90625 \r\nQ 39.453125 66.40625 31.78125 66.40625 \r\nz\r\nM 31.78125 74.21875 \r\nQ 44.046875 74.21875 50.515625 64.515625 \r\nQ 56.984375 54.828125 56.984375 36.375 \r\nQ 56.984375 17.96875 50.515625 8.265625 \r\nQ 44.046875 -1.421875 31.78125 -1.421875 \r\nQ 19.53125 -1.421875 13.0625 8.265625 \r\nQ 6.59375 17.96875 6.59375 36.375 \r\nQ 6.59375 54.828125 13.0625 64.515625 \r\nQ 19.53125 74.21875 31.78125 74.21875 \r\nz\r\n\" id=\"DejaVuSans-48\"/>\r\n      </defs>\r\n      <g transform=\"translate(13.5625 228.439219)scale(0.1 -0.1)\">\r\n       <use xlink:href=\"#DejaVuSans-48\"/>\r\n      </g>\r\n     </g>\r\n    </g>\r\n    <g id=\"ytick_2\">\r\n     <g id=\"line2d_4\">\r\n      <g>\r\n       <use style=\"stroke:#000000;stroke-width:0.8;\" x=\"26.925\" xlink:href=\"#mcc1091be0e\" y=\"197.028571\"/>\r\n      </g>\r\n     </g>\r\n     <g id=\"text_4\">\r\n      <!-- 10 -->\r\n      <defs>\r\n       <path d=\"M 12.40625 8.296875 \r\nL 28.515625 8.296875 \r\nL 28.515625 63.921875 \r\nL 10.984375 60.40625 \r\nL 10.984375 69.390625 \r\nL 28.421875 72.90625 \r\nL 38.28125 72.90625 \r\nL 38.28125 8.296875 \r\nL 54.390625 8.296875 \r\nL 54.390625 0 \r\nL 12.40625 0 \r\nz\r\n\" id=\"DejaVuSans-49\"/>\r\n      </defs>\r\n      <g transform=\"translate(7.2 200.82779)scale(0.1 -0.1)\">\r\n       <use xlink:href=\"#DejaVuSans-49\"/>\r\n       <use x=\"63.623047\" xlink:href=\"#DejaVuSans-48\"/>\r\n      </g>\r\n     </g>\r\n    </g>\r\n    <g id=\"ytick_3\">\r\n     <g id=\"line2d_5\">\r\n      <g>\r\n       <use style=\"stroke:#000000;stroke-width:0.8;\" x=\"26.925\" xlink:href=\"#mcc1091be0e\" y=\"169.417143\"/>\r\n      </g>\r\n     </g>\r\n     <g id=\"text_5\">\r\n      <!-- 20 -->\r\n      <defs>\r\n       <path d=\"M 19.1875 8.296875 \r\nL 53.609375 8.296875 \r\nL 53.609375 0 \r\nL 7.328125 0 \r\nL 7.328125 8.296875 \r\nQ 12.9375 14.109375 22.625 23.890625 \r\nQ 32.328125 33.6875 34.8125 36.53125 \r\nQ 39.546875 41.84375 41.421875 45.53125 \r\nQ 43.3125 49.21875 43.3125 52.78125 \r\nQ 43.3125 58.59375 39.234375 62.25 \r\nQ 35.15625 65.921875 28.609375 65.921875 \r\nQ 23.96875 65.921875 18.8125 64.3125 \r\nQ 13.671875 62.703125 7.8125 59.421875 \r\nL 7.8125 69.390625 \r\nQ 13.765625 71.78125 18.9375 73 \r\nQ 24.125 74.21875 28.421875 74.21875 \r\nQ 39.75 74.21875 46.484375 68.546875 \r\nQ 53.21875 62.890625 53.21875 53.421875 \r\nQ 53.21875 48.921875 51.53125 44.890625 \r\nQ 49.859375 40.875 45.40625 35.40625 \r\nQ 44.1875 33.984375 37.640625 27.21875 \r\nQ 31.109375 20.453125 19.1875 8.296875 \r\nz\r\n\" id=\"DejaVuSans-50\"/>\r\n      </defs>\r\n      <g transform=\"translate(7.2 173.216362)scale(0.1 -0.1)\">\r\n       <use xlink:href=\"#DejaVuSans-50\"/>\r\n       <use x=\"63.623047\" xlink:href=\"#DejaVuSans-48\"/>\r\n      </g>\r\n     </g>\r\n    </g>\r\n    <g id=\"ytick_4\">\r\n     <g id=\"line2d_6\">\r\n      <g>\r\n       <use style=\"stroke:#000000;stroke-width:0.8;\" x=\"26.925\" xlink:href=\"#mcc1091be0e\" y=\"141.805714\"/>\r\n      </g>\r\n     </g>\r\n     <g id=\"text_6\">\r\n      <!-- 30 -->\r\n      <defs>\r\n       <path d=\"M 40.578125 39.3125 \r\nQ 47.65625 37.796875 51.625 33 \r\nQ 55.609375 28.21875 55.609375 21.1875 \r\nQ 55.609375 10.40625 48.1875 4.484375 \r\nQ 40.765625 -1.421875 27.09375 -1.421875 \r\nQ 22.515625 -1.421875 17.65625 -0.515625 \r\nQ 12.796875 0.390625 7.625 2.203125 \r\nL 7.625 11.71875 \r\nQ 11.71875 9.328125 16.59375 8.109375 \r\nQ 21.484375 6.890625 26.8125 6.890625 \r\nQ 36.078125 6.890625 40.9375 10.546875 \r\nQ 45.796875 14.203125 45.796875 21.1875 \r\nQ 45.796875 27.640625 41.28125 31.265625 \r\nQ 36.765625 34.90625 28.71875 34.90625 \r\nL 20.21875 34.90625 \r\nL 20.21875 43.015625 \r\nL 29.109375 43.015625 \r\nQ 36.375 43.015625 40.234375 45.921875 \r\nQ 44.09375 48.828125 44.09375 54.296875 \r\nQ 44.09375 59.90625 40.109375 62.90625 \r\nQ 36.140625 65.921875 28.71875 65.921875 \r\nQ 24.65625 65.921875 20.015625 65.03125 \r\nQ 15.375 64.15625 9.8125 62.3125 \r\nL 9.8125 71.09375 \r\nQ 15.4375 72.65625 20.34375 73.4375 \r\nQ 25.25 74.21875 29.59375 74.21875 \r\nQ 40.828125 74.21875 47.359375 69.109375 \r\nQ 53.90625 64.015625 53.90625 55.328125 \r\nQ 53.90625 49.265625 50.4375 45.09375 \r\nQ 46.96875 40.921875 40.578125 39.3125 \r\nz\r\n\" id=\"DejaVuSans-51\"/>\r\n      </defs>\r\n      <g transform=\"translate(7.2 145.604933)scale(0.1 -0.1)\">\r\n       <use xlink:href=\"#DejaVuSans-51\"/>\r\n       <use x=\"63.623047\" xlink:href=\"#DejaVuSans-48\"/>\r\n      </g>\r\n     </g>\r\n    </g>\r\n    <g id=\"ytick_5\">\r\n     <g id=\"line2d_7\">\r\n      <g>\r\n       <use style=\"stroke:#000000;stroke-width:0.8;\" x=\"26.925\" xlink:href=\"#mcc1091be0e\" y=\"114.194286\"/>\r\n      </g>\r\n     </g>\r\n     <g id=\"text_7\">\r\n      <!-- 40 -->\r\n      <defs>\r\n       <path d=\"M 37.796875 64.3125 \r\nL 12.890625 25.390625 \r\nL 37.796875 25.390625 \r\nz\r\nM 35.203125 72.90625 \r\nL 47.609375 72.90625 \r\nL 47.609375 25.390625 \r\nL 58.015625 25.390625 \r\nL 58.015625 17.1875 \r\nL 47.609375 17.1875 \r\nL 47.609375 0 \r\nL 37.796875 0 \r\nL 37.796875 17.1875 \r\nL 4.890625 17.1875 \r\nL 4.890625 26.703125 \r\nz\r\n\" id=\"DejaVuSans-52\"/>\r\n      </defs>\r\n      <g transform=\"translate(7.2 117.993504)scale(0.1 -0.1)\">\r\n       <use xlink:href=\"#DejaVuSans-52\"/>\r\n       <use x=\"63.623047\" xlink:href=\"#DejaVuSans-48\"/>\r\n      </g>\r\n     </g>\r\n    </g>\r\n    <g id=\"ytick_6\">\r\n     <g id=\"line2d_8\">\r\n      <g>\r\n       <use style=\"stroke:#000000;stroke-width:0.8;\" x=\"26.925\" xlink:href=\"#mcc1091be0e\" y=\"86.582857\"/>\r\n      </g>\r\n     </g>\r\n     <g id=\"text_8\">\r\n      <!-- 50 -->\r\n      <defs>\r\n       <path d=\"M 10.796875 72.90625 \r\nL 49.515625 72.90625 \r\nL 49.515625 64.59375 \r\nL 19.828125 64.59375 \r\nL 19.828125 46.734375 \r\nQ 21.96875 47.46875 24.109375 47.828125 \r\nQ 26.265625 48.1875 28.421875 48.1875 \r\nQ 40.625 48.1875 47.75 41.5 \r\nQ 54.890625 34.8125 54.890625 23.390625 \r\nQ 54.890625 11.625 47.5625 5.09375 \r\nQ 40.234375 -1.421875 26.90625 -1.421875 \r\nQ 22.3125 -1.421875 17.546875 -0.640625 \r\nQ 12.796875 0.140625 7.71875 1.703125 \r\nL 7.71875 11.625 \r\nQ 12.109375 9.234375 16.796875 8.0625 \r\nQ 21.484375 6.890625 26.703125 6.890625 \r\nQ 35.15625 6.890625 40.078125 11.328125 \r\nQ 45.015625 15.765625 45.015625 23.390625 \r\nQ 45.015625 31 40.078125 35.4375 \r\nQ 35.15625 39.890625 26.703125 39.890625 \r\nQ 22.75 39.890625 18.8125 39.015625 \r\nQ 14.890625 38.140625 10.796875 36.28125 \r\nz\r\n\" id=\"DejaVuSans-53\"/>\r\n      </defs>\r\n      <g transform=\"translate(7.2 90.382076)scale(0.1 -0.1)\">\r\n       <use xlink:href=\"#DejaVuSans-53\"/>\r\n       <use x=\"63.623047\" xlink:href=\"#DejaVuSans-48\"/>\r\n      </g>\r\n     </g>\r\n    </g>\r\n    <g id=\"ytick_7\">\r\n     <g id=\"line2d_9\">\r\n      <g>\r\n       <use style=\"stroke:#000000;stroke-width:0.8;\" x=\"26.925\" xlink:href=\"#mcc1091be0e\" y=\"58.971429\"/>\r\n      </g>\r\n     </g>\r\n     <g id=\"text_9\">\r\n      <!-- 60 -->\r\n      <defs>\r\n       <path d=\"M 33.015625 40.375 \r\nQ 26.375 40.375 22.484375 35.828125 \r\nQ 18.609375 31.296875 18.609375 23.390625 \r\nQ 18.609375 15.53125 22.484375 10.953125 \r\nQ 26.375 6.390625 33.015625 6.390625 \r\nQ 39.65625 6.390625 43.53125 10.953125 \r\nQ 47.40625 15.53125 47.40625 23.390625 \r\nQ 47.40625 31.296875 43.53125 35.828125 \r\nQ 39.65625 40.375 33.015625 40.375 \r\nz\r\nM 52.59375 71.296875 \r\nL 52.59375 62.3125 \r\nQ 48.875 64.0625 45.09375 64.984375 \r\nQ 41.3125 65.921875 37.59375 65.921875 \r\nQ 27.828125 65.921875 22.671875 59.328125 \r\nQ 17.53125 52.734375 16.796875 39.40625 \r\nQ 19.671875 43.65625 24.015625 45.921875 \r\nQ 28.375 48.1875 33.59375 48.1875 \r\nQ 44.578125 48.1875 50.953125 41.515625 \r\nQ 57.328125 34.859375 57.328125 23.390625 \r\nQ 57.328125 12.15625 50.6875 5.359375 \r\nQ 44.046875 -1.421875 33.015625 -1.421875 \r\nQ 20.359375 -1.421875 13.671875 8.265625 \r\nQ 6.984375 17.96875 6.984375 36.375 \r\nQ 6.984375 53.65625 15.1875 63.9375 \r\nQ 23.390625 74.21875 37.203125 74.21875 \r\nQ 40.921875 74.21875 44.703125 73.484375 \r\nQ 48.484375 72.75 52.59375 71.296875 \r\nz\r\n\" id=\"DejaVuSans-54\"/>\r\n      </defs>\r\n      <g transform=\"translate(7.2 62.770647)scale(0.1 -0.1)\">\r\n       <use xlink:href=\"#DejaVuSans-54\"/>\r\n       <use x=\"63.623047\" xlink:href=\"#DejaVuSans-48\"/>\r\n      </g>\r\n     </g>\r\n    </g>\r\n    <g id=\"ytick_8\">\r\n     <g id=\"line2d_10\">\r\n      <g>\r\n       <use style=\"stroke:#000000;stroke-width:0.8;\" x=\"26.925\" xlink:href=\"#mcc1091be0e\" y=\"31.36\"/>\r\n      </g>\r\n     </g>\r\n     <g id=\"text_10\">\r\n      <!-- 70 -->\r\n      <defs>\r\n       <path d=\"M 8.203125 72.90625 \r\nL 55.078125 72.90625 \r\nL 55.078125 68.703125 \r\nL 28.609375 0 \r\nL 18.3125 0 \r\nL 43.21875 64.59375 \r\nL 8.203125 64.59375 \r\nz\r\n\" id=\"DejaVuSans-55\"/>\r\n      </defs>\r\n      <g transform=\"translate(7.2 35.159219)scale(0.1 -0.1)\">\r\n       <use xlink:href=\"#DejaVuSans-55\"/>\r\n       <use x=\"63.623047\" xlink:href=\"#DejaVuSans-48\"/>\r\n      </g>\r\n     </g>\r\n    </g>\r\n   </g>\r\n   <g id=\"patch_5\">\r\n    <path d=\"M 26.925 224.64 \r\nL 26.925 7.2 \r\n\" style=\"fill:none;stroke:#000000;stroke-linecap:square;stroke-linejoin:miter;stroke-width:0.8;\"/>\r\n   </g>\r\n   <g id=\"patch_6\">\r\n    <path d=\"M 361.725 224.64 \r\nL 361.725 7.2 \r\n\" style=\"fill:none;stroke:#000000;stroke-linecap:square;stroke-linejoin:miter;stroke-width:0.8;\"/>\r\n   </g>\r\n   <g id=\"patch_7\">\r\n    <path d=\"M 26.925 224.64 \r\nL 361.725 224.64 \r\n\" style=\"fill:none;stroke:#000000;stroke-linecap:square;stroke-linejoin:miter;stroke-width:0.8;\"/>\r\n   </g>\r\n   <g id=\"patch_8\">\r\n    <path d=\"M 26.925 7.2 \r\nL 361.725 7.2 \r\n\" style=\"fill:none;stroke:#000000;stroke-linecap:square;stroke-linejoin:miter;stroke-width:0.8;\"/>\r\n   </g>\r\n  </g>\r\n </g>\r\n <defs>\r\n  <clipPath id=\"p59e3184698\">\r\n   <rect height=\"217.44\" width=\"334.8\" x=\"26.925\" y=\"7.2\"/>\r\n  </clipPath>\r\n </defs>\r\n</svg>\r\n",
      "text/plain": "<Figure size 432x288 with 1 Axes>"
     },
     "metadata": {
      "needs_background": "light"
     },
     "output_type": "display_data"
    }
   ],
   "source": [
    "#Show class barchart\n",
    "all_data_lag['Shipment Performance Category'].value_counts().plot('bar')"
   ]
  },
  {
   "cell_type": "code",
   "execution_count": 86,
   "metadata": {},
   "outputs": [
    {
     "data": {
      "text/plain": "array([[<matplotlib.axes._subplots.AxesSubplot object at 0x00000233D544B3C8>]],\n      dtype=object)"
     },
     "execution_count": 86,
     "metadata": {},
     "output_type": "execute_result"
    },
    {
     "data": {
      "image/png": "[encoded data removed]",
      "image/svg+xml": "<?xml version=\"1.0\" encoding=\"utf-8\" standalone=\"no\"?>\r\n<!DOCTYPE svg PUBLIC \"-//W3C//DTD SVG 1.1//EN\"\r\n  \"http://www.w3.org/Graphics/SVG/1.1/DTD/svg11.dtd\">\r\n<!-- Created with matplotlib (https://matplotlib.org/) -->\r\n<svg height=\"263.63625pt\" version=\"1.1\" viewBox=\"0 0 378.465625 263.63625\" width=\"378.465625pt\" xmlns=\"http://www.w3.org/2000/svg\" xmlns:xlink=\"http://www.w3.org/1999/xlink\">\r\n <defs>\r\n  <style type=\"text/css\">\r\n*{stroke-linecap:butt;stroke-linejoin:round;}\r\n  </style>\r\n </defs>\r\n <g id=\"figure_1\">\r\n  <g id=\"patch_1\">\r\n   <path d=\"M 0 263.63625 \r\nL 378.465625 263.63625 \r\nL 378.465625 0 \r\nL 0 0 \r\nz\r\n\" style=\"fill:none;\"/>\r\n  </g>\r\n  <g id=\"axes_1\">\r\n   <g id=\"patch_2\">\r\n    <path d=\"M 36.465625 239.758125 \r\nL 371.265625 239.758125 \r\nL 371.265625 22.318125 \r\nL 36.465625 22.318125 \r\nz\r\n\" style=\"fill:#ffffff;\"/>\r\n   </g>\r\n   <g id=\"patch_3\">\r\n    <path clip-path=\"url(#p70d76ebe1a)\" d=\"M 51.683807 239.758125 \r\nL 82.12017 239.758125 \r\nL 82.12017 43.571659 \r\nL 51.683807 43.571659 \r\nz\r\n\" style=\"fill:#1f77b4;\"/>\r\n   </g>\r\n   <g id=\"patch_4\">\r\n    <path clip-path=\"url(#p70d76ebe1a)\" d=\"M 82.12017 239.758125 \r\nL 112.556534 239.758125 \r\nL 112.556534 65.370155 \r\nL 82.12017 65.370155 \r\nz\r\n\" style=\"fill:#1f77b4;\"/>\r\n   </g>\r\n   <g id=\"patch_5\">\r\n    <path clip-path=\"url(#p70d76ebe1a)\" d=\"M 112.556534 239.758125 \r\nL 142.992898 239.758125 \r\nL 142.992898 87.168651 \r\nL 112.556534 87.168651 \r\nz\r\n\" style=\"fill:#1f77b4;\"/>\r\n   </g>\r\n   <g id=\"patch_6\">\r\n    <path clip-path=\"url(#p70d76ebe1a)\" d=\"M 142.992898 239.758125 \r\nL 173.429261 239.758125 \r\nL 173.429261 32.672411 \r\nL 142.992898 32.672411 \r\nz\r\n\" style=\"fill:#1f77b4;\"/>\r\n   </g>\r\n   <g id=\"patch_7\">\r\n    <path clip-path=\"url(#p70d76ebe1a)\" d=\"M 173.429261 239.758125 \r\nL 203.865625 239.758125 \r\nL 203.865625 98.067899 \r\nL 173.429261 98.067899 \r\nz\r\n\" style=\"fill:#1f77b4;\"/>\r\n   </g>\r\n   <g id=\"patch_8\">\r\n    <path clip-path=\"url(#p70d76ebe1a)\" d=\"M 203.865625 239.758125 \r\nL 234.301989 239.758125 \r\nL 234.301989 32.672411 \r\nL 203.865625 32.672411 \r\nz\r\n\" style=\"fill:#1f77b4;\"/>\r\n   </g>\r\n   <g id=\"patch_9\">\r\n    <path clip-path=\"url(#p70d76ebe1a)\" d=\"M 234.301989 239.758125 \r\nL 264.738352 239.758125 \r\nL 264.738352 108.967148 \r\nL 234.301989 108.967148 \r\nz\r\n\" style=\"fill:#1f77b4;\"/>\r\n   </g>\r\n   <g id=\"patch_10\">\r\n    <path clip-path=\"url(#p70d76ebe1a)\" d=\"M 264.738352 239.758125 \r\nL 295.174716 239.758125 \r\nL 295.174716 98.067899 \r\nL 264.738352 98.067899 \r\nz\r\n\" style=\"fill:#1f77b4;\"/>\r\n   </g>\r\n   <g id=\"patch_11\">\r\n    <path clip-path=\"url(#p70d76ebe1a)\" d=\"M 295.174716 239.758125 \r\nL 325.61108 239.758125 \r\nL 325.61108 87.168651 \r\nL 295.174716 87.168651 \r\nz\r\n\" style=\"fill:#1f77b4;\"/>\r\n   </g>\r\n   <g id=\"patch_12\">\r\n    <path clip-path=\"url(#p70d76ebe1a)\" d=\"M 325.61108 239.758125 \r\nL 356.047443 239.758125 \r\nL 356.047443 185.261884 \r\nL 325.61108 185.261884 \r\nz\r\n\" style=\"fill:#1f77b4;\"/>\r\n   </g>\r\n   <g id=\"matplotlib.axis_1\">\r\n    <g id=\"xtick_1\">\r\n     <g id=\"line2d_1\">\r\n      <path clip-path=\"url(#p70d76ebe1a)\" d=\"M 51.683807 239.758125 \r\nL 51.683807 22.318125 \r\n\" style=\"fill:none;stroke:#b0b0b0;stroke-linecap:square;stroke-width:0.8;\"/>\r\n     </g>\r\n     <g id=\"line2d_2\">\r\n      <defs>\r\n       <path d=\"M 0 0 \r\nL 0 3.5 \r\n\" id=\"m3b3fecbb44\" style=\"stroke:#000000;stroke-width:0.8;\"/>\r\n      </defs>\r\n      <g>\r\n       <use style=\"stroke:#000000;stroke-width:0.8;\" x=\"51.683807\" xlink:href=\"#m3b3fecbb44\" y=\"239.758125\"/>\r\n      </g>\r\n     </g>\r\n     <g id=\"text_1\">\r\n      <!-- 0.0 -->\r\n      <defs>\r\n       <path d=\"M 31.78125 66.40625 \r\nQ 24.171875 66.40625 20.328125 58.90625 \r\nQ 16.5 51.421875 16.5 36.375 \r\nQ 16.5 21.390625 20.328125 13.890625 \r\nQ 24.171875 6.390625 31.78125 6.390625 \r\nQ 39.453125 6.390625 43.28125 13.890625 \r\nQ 47.125 21.390625 47.125 36.375 \r\nQ 47.125 51.421875 43.28125 58.90625 \r\nQ 39.453125 66.40625 31.78125 66.40625 \r\nz\r\nM 31.78125 74.21875 \r\nQ 44.046875 74.21875 50.515625 64.515625 \r\nQ 56.984375 54.828125 56.984375 36.375 \r\nQ 56.984375 17.96875 50.515625 8.265625 \r\nQ 44.046875 -1.421875 31.78125 -1.421875 \r\nQ 19.53125 -1.421875 13.0625 8.265625 \r\nQ 6.59375 17.96875 6.59375 36.375 \r\nQ 6.59375 54.828125 13.0625 64.515625 \r\nQ 19.53125 74.21875 31.78125 74.21875 \r\nz\r\n\" id=\"DejaVuSans-48\"/>\r\n       <path d=\"M 10.6875 12.40625 \r\nL 21 12.40625 \r\nL 21 0 \r\nL 10.6875 0 \r\nz\r\n\" id=\"DejaVuSans-46\"/>\r\n      </defs>\r\n      <g transform=\"translate(43.732244 254.356563)scale(0.1 -0.1)\">\r\n       <use xlink:href=\"#DejaVuSans-48\"/>\r\n       <use x=\"63.623047\" xlink:href=\"#DejaVuSans-46\"/>\r\n       <use x=\"95.410156\" xlink:href=\"#DejaVuSans-48\"/>\r\n      </g>\r\n     </g>\r\n    </g>\r\n    <g id=\"xtick_2\">\r\n     <g id=\"line2d_3\">\r\n      <path clip-path=\"url(#p70d76ebe1a)\" d=\"M 112.556534 239.758125 \r\nL 112.556534 22.318125 \r\n\" style=\"fill:none;stroke:#b0b0b0;stroke-linecap:square;stroke-width:0.8;\"/>\r\n     </g>\r\n     <g id=\"line2d_4\">\r\n      <g>\r\n       <use style=\"stroke:#000000;stroke-width:0.8;\" x=\"112.556534\" xlink:href=\"#m3b3fecbb44\" y=\"239.758125\"/>\r\n      </g>\r\n     </g>\r\n     <g id=\"text_2\">\r\n      <!-- 0.2 -->\r\n      <defs>\r\n       <path d=\"M 19.1875 8.296875 \r\nL 53.609375 8.296875 \r\nL 53.609375 0 \r\nL 7.328125 0 \r\nL 7.328125 8.296875 \r\nQ 12.9375 14.109375 22.625 23.890625 \r\nQ 32.328125 33.6875 34.8125 36.53125 \r\nQ 39.546875 41.84375 41.421875 45.53125 \r\nQ 43.3125 49.21875 43.3125 52.78125 \r\nQ 43.3125 58.59375 39.234375 62.25 \r\nQ 35.15625 65.921875 28.609375 65.921875 \r\nQ 23.96875 65.921875 18.8125 64.3125 \r\nQ 13.671875 62.703125 7.8125 59.421875 \r\nL 7.8125 69.390625 \r\nQ 13.765625 71.78125 18.9375 73 \r\nQ 24.125 74.21875 28.421875 74.21875 \r\nQ 39.75 74.21875 46.484375 68.546875 \r\nQ 53.21875 62.890625 53.21875 53.421875 \r\nQ 53.21875 48.921875 51.53125 44.890625 \r\nQ 49.859375 40.875 45.40625 35.40625 \r\nQ 44.1875 33.984375 37.640625 27.21875 \r\nQ 31.109375 20.453125 19.1875 8.296875 \r\nz\r\n\" id=\"DejaVuSans-50\"/>\r\n      </defs>\r\n      <g transform=\"translate(104.604972 254.356563)scale(0.1 -0.1)\">\r\n       <use xlink:href=\"#DejaVuSans-48\"/>\r\n       <use x=\"63.623047\" xlink:href=\"#DejaVuSans-46\"/>\r\n       <use x=\"95.410156\" xlink:href=\"#DejaVuSans-50\"/>\r\n      </g>\r\n     </g>\r\n    </g>\r\n    <g id=\"xtick_3\">\r\n     <g id=\"line2d_5\">\r\n      <path clip-path=\"url(#p70d76ebe1a)\" d=\"M 173.429261 239.758125 \r\nL 173.429261 22.318125 \r\n\" style=\"fill:none;stroke:#b0b0b0;stroke-linecap:square;stroke-width:0.8;\"/>\r\n     </g>\r\n     <g id=\"line2d_6\">\r\n      <g>\r\n       <use style=\"stroke:#000000;stroke-width:0.8;\" x=\"173.429261\" xlink:href=\"#m3b3fecbb44\" y=\"239.758125\"/>\r\n      </g>\r\n     </g>\r\n     <g id=\"text_3\">\r\n      <!-- 0.4 -->\r\n      <defs>\r\n       <path d=\"M 37.796875 64.3125 \r\nL 12.890625 25.390625 \r\nL 37.796875 25.390625 \r\nz\r\nM 35.203125 72.90625 \r\nL 47.609375 72.90625 \r\nL 47.609375 25.390625 \r\nL 58.015625 25.390625 \r\nL 58.015625 17.1875 \r\nL 47.609375 17.1875 \r\nL 47.609375 0 \r\nL 37.796875 0 \r\nL 37.796875 17.1875 \r\nL 4.890625 17.1875 \r\nL 4.890625 26.703125 \r\nz\r\n\" id=\"DejaVuSans-52\"/>\r\n      </defs>\r\n      <g transform=\"translate(165.477699 254.356563)scale(0.1 -0.1)\">\r\n       <use xlink:href=\"#DejaVuSans-48\"/>\r\n       <use x=\"63.623047\" xlink:href=\"#DejaVuSans-46\"/>\r\n       <use x=\"95.410156\" xlink:href=\"#DejaVuSans-52\"/>\r\n      </g>\r\n     </g>\r\n    </g>\r\n    <g id=\"xtick_4\">\r\n     <g id=\"line2d_7\">\r\n      <path clip-path=\"url(#p70d76ebe1a)\" d=\"M 234.301989 239.758125 \r\nL 234.301989 22.318125 \r\n\" style=\"fill:none;stroke:#b0b0b0;stroke-linecap:square;stroke-width:0.8;\"/>\r\n     </g>\r\n     <g id=\"line2d_8\">\r\n      <g>\r\n       <use style=\"stroke:#000000;stroke-width:0.8;\" x=\"234.301989\" xlink:href=\"#m3b3fecbb44\" y=\"239.758125\"/>\r\n      </g>\r\n     </g>\r\n     <g id=\"text_4\">\r\n      <!-- 0.6 -->\r\n      <defs>\r\n       <path d=\"M 33.015625 40.375 \r\nQ 26.375 40.375 22.484375 35.828125 \r\nQ 18.609375 31.296875 18.609375 23.390625 \r\nQ 18.609375 15.53125 22.484375 10.953125 \r\nQ 26.375 6.390625 33.015625 6.390625 \r\nQ 39.65625 6.390625 43.53125 10.953125 \r\nQ 47.40625 15.53125 47.40625 23.390625 \r\nQ 47.40625 31.296875 43.53125 35.828125 \r\nQ 39.65625 40.375 33.015625 40.375 \r\nz\r\nM 52.59375 71.296875 \r\nL 52.59375 62.3125 \r\nQ 48.875 64.0625 45.09375 64.984375 \r\nQ 41.3125 65.921875 37.59375 65.921875 \r\nQ 27.828125 65.921875 22.671875 59.328125 \r\nQ 17.53125 52.734375 16.796875 39.40625 \r\nQ 19.671875 43.65625 24.015625 45.921875 \r\nQ 28.375 48.1875 33.59375 48.1875 \r\nQ 44.578125 48.1875 50.953125 41.515625 \r\nQ 57.328125 34.859375 57.328125 23.390625 \r\nQ 57.328125 12.15625 50.6875 5.359375 \r\nQ 44.046875 -1.421875 33.015625 -1.421875 \r\nQ 20.359375 -1.421875 13.671875 8.265625 \r\nQ 6.984375 17.96875 6.984375 36.375 \r\nQ 6.984375 53.65625 15.1875 63.9375 \r\nQ 23.390625 74.21875 37.203125 74.21875 \r\nQ 40.921875 74.21875 44.703125 73.484375 \r\nQ 48.484375 72.75 52.59375 71.296875 \r\nz\r\n\" id=\"DejaVuSans-54\"/>\r\n      </defs>\r\n      <g transform=\"translate(226.350426 254.356563)scale(0.1 -0.1)\">\r\n       <use xlink:href=\"#DejaVuSans-48\"/>\r\n       <use x=\"63.623047\" xlink:href=\"#DejaVuSans-46\"/>\r\n       <use x=\"95.410156\" xlink:href=\"#DejaVuSans-54\"/>\r\n      </g>\r\n     </g>\r\n    </g>\r\n    <g id=\"xtick_5\">\r\n     <g id=\"line2d_9\">\r\n      <path clip-path=\"url(#p70d76ebe1a)\" d=\"M 295.174716 239.758125 \r\nL 295.174716 22.318125 \r\n\" style=\"fill:none;stroke:#b0b0b0;stroke-linecap:square;stroke-width:0.8;\"/>\r\n     </g>\r\n     <g id=\"line2d_10\">\r\n      <g>\r\n       <use style=\"stroke:#000000;stroke-width:0.8;\" x=\"295.174716\" xlink:href=\"#m3b3fecbb44\" y=\"239.758125\"/>\r\n      </g>\r\n     </g>\r\n     <g id=\"text_5\">\r\n      <!-- 0.8 -->\r\n      <defs>\r\n       <path d=\"M 31.78125 34.625 \r\nQ 24.75 34.625 20.71875 30.859375 \r\nQ 16.703125 27.09375 16.703125 20.515625 \r\nQ 16.703125 13.921875 20.71875 10.15625 \r\nQ 24.75 6.390625 31.78125 6.390625 \r\nQ 38.8125 6.390625 42.859375 10.171875 \r\nQ 46.921875 13.96875 46.921875 20.515625 \r\nQ 46.921875 27.09375 42.890625 30.859375 \r\nQ 38.875 34.625 31.78125 34.625 \r\nz\r\nM 21.921875 38.8125 \r\nQ 15.578125 40.375 12.03125 44.71875 \r\nQ 8.5 49.078125 8.5 55.328125 \r\nQ 8.5 64.0625 14.71875 69.140625 \r\nQ 20.953125 74.21875 31.78125 74.21875 \r\nQ 42.671875 74.21875 48.875 69.140625 \r\nQ 55.078125 64.0625 55.078125 55.328125 \r\nQ 55.078125 49.078125 51.53125 44.71875 \r\nQ 48 40.375 41.703125 38.8125 \r\nQ 48.828125 37.15625 52.796875 32.3125 \r\nQ 56.78125 27.484375 56.78125 20.515625 \r\nQ 56.78125 9.90625 50.3125 4.234375 \r\nQ 43.84375 -1.421875 31.78125 -1.421875 \r\nQ 19.734375 -1.421875 13.25 4.234375 \r\nQ 6.78125 9.90625 6.78125 20.515625 \r\nQ 6.78125 27.484375 10.78125 32.3125 \r\nQ 14.796875 37.15625 21.921875 38.8125 \r\nz\r\nM 18.3125 54.390625 \r\nQ 18.3125 48.734375 21.84375 45.5625 \r\nQ 25.390625 42.390625 31.78125 42.390625 \r\nQ 38.140625 42.390625 41.71875 45.5625 \r\nQ 45.3125 48.734375 45.3125 54.390625 \r\nQ 45.3125 60.0625 41.71875 63.234375 \r\nQ 38.140625 66.40625 31.78125 66.40625 \r\nQ 25.390625 66.40625 21.84375 63.234375 \r\nQ 18.3125 60.0625 18.3125 54.390625 \r\nz\r\n\" id=\"DejaVuSans-56\"/>\r\n      </defs>\r\n      <g transform=\"translate(287.223153 254.356563)scale(0.1 -0.1)\">\r\n       <use xlink:href=\"#DejaVuSans-48\"/>\r\n       <use x=\"63.623047\" xlink:href=\"#DejaVuSans-46\"/>\r\n       <use x=\"95.410156\" xlink:href=\"#DejaVuSans-56\"/>\r\n      </g>\r\n     </g>\r\n    </g>\r\n    <g id=\"xtick_6\">\r\n     <g id=\"line2d_11\">\r\n      <path clip-path=\"url(#p70d76ebe1a)\" d=\"M 356.047443 239.758125 \r\nL 356.047443 22.318125 \r\n\" style=\"fill:none;stroke:#b0b0b0;stroke-linecap:square;stroke-width:0.8;\"/>\r\n     </g>\r\n     <g id=\"line2d_12\">\r\n      <g>\r\n       <use style=\"stroke:#000000;stroke-width:0.8;\" x=\"356.047443\" xlink:href=\"#m3b3fecbb44\" y=\"239.758125\"/>\r\n      </g>\r\n     </g>\r\n     <g id=\"text_6\">\r\n      <!-- 1.0 -->\r\n      <defs>\r\n       <path d=\"M 12.40625 8.296875 \r\nL 28.515625 8.296875 \r\nL 28.515625 63.921875 \r\nL 10.984375 60.40625 \r\nL 10.984375 69.390625 \r\nL 28.421875 72.90625 \r\nL 38.28125 72.90625 \r\nL 38.28125 8.296875 \r\nL 54.390625 8.296875 \r\nL 54.390625 0 \r\nL 12.40625 0 \r\nz\r\n\" id=\"DejaVuSans-49\"/>\r\n      </defs>\r\n      <g transform=\"translate(348.095881 254.356563)scale(0.1 -0.1)\">\r\n       <use xlink:href=\"#DejaVuSans-49\"/>\r\n       <use x=\"63.623047\" xlink:href=\"#DejaVuSans-46\"/>\r\n       <use x=\"95.410156\" xlink:href=\"#DejaVuSans-48\"/>\r\n      </g>\r\n     </g>\r\n    </g>\r\n   </g>\r\n   <g id=\"matplotlib.axis_2\">\r\n    <g id=\"ytick_1\">\r\n     <g id=\"line2d_13\">\r\n      <path clip-path=\"url(#p70d76ebe1a)\" d=\"M 36.465625 239.758125 \r\nL 371.265625 239.758125 \r\n\" style=\"fill:none;stroke:#b0b0b0;stroke-linecap:square;stroke-width:0.8;\"/>\r\n     </g>\r\n     <g id=\"line2d_14\">\r\n      <defs>\r\n       <path d=\"M 0 0 \r\nL -3.5 0 \r\n\" id=\"mf206eb8c7f\" style=\"stroke:#000000;stroke-width:0.8;\"/>\r\n      </defs>\r\n      <g>\r\n       <use style=\"stroke:#000000;stroke-width:0.8;\" x=\"36.465625\" xlink:href=\"#mf206eb8c7f\" y=\"239.758125\"/>\r\n      </g>\r\n     </g>\r\n     <g id=\"text_7\">\r\n      <!-- 0.0 -->\r\n      <g transform=\"translate(13.5625 243.557344)scale(0.1 -0.1)\">\r\n       <use xlink:href=\"#DejaVuSans-48\"/>\r\n       <use x=\"63.623047\" xlink:href=\"#DejaVuSans-46\"/>\r\n       <use x=\"95.410156\" xlink:href=\"#DejaVuSans-48\"/>\r\n      </g>\r\n     </g>\r\n    </g>\r\n    <g id=\"ytick_2\">\r\n     <g id=\"line2d_15\">\r\n      <path clip-path=\"url(#p70d76ebe1a)\" d=\"M 36.465625 212.510005 \r\nL 371.265625 212.510005 \r\n\" style=\"fill:none;stroke:#b0b0b0;stroke-linecap:square;stroke-width:0.8;\"/>\r\n     </g>\r\n     <g id=\"line2d_16\">\r\n      <g>\r\n       <use style=\"stroke:#000000;stroke-width:0.8;\" x=\"36.465625\" xlink:href=\"#mf206eb8c7f\" y=\"212.510005\"/>\r\n      </g>\r\n     </g>\r\n     <g id=\"text_8\">\r\n      <!-- 2.5 -->\r\n      <defs>\r\n       <path d=\"M 10.796875 72.90625 \r\nL 49.515625 72.90625 \r\nL 49.515625 64.59375 \r\nL 19.828125 64.59375 \r\nL 19.828125 46.734375 \r\nQ 21.96875 47.46875 24.109375 47.828125 \r\nQ 26.265625 48.1875 28.421875 48.1875 \r\nQ 40.625 48.1875 47.75 41.5 \r\nQ 54.890625 34.8125 54.890625 23.390625 \r\nQ 54.890625 11.625 47.5625 5.09375 \r\nQ 40.234375 -1.421875 26.90625 -1.421875 \r\nQ 22.3125 -1.421875 17.546875 -0.640625 \r\nQ 12.796875 0.140625 7.71875 1.703125 \r\nL 7.71875 11.625 \r\nQ 12.109375 9.234375 16.796875 8.0625 \r\nQ 21.484375 6.890625 26.703125 6.890625 \r\nQ 35.15625 6.890625 40.078125 11.328125 \r\nQ 45.015625 15.765625 45.015625 23.390625 \r\nQ 45.015625 31 40.078125 35.4375 \r\nQ 35.15625 39.890625 26.703125 39.890625 \r\nQ 22.75 39.890625 18.8125 39.015625 \r\nQ 14.890625 38.140625 10.796875 36.28125 \r\nz\r\n\" id=\"DejaVuSans-53\"/>\r\n      </defs>\r\n      <g transform=\"translate(13.5625 216.309223)scale(0.1 -0.1)\">\r\n       <use xlink:href=\"#DejaVuSans-50\"/>\r\n       <use x=\"63.623047\" xlink:href=\"#DejaVuSans-46\"/>\r\n       <use x=\"95.410156\" xlink:href=\"#DejaVuSans-53\"/>\r\n      </g>\r\n     </g>\r\n    </g>\r\n    <g id=\"ytick_3\">\r\n     <g id=\"line2d_17\">\r\n      <path clip-path=\"url(#p70d76ebe1a)\" d=\"M 36.465625 185.261884 \r\nL 371.265625 185.261884 \r\n\" style=\"fill:none;stroke:#b0b0b0;stroke-linecap:square;stroke-width:0.8;\"/>\r\n     </g>\r\n     <g id=\"line2d_18\">\r\n      <g>\r\n       <use style=\"stroke:#000000;stroke-width:0.8;\" x=\"36.465625\" xlink:href=\"#mf206eb8c7f\" y=\"185.261884\"/>\r\n      </g>\r\n     </g>\r\n     <g id=\"text_9\">\r\n      <!-- 5.0 -->\r\n      <g transform=\"translate(13.5625 189.061103)scale(0.1 -0.1)\">\r\n       <use xlink:href=\"#DejaVuSans-53\"/>\r\n       <use x=\"63.623047\" xlink:href=\"#DejaVuSans-46\"/>\r\n       <use x=\"95.410156\" xlink:href=\"#DejaVuSans-48\"/>\r\n      </g>\r\n     </g>\r\n    </g>\r\n    <g id=\"ytick_4\">\r\n     <g id=\"line2d_19\">\r\n      <path clip-path=\"url(#p70d76ebe1a)\" d=\"M 36.465625 158.013764 \r\nL 371.265625 158.013764 \r\n\" style=\"fill:none;stroke:#b0b0b0;stroke-linecap:square;stroke-width:0.8;\"/>\r\n     </g>\r\n     <g id=\"line2d_20\">\r\n      <g>\r\n       <use style=\"stroke:#000000;stroke-width:0.8;\" x=\"36.465625\" xlink:href=\"#mf206eb8c7f\" y=\"158.013764\"/>\r\n      </g>\r\n     </g>\r\n     <g id=\"text_10\">\r\n      <!-- 7.5 -->\r\n      <defs>\r\n       <path d=\"M 8.203125 72.90625 \r\nL 55.078125 72.90625 \r\nL 55.078125 68.703125 \r\nL 28.609375 0 \r\nL 18.3125 0 \r\nL 43.21875 64.59375 \r\nL 8.203125 64.59375 \r\nz\r\n\" id=\"DejaVuSans-55\"/>\r\n      </defs>\r\n      <g transform=\"translate(13.5625 161.812983)scale(0.1 -0.1)\">\r\n       <use xlink:href=\"#DejaVuSans-55\"/>\r\n       <use x=\"63.623047\" xlink:href=\"#DejaVuSans-46\"/>\r\n       <use x=\"95.410156\" xlink:href=\"#DejaVuSans-53\"/>\r\n      </g>\r\n     </g>\r\n    </g>\r\n    <g id=\"ytick_5\">\r\n     <g id=\"line2d_21\">\r\n      <path clip-path=\"url(#p70d76ebe1a)\" d=\"M 36.465625 130.765644 \r\nL 371.265625 130.765644 \r\n\" style=\"fill:none;stroke:#b0b0b0;stroke-linecap:square;stroke-width:0.8;\"/>\r\n     </g>\r\n     <g id=\"line2d_22\">\r\n      <g>\r\n       <use style=\"stroke:#000000;stroke-width:0.8;\" x=\"36.465625\" xlink:href=\"#mf206eb8c7f\" y=\"130.765644\"/>\r\n      </g>\r\n     </g>\r\n     <g id=\"text_11\">\r\n      <!-- 10.0 -->\r\n      <g transform=\"translate(7.2 134.564863)scale(0.1 -0.1)\">\r\n       <use xlink:href=\"#DejaVuSans-49\"/>\r\n       <use x=\"63.623047\" xlink:href=\"#DejaVuSans-48\"/>\r\n       <use x=\"127.246094\" xlink:href=\"#DejaVuSans-46\"/>\r\n       <use x=\"159.033203\" xlink:href=\"#DejaVuSans-48\"/>\r\n      </g>\r\n     </g>\r\n    </g>\r\n    <g id=\"ytick_6\">\r\n     <g id=\"line2d_23\">\r\n      <path clip-path=\"url(#p70d76ebe1a)\" d=\"M 36.465625 103.517523 \r\nL 371.265625 103.517523 \r\n\" style=\"fill:none;stroke:#b0b0b0;stroke-linecap:square;stroke-width:0.8;\"/>\r\n     </g>\r\n     <g id=\"line2d_24\">\r\n      <g>\r\n       <use style=\"stroke:#000000;stroke-width:0.8;\" x=\"36.465625\" xlink:href=\"#mf206eb8c7f\" y=\"103.517523\"/>\r\n      </g>\r\n     </g>\r\n     <g id=\"text_12\">\r\n      <!-- 12.5 -->\r\n      <g transform=\"translate(7.2 107.316742)scale(0.1 -0.1)\">\r\n       <use xlink:href=\"#DejaVuSans-49\"/>\r\n       <use x=\"63.623047\" xlink:href=\"#DejaVuSans-50\"/>\r\n       <use x=\"127.246094\" xlink:href=\"#DejaVuSans-46\"/>\r\n       <use x=\"159.033203\" xlink:href=\"#DejaVuSans-53\"/>\r\n      </g>\r\n     </g>\r\n    </g>\r\n    <g id=\"ytick_7\">\r\n     <g id=\"line2d_25\">\r\n      <path clip-path=\"url(#p70d76ebe1a)\" d=\"M 36.465625 76.269403 \r\nL 371.265625 76.269403 \r\n\" style=\"fill:none;stroke:#b0b0b0;stroke-linecap:square;stroke-width:0.8;\"/>\r\n     </g>\r\n     <g id=\"line2d_26\">\r\n      <g>\r\n       <use style=\"stroke:#000000;stroke-width:0.8;\" x=\"36.465625\" xlink:href=\"#mf206eb8c7f\" y=\"76.269403\"/>\r\n      </g>\r\n     </g>\r\n     <g id=\"text_13\">\r\n      <!-- 15.0 -->\r\n      <g transform=\"translate(7.2 80.068622)scale(0.1 -0.1)\">\r\n       <use xlink:href=\"#DejaVuSans-49\"/>\r\n       <use x=\"63.623047\" xlink:href=\"#DejaVuSans-53\"/>\r\n       <use x=\"127.246094\" xlink:href=\"#DejaVuSans-46\"/>\r\n       <use x=\"159.033203\" xlink:href=\"#DejaVuSans-48\"/>\r\n      </g>\r\n     </g>\r\n    </g>\r\n    <g id=\"ytick_8\">\r\n     <g id=\"line2d_27\">\r\n      <path clip-path=\"url(#p70d76ebe1a)\" d=\"M 36.465625 49.021283 \r\nL 371.265625 49.021283 \r\n\" style=\"fill:none;stroke:#b0b0b0;stroke-linecap:square;stroke-width:0.8;\"/>\r\n     </g>\r\n     <g id=\"line2d_28\">\r\n      <g>\r\n       <use style=\"stroke:#000000;stroke-width:0.8;\" x=\"36.465625\" xlink:href=\"#mf206eb8c7f\" y=\"49.021283\"/>\r\n      </g>\r\n     </g>\r\n     <g id=\"text_14\">\r\n      <!-- 17.5 -->\r\n      <g transform=\"translate(7.2 52.820502)scale(0.1 -0.1)\">\r\n       <use xlink:href=\"#DejaVuSans-49\"/>\r\n       <use x=\"63.623047\" xlink:href=\"#DejaVuSans-55\"/>\r\n       <use x=\"127.246094\" xlink:href=\"#DejaVuSans-46\"/>\r\n       <use x=\"159.033203\" xlink:href=\"#DejaVuSans-53\"/>\r\n      </g>\r\n     </g>\r\n    </g>\r\n   </g>\r\n   <g id=\"patch_13\">\r\n    <path d=\"M 36.465625 239.758125 \r\nL 36.465625 22.318125 \r\n\" style=\"fill:none;stroke:#000000;stroke-linecap:square;stroke-linejoin:miter;stroke-width:0.8;\"/>\r\n   </g>\r\n   <g id=\"patch_14\">\r\n    <path d=\"M 371.265625 239.758125 \r\nL 371.265625 22.318125 \r\n\" style=\"fill:none;stroke:#000000;stroke-linecap:square;stroke-linejoin:miter;stroke-width:0.8;\"/>\r\n   </g>\r\n   <g id=\"patch_15\">\r\n    <path d=\"M 36.465625 239.758125 \r\nL 371.265625 239.758125 \r\n\" style=\"fill:none;stroke:#000000;stroke-linecap:square;stroke-linejoin:miter;stroke-width:0.8;\"/>\r\n   </g>\r\n   <g id=\"patch_16\">\r\n    <path d=\"M 36.465625 22.318125 \r\nL 371.265625 22.318125 \r\n\" style=\"fill:none;stroke:#000000;stroke-linecap:square;stroke-linejoin:miter;stroke-width:0.8;\"/>\r\n   </g>\r\n   <g id=\"text_15\">\r\n    <!-- Shipment Lines On-Time Prop -->\r\n    <defs>\r\n     <path d=\"M 53.515625 70.515625 \r\nL 53.515625 60.890625 \r\nQ 47.90625 63.578125 42.921875 64.890625 \r\nQ 37.9375 66.21875 33.296875 66.21875 \r\nQ 25.25 66.21875 20.875 63.09375 \r\nQ 16.5 59.96875 16.5 54.203125 \r\nQ 16.5 49.359375 19.40625 46.890625 \r\nQ 22.3125 44.4375 30.421875 42.921875 \r\nL 36.375 41.703125 \r\nQ 47.40625 39.59375 52.65625 34.296875 \r\nQ 57.90625 29 57.90625 20.125 \r\nQ 57.90625 9.515625 50.796875 4.046875 \r\nQ 43.703125 -1.421875 29.984375 -1.421875 \r\nQ 24.8125 -1.421875 18.96875 -0.25 \r\nQ 13.140625 0.921875 6.890625 3.21875 \r\nL 6.890625 13.375 \r\nQ 12.890625 10.015625 18.65625 8.296875 \r\nQ 24.421875 6.59375 29.984375 6.59375 \r\nQ 38.421875 6.59375 43.015625 9.90625 \r\nQ 47.609375 13.234375 47.609375 19.390625 \r\nQ 47.609375 24.75 44.3125 27.78125 \r\nQ 41.015625 30.8125 33.5 32.328125 \r\nL 27.484375 33.5 \r\nQ 16.453125 35.6875 11.515625 40.375 \r\nQ 6.59375 45.0625 6.59375 53.421875 \r\nQ 6.59375 63.09375 13.40625 68.65625 \r\nQ 20.21875 74.21875 32.171875 74.21875 \r\nQ 37.3125 74.21875 42.625 73.28125 \r\nQ 47.953125 72.359375 53.515625 70.515625 \r\nz\r\n\" id=\"DejaVuSans-83\"/>\r\n     <path d=\"M 54.890625 33.015625 \r\nL 54.890625 0 \r\nL 45.90625 0 \r\nL 45.90625 32.71875 \r\nQ 45.90625 40.484375 42.875 44.328125 \r\nQ 39.84375 48.1875 33.796875 48.1875 \r\nQ 26.515625 48.1875 22.3125 43.546875 \r\nQ 18.109375 38.921875 18.109375 30.90625 \r\nL 18.109375 0 \r\nL 9.078125 0 \r\nL 9.078125 75.984375 \r\nL 18.109375 75.984375 \r\nL 18.109375 46.1875 \r\nQ 21.34375 51.125 25.703125 53.5625 \r\nQ 30.078125 56 35.796875 56 \r\nQ 45.21875 56 50.046875 50.171875 \r\nQ 54.890625 44.34375 54.890625 33.015625 \r\nz\r\n\" id=\"DejaVuSans-104\"/>\r\n     <path d=\"M 9.421875 54.6875 \r\nL 18.40625 54.6875 \r\nL 18.40625 0 \r\nL 9.421875 0 \r\nz\r\nM 9.421875 75.984375 \r\nL 18.40625 75.984375 \r\nL 18.40625 64.59375 \r\nL 9.421875 64.59375 \r\nz\r\n\" id=\"DejaVuSans-105\"/>\r\n     <path d=\"M 18.109375 8.203125 \r\nL 18.109375 -20.796875 \r\nL 9.078125 -20.796875 \r\nL 9.078125 54.6875 \r\nL 18.109375 54.6875 \r\nL 18.109375 46.390625 \r\nQ 20.953125 51.265625 25.265625 53.625 \r\nQ 29.59375 56 35.59375 56 \r\nQ 45.5625 56 51.78125 48.09375 \r\nQ 58.015625 40.1875 58.015625 27.296875 \r\nQ 58.015625 14.40625 51.78125 6.484375 \r\nQ 45.5625 -1.421875 35.59375 -1.421875 \r\nQ 29.59375 -1.421875 25.265625 0.953125 \r\nQ 20.953125 3.328125 18.109375 8.203125 \r\nz\r\nM 48.6875 27.296875 \r\nQ 48.6875 37.203125 44.609375 42.84375 \r\nQ 40.53125 48.484375 33.40625 48.484375 \r\nQ 26.265625 48.484375 22.1875 42.84375 \r\nQ 18.109375 37.203125 18.109375 27.296875 \r\nQ 18.109375 17.390625 22.1875 11.75 \r\nQ 26.265625 6.109375 33.40625 6.109375 \r\nQ 40.53125 6.109375 44.609375 11.75 \r\nQ 48.6875 17.390625 48.6875 27.296875 \r\nz\r\n\" id=\"DejaVuSans-112\"/>\r\n     <path d=\"M 52 44.1875 \r\nQ 55.375 50.25 60.0625 53.125 \r\nQ 64.75 56 71.09375 56 \r\nQ 79.640625 56 84.28125 50.015625 \r\nQ 88.921875 44.046875 88.921875 33.015625 \r\nL 88.921875 0 \r\nL 79.890625 0 \r\nL 79.890625 32.71875 \r\nQ 79.890625 40.578125 77.09375 44.375 \r\nQ 74.3125 48.1875 68.609375 48.1875 \r\nQ 61.625 48.1875 57.5625 43.546875 \r\nQ 53.515625 38.921875 53.515625 30.90625 \r\nL 53.515625 0 \r\nL 44.484375 0 \r\nL 44.484375 32.71875 \r\nQ 44.484375 40.625 41.703125 44.40625 \r\nQ 38.921875 48.1875 33.109375 48.1875 \r\nQ 26.21875 48.1875 22.15625 43.53125 \r\nQ 18.109375 38.875 18.109375 30.90625 \r\nL 18.109375 0 \r\nL 9.078125 0 \r\nL 9.078125 54.6875 \r\nL 18.109375 54.6875 \r\nL 18.109375 46.1875 \r\nQ 21.1875 51.21875 25.484375 53.609375 \r\nQ 29.78125 56 35.6875 56 \r\nQ 41.65625 56 45.828125 52.96875 \r\nQ 50 49.953125 52 44.1875 \r\nz\r\n\" id=\"DejaVuSans-109\"/>\r\n     <path d=\"M 56.203125 29.59375 \r\nL 56.203125 25.203125 \r\nL 14.890625 25.203125 \r\nQ 15.484375 15.921875 20.484375 11.0625 \r\nQ 25.484375 6.203125 34.421875 6.203125 \r\nQ 39.59375 6.203125 44.453125 7.46875 \r\nQ 49.3125 8.734375 54.109375 11.28125 \r\nL 54.109375 2.78125 \r\nQ 49.265625 0.734375 44.1875 -0.34375 \r\nQ 39.109375 -1.421875 33.890625 -1.421875 \r\nQ 20.796875 -1.421875 13.15625 6.1875 \r\nQ 5.515625 13.8125 5.515625 26.8125 \r\nQ 5.515625 40.234375 12.765625 48.109375 \r\nQ 20.015625 56 32.328125 56 \r\nQ 43.359375 56 49.78125 48.890625 \r\nQ 56.203125 41.796875 56.203125 29.59375 \r\nz\r\nM 47.21875 32.234375 \r\nQ 47.125 39.59375 43.09375 43.984375 \r\nQ 39.0625 48.390625 32.421875 48.390625 \r\nQ 24.90625 48.390625 20.390625 44.140625 \r\nQ 15.875 39.890625 15.1875 32.171875 \r\nz\r\n\" id=\"DejaVuSans-101\"/>\r\n     <path d=\"M 54.890625 33.015625 \r\nL 54.890625 0 \r\nL 45.90625 0 \r\nL 45.90625 32.71875 \r\nQ 45.90625 40.484375 42.875 44.328125 \r\nQ 39.84375 48.1875 33.796875 48.1875 \r\nQ 26.515625 48.1875 22.3125 43.546875 \r\nQ 18.109375 38.921875 18.109375 30.90625 \r\nL 18.109375 0 \r\nL 9.078125 0 \r\nL 9.078125 54.6875 \r\nL 18.109375 54.6875 \r\nL 18.109375 46.1875 \r\nQ 21.34375 51.125 25.703125 53.5625 \r\nQ 30.078125 56 35.796875 56 \r\nQ 45.21875 56 50.046875 50.171875 \r\nQ 54.890625 44.34375 54.890625 33.015625 \r\nz\r\n\" id=\"DejaVuSans-110\"/>\r\n     <path d=\"M 18.3125 70.21875 \r\nL 18.3125 54.6875 \r\nL 36.8125 54.6875 \r\nL 36.8125 47.703125 \r\nL 18.3125 47.703125 \r\nL 18.3125 18.015625 \r\nQ 18.3125 11.328125 20.140625 9.421875 \r\nQ 21.96875 7.515625 27.59375 7.515625 \r\nL 36.8125 7.515625 \r\nL 36.8125 0 \r\nL 27.59375 0 \r\nQ 17.1875 0 13.234375 3.875 \r\nQ 9.28125 7.765625 9.28125 18.015625 \r\nL 9.28125 47.703125 \r\nL 2.6875 47.703125 \r\nL 2.6875 54.6875 \r\nL 9.28125 54.6875 \r\nL 9.28125 70.21875 \r\nz\r\n\" id=\"DejaVuSans-116\"/>\r\n     <path id=\"DejaVuSans-32\"/>\r\n     <path d=\"M 9.8125 72.90625 \r\nL 19.671875 72.90625 \r\nL 19.671875 8.296875 \r\nL 55.171875 8.296875 \r\nL 55.171875 0 \r\nL 9.8125 0 \r\nz\r\n\" id=\"DejaVuSans-76\"/>\r\n     <path d=\"M 44.28125 53.078125 \r\nL 44.28125 44.578125 \r\nQ 40.484375 46.53125 36.375 47.5 \r\nQ 32.28125 48.484375 27.875 48.484375 \r\nQ 21.1875 48.484375 17.84375 46.4375 \r\nQ 14.5 44.390625 14.5 40.28125 \r\nQ 14.5 37.15625 16.890625 35.375 \r\nQ 19.28125 33.59375 26.515625 31.984375 \r\nL 29.59375 31.296875 \r\nQ 39.15625 29.25 43.1875 25.515625 \r\nQ 47.21875 21.78125 47.21875 15.09375 \r\nQ 47.21875 7.46875 41.1875 3.015625 \r\nQ 35.15625 -1.421875 24.609375 -1.421875 \r\nQ 20.21875 -1.421875 15.453125 -0.5625 \r\nQ 10.6875 0.296875 5.421875 2 \r\nL 5.421875 11.28125 \r\nQ 10.40625 8.6875 15.234375 7.390625 \r\nQ 20.0625 6.109375 24.8125 6.109375 \r\nQ 31.15625 6.109375 34.5625 8.28125 \r\nQ 37.984375 10.453125 37.984375 14.40625 \r\nQ 37.984375 18.0625 35.515625 20.015625 \r\nQ 33.0625 21.96875 24.703125 23.78125 \r\nL 21.578125 24.515625 \r\nQ 13.234375 26.265625 9.515625 29.90625 \r\nQ 5.8125 33.546875 5.8125 39.890625 \r\nQ 5.8125 47.609375 11.28125 51.796875 \r\nQ 16.75 56 26.8125 56 \r\nQ 31.78125 56 36.171875 55.265625 \r\nQ 40.578125 54.546875 44.28125 53.078125 \r\nz\r\n\" id=\"DejaVuSans-115\"/>\r\n     <path d=\"M 39.40625 66.21875 \r\nQ 28.65625 66.21875 22.328125 58.203125 \r\nQ 16.015625 50.203125 16.015625 36.375 \r\nQ 16.015625 22.609375 22.328125 14.59375 \r\nQ 28.65625 6.59375 39.40625 6.59375 \r\nQ 50.140625 6.59375 56.421875 14.59375 \r\nQ 62.703125 22.609375 62.703125 36.375 \r\nQ 62.703125 50.203125 56.421875 58.203125 \r\nQ 50.140625 66.21875 39.40625 66.21875 \r\nz\r\nM 39.40625 74.21875 \r\nQ 54.734375 74.21875 63.90625 63.9375 \r\nQ 73.09375 53.65625 73.09375 36.375 \r\nQ 73.09375 19.140625 63.90625 8.859375 \r\nQ 54.734375 -1.421875 39.40625 -1.421875 \r\nQ 24.03125 -1.421875 14.8125 8.828125 \r\nQ 5.609375 19.09375 5.609375 36.375 \r\nQ 5.609375 53.65625 14.8125 63.9375 \r\nQ 24.03125 74.21875 39.40625 74.21875 \r\nz\r\n\" id=\"DejaVuSans-79\"/>\r\n     <path d=\"M 4.890625 31.390625 \r\nL 31.203125 31.390625 \r\nL 31.203125 23.390625 \r\nL 4.890625 23.390625 \r\nz\r\n\" id=\"DejaVuSans-45\"/>\r\n     <path d=\"M -0.296875 72.90625 \r\nL 61.375 72.90625 \r\nL 61.375 64.59375 \r\nL 35.5 64.59375 \r\nL 35.5 0 \r\nL 25.59375 0 \r\nL 25.59375 64.59375 \r\nL -0.296875 64.59375 \r\nz\r\n\" id=\"DejaVuSans-84\"/>\r\n     <path d=\"M 19.671875 64.796875 \r\nL 19.671875 37.40625 \r\nL 32.078125 37.40625 \r\nQ 38.96875 37.40625 42.71875 40.96875 \r\nQ 46.484375 44.53125 46.484375 51.125 \r\nQ 46.484375 57.671875 42.71875 61.234375 \r\nQ 38.96875 64.796875 32.078125 64.796875 \r\nz\r\nM 9.8125 72.90625 \r\nL 32.078125 72.90625 \r\nQ 44.34375 72.90625 50.609375 67.359375 \r\nQ 56.890625 61.8125 56.890625 51.125 \r\nQ 56.890625 40.328125 50.609375 34.8125 \r\nQ 44.34375 29.296875 32.078125 29.296875 \r\nL 19.671875 29.296875 \r\nL 19.671875 0 \r\nL 9.8125 0 \r\nz\r\n\" id=\"DejaVuSans-80\"/>\r\n     <path d=\"M 41.109375 46.296875 \r\nQ 39.59375 47.171875 37.8125 47.578125 \r\nQ 36.03125 48 33.890625 48 \r\nQ 26.265625 48 22.1875 43.046875 \r\nQ 18.109375 38.09375 18.109375 28.8125 \r\nL 18.109375 0 \r\nL 9.078125 0 \r\nL 9.078125 54.6875 \r\nL 18.109375 54.6875 \r\nL 18.109375 46.1875 \r\nQ 20.953125 51.171875 25.484375 53.578125 \r\nQ 30.03125 56 36.53125 56 \r\nQ 37.453125 56 38.578125 55.875 \r\nQ 39.703125 55.765625 41.0625 55.515625 \r\nz\r\n\" id=\"DejaVuSans-114\"/>\r\n     <path d=\"M 30.609375 48.390625 \r\nQ 23.390625 48.390625 19.1875 42.75 \r\nQ 14.984375 37.109375 14.984375 27.296875 \r\nQ 14.984375 17.484375 19.15625 11.84375 \r\nQ 23.34375 6.203125 30.609375 6.203125 \r\nQ 37.796875 6.203125 41.984375 11.859375 \r\nQ 46.1875 17.53125 46.1875 27.296875 \r\nQ 46.1875 37.015625 41.984375 42.703125 \r\nQ 37.796875 48.390625 30.609375 48.390625 \r\nz\r\nM 30.609375 56 \r\nQ 42.328125 56 49.015625 48.375 \r\nQ 55.71875 40.765625 55.71875 27.296875 \r\nQ 55.71875 13.875 49.015625 6.21875 \r\nQ 42.328125 -1.421875 30.609375 -1.421875 \r\nQ 18.84375 -1.421875 12.171875 6.21875 \r\nQ 5.515625 13.875 5.515625 27.296875 \r\nQ 5.515625 40.765625 12.171875 48.375 \r\nQ 18.84375 56 30.609375 56 \r\nz\r\n\" id=\"DejaVuSans-111\"/>\r\n    </defs>\r\n    <g transform=\"translate(114.627813 16.318125)scale(0.12 -0.12)\">\r\n     <use xlink:href=\"#DejaVuSans-83\"/>\r\n     <use x=\"63.476562\" xlink:href=\"#DejaVuSans-104\"/>\r\n     <use x=\"126.855469\" xlink:href=\"#DejaVuSans-105\"/>\r\n     <use x=\"154.638672\" xlink:href=\"#DejaVuSans-112\"/>\r\n     <use x=\"218.115234\" xlink:href=\"#DejaVuSans-109\"/>\r\n     <use x=\"315.527344\" xlink:href=\"#DejaVuSans-101\"/>\r\n     <use x=\"377.050781\" xlink:href=\"#DejaVuSans-110\"/>\r\n     <use x=\"440.429688\" xlink:href=\"#DejaVuSans-116\"/>\r\n     <use x=\"479.638672\" xlink:href=\"#DejaVuSans-32\"/>\r\n     <use x=\"511.425781\" xlink:href=\"#DejaVuSans-76\"/>\r\n     <use x=\"567.138672\" xlink:href=\"#DejaVuSans-105\"/>\r\n     <use x=\"594.921875\" xlink:href=\"#DejaVuSans-110\"/>\r\n     <use x=\"658.300781\" xlink:href=\"#DejaVuSans-101\"/>\r\n     <use x=\"719.824219\" xlink:href=\"#DejaVuSans-115\"/>\r\n     <use x=\"771.923828\" xlink:href=\"#DejaVuSans-32\"/>\r\n     <use x=\"803.710938\" xlink:href=\"#DejaVuSans-79\"/>\r\n     <use x=\"882.421875\" xlink:href=\"#DejaVuSans-110\"/>\r\n     <use x=\"945.800781\" xlink:href=\"#DejaVuSans-45\"/>\r\n     <use x=\"981.744141\" xlink:href=\"#DejaVuSans-84\"/>\r\n     <use x=\"1042.78125\" xlink:href=\"#DejaVuSans-105\"/>\r\n     <use x=\"1070.564453\" xlink:href=\"#DejaVuSans-109\"/>\r\n     <use x=\"1167.976562\" xlink:href=\"#DejaVuSans-101\"/>\r\n     <use x=\"1229.5\" xlink:href=\"#DejaVuSans-32\"/>\r\n     <use x=\"1261.287109\" xlink:href=\"#DejaVuSans-80\"/>\r\n     <use x=\"1321.574219\" xlink:href=\"#DejaVuSans-114\"/>\r\n     <use x=\"1362.65625\" xlink:href=\"#DejaVuSans-111\"/>\r\n     <use x=\"1423.837891\" xlink:href=\"#DejaVuSans-112\"/>\r\n    </g>\r\n   </g>\r\n  </g>\r\n </g>\r\n <defs>\r\n  <clipPath id=\"p70d76ebe1a\">\r\n   <rect height=\"217.44\" width=\"334.8\" x=\"36.465625\" y=\"22.318125\"/>\r\n  </clipPath>\r\n </defs>\r\n</svg>\r\n",
      "text/plain": "<Figure size 432x288 with 1 Axes>"
     },
     "metadata": {
      "needs_background": "light"
     },
     "output_type": "display_data"
    }
   ],
   "source": [
    "#Show histogram of raw proportion values\n",
    "all_data_lag.hist(column=['Shipment Lines On-Time Prop'])"
   ]
  },
  {
   "cell_type": "markdown",
   "metadata": {},
   "source": [
    "At first it appeared as though it may have been an imbalance in data, however, the collective data is fairly balanced, as it should be considered the average should roughly split the data in half if the distribution is Gaussian. Above we can see the class counts as well as the distribution of the raw proportion values, from this we can see that the class counts are roughly even although the proportions are not really Gaussian (fairly evenly distributed for most of the range save for a couple spike and major dip in the last decile).\n",
    "\n",
    "### Logistic Regression (LogR)\n",
    "\n",
    "Since neither model quite makes the grade laid out in the objectives (Random Forest Classifier comes very close), we will also try logistic regression. This may assist with the non-linearity of some measures, but the lack of data may be an issue as with other models."
   ]
  },
  {
   "cell_type": "code",
   "execution_count": 108,
   "metadata": {},
   "outputs": [
    {
     "name": "stdout",
     "output_type": "stream",
     "text": "Coefficients: \n [[-1.31639901e-05  9.50588995e-06  1.19266679e-09 -2.26644531e-06\n  -8.59737948e-08  7.23526350e-09  6.58514074e-09  3.14561976e-09\n   9.26401232e-11  3.23727275e-09  3.23727275e-09  2.84892424e-09\n  -6.91622022e-07 -1.06275820e-06 -2.58325262e-06 -1.66545653e-09\n  -1.77306238e-09 -1.66635085e-09 -1.58290195e-09 -1.63403382e-09\n  -1.63268042e-09 -1.47229705e-09 -1.63907086e-09]]\n=== Confusion Matrix ===\n[[ 7 14]\n [ 1  7]]\n\n\n=== Classification Report ===\n               precision    recall  f1-score   support\n\nAbove Average       0.88      0.33      0.48        21\nBelow Average       0.33      0.88      0.48         8\n\n     accuracy                           0.48        29\n    macro avg       0.60      0.60      0.48        29\n weighted avg       0.73      0.48      0.48        29\n\n\n\n=== Mean Accuracy Score ===\nMean Accuracy Score:  0.4827586206896552\n"
    }
   ],
   "source": [
    "#Import necessary namespaces\n",
    "from sklearn.linear_model import LogisticRegression\n",
    "\n",
    "#Create model\n",
    "logr_1 = LogisticRegression()\n",
    "\n",
    "#Fit model\n",
    "logr_1.fit(lag_clas_train_x, lag_clas_train_y)\n",
    "\n",
    "#Make predictions\n",
    "logr_1_preds = logr_1.predict(lag_clas_test_x)\n",
    "\n",
    "#Print coefficients\n",
    "print('Coefficients: \\n', logr_1.coef_)\n",
    "\n",
    "#Show metrics\n",
    "print(\"=== Confusion Matrix ===\")\n",
    "print(confusion_matrix(lag_clas_test_y, logr_1_preds))\n",
    "print('\\n')\n",
    "\n",
    "print(\"=== Classification Report ===\")\n",
    "print(classification_report(lag_clas_test_y, logr_1_preds))\n",
    "print('\\n')\n",
    "\n",
    "print(\"=== Mean Accuracy Score ===\")\n",
    "print(\"Mean Accuracy Score: \", logr_1.score(lag_clas_test_x,lag_clas_test_y))"
   ]
  },
  {
   "cell_type": "markdown",
   "metadata": {},
   "source": [
    "Unfortunately, the Logistic Regression did not perform as well as the other models, and thus cannot be considered.\n",
    "\n",
    "## Conclusions\n",
    "\n",
    "### Best Model\n",
    "Our best performing model was the third iteration of the Random Forest model (in this case it was a classification model). It appears that although there was very little data, the model was able to fairly accurately predict the outcomes. It may be possible to use bootstrapping to increase the accuracy, but it may come at the cost of overfitting the model. For the time being, this model will be the one considered as the final result. As this model is the best performer, is worth taking a look at some of the pieces more in depth.\n",
    "\n",
    "### Feature Importance"
   ]
  },
  {
   "cell_type": "code",
   "execution_count": 113,
   "metadata": {},
   "outputs": [
    {
     "data": {
      "text/html": "<div>\n<style scoped>\n    .dataframe tbody tr th:only-of-type {\n        vertical-align: middle;\n    }\n\n    .dataframe tbody tr th {\n        vertical-align: top;\n    }\n\n    .dataframe thead th {\n        text-align: right;\n    }\n</style>\n<table border=\"1\" class=\"dataframe\">\n  <thead>\n    <tr style=\"text-align: right;\">\n      <th></th>\n      <th>importance</th>\n    </tr>\n  </thead>\n  <tbody>\n    <tr>\n      <td>Total Production Lines</td>\n      <td>0.108535</td>\n    </tr>\n    <tr>\n      <td>National Case Increase Percent</td>\n      <td>0.105502</td>\n    </tr>\n    <tr>\n      <td>Total Time</td>\n      <td>0.094762</td>\n    </tr>\n    <tr>\n      <td>National Cases/100k</td>\n      <td>0.087472</td>\n    </tr>\n    <tr>\n      <td>Prod Line Lag2</td>\n      <td>0.074672</td>\n    </tr>\n    <tr>\n      <td>Prod Time Lag2</td>\n      <td>0.073620</td>\n    </tr>\n    <tr>\n      <td>Production Hours On-Time Prop</td>\n      <td>0.072914</td>\n    </tr>\n    <tr>\n      <td>New National Cases</td>\n      <td>0.065660</td>\n    </tr>\n    <tr>\n      <td>National Deaths/100k</td>\n      <td>0.065243</td>\n    </tr>\n    <tr>\n      <td>Total Shipment Lines</td>\n      <td>0.060882</td>\n    </tr>\n    <tr>\n      <td>New National Deaths</td>\n      <td>0.049633</td>\n    </tr>\n    <tr>\n      <td>Production Lines On-Time Prop</td>\n      <td>0.026915</td>\n    </tr>\n    <tr>\n      <td>Prod Time Lag3</td>\n      <td>0.021853</td>\n    </tr>\n    <tr>\n      <td>MI State of Emergency</td>\n      <td>0.019223</td>\n    </tr>\n    <tr>\n      <td>Prod Time Lag1</td>\n      <td>0.016600</td>\n    </tr>\n    <tr>\n      <td>Prod Line Lag1</td>\n      <td>0.016354</td>\n    </tr>\n    <tr>\n      <td>MI Stay at Home</td>\n      <td>0.012880</td>\n    </tr>\n    <tr>\n      <td>National Emergencies Act</td>\n      <td>0.010618</td>\n    </tr>\n    <tr>\n      <td>Defense Production Act</td>\n      <td>0.008344</td>\n    </tr>\n    <tr>\n      <td>Prod Line Lag3</td>\n      <td>0.004930</td>\n    </tr>\n    <tr>\n      <td>US Public Health Emergency</td>\n      <td>0.003387</td>\n    </tr>\n    <tr>\n      <td>Stafford Act Emergency</td>\n      <td>0.000000</td>\n    </tr>\n    <tr>\n      <td>National Population</td>\n      <td>0.000000</td>\n    </tr>\n  </tbody>\n</table>\n</div>",
      "text/plain": "                                importance\nTotal Production Lines            0.108535\nNational Case Increase Percent    0.105502\nTotal Time                        0.094762\nNational Cases/100k               0.087472\nProd Line Lag2                    0.074672\nProd Time Lag2                    0.073620\nProduction Hours On-Time Prop     0.072914\nNew National Cases                0.065660\nNational Deaths/100k              0.065243\nTotal Shipment Lines              0.060882\nNew National Deaths               0.049633\nProduction Lines On-Time Prop     0.026915\nProd Time Lag3                    0.021853\nMI State of Emergency             0.019223\nProd Time Lag1                    0.016600\nProd Line Lag1                    0.016354\nMI Stay at Home                   0.012880\nNational Emergencies Act          0.010618\nDefense Production Act            0.008344\nProd Line Lag3                    0.004930\nUS Public Health Emergency        0.003387\nStafford Act Emergency            0.000000\nNational Population               0.000000"
     },
     "execution_count": 113,
     "metadata": {},
     "output_type": "execute_result"
    }
   ],
   "source": [
    "#Examine feature importance\n",
    "feature_importances = pd.DataFrame(rf_3.feature_importances_, index = lag_clas_train_x.columns, columns=['importance']).sort_values('importance', ascending=False)\n",
    "feature_importances"
   ]
  },
  {
   "cell_type": "markdown",
   "metadata": {},
   "source": [
    "Here we can see which features have the highest importance (impurity based metrics provided by the model object returned using the sklearn package). Each one of the highest importance is interesting to consider:\n",
    "- Total Production Lines\n",
    "    - This is effectively the volume of production on that date that was completed. It is interesting to note that this relationship occurs, as it likely indicates a labor shortage or something of that nature. It is unlikely that the current day's production volume is directly affecting the outcomes of shipping, rather there is probably an unmeasured feature that impacts both.\n",
    "    - In future analysis the number of claimed labor hours or perhaps the sum of paid hours can be considered. This would show whether the production lines are directly affecting the shipping performance or if the labor availability is affecting both in the same manner.\n",
    "- National Case Increase Percent\n",
    "    - This feature is effectively demonstrating how much \"larger\" the pandemic is nationally compared to the previous day. Interestingly, it is highly correlated with the number of new national cases (as it is built on the number of new cases vs the previous number of cases) but is more stronly predictive of shipping outcomes.\n",
    "    - Perhaps inclusion of a local version would have similar effect, or perhaps the national situation dictates much of the societal impacts throughout the nation. \n",
    "- Total Time\n",
    "    - This is a metric very similar to Total Production Lines, but is a better indicator of the \"effort\" that day. It is a figure that relates all productions together based on a shared unit, whereas quantity can be easily swayed by quick to build but high quantity items.\n",
    "    - This could perhaps be removed or used as a replacement for Total Production Lines.\n",
    "- Prod Line Lag 2 and Prod Time Lag 2\n",
    "    - These features are interesting in combination as they actually show the impact of our buffer time (outbound warehouse handling as we call it) on the shipment performance. This must indicate that the day two days prior has a real impact on the performance while 1 and 3 day do not.\n",
    "    - It may be of value to include similarly lagged value for the raw production line count and the production time count, rather than just the on-time proportions. This would remove the assembly \"performance\" from consideration and replace it with assembly \"workload\" instead.\n",
    "\n",
    "### Intuitions\n",
    "\n",
    "These finding would suggest that the intuitions shared across the company may have some validity, namely:\n",
    "- Production volume is a big determiner of shipping performance\n",
    "- Production performance can propogate to the shipping group\n",
    "- Covid-19 has had impacts when national cases are on the rise, but not directly due to mandates\n",
    "\n",
    "### Future Research\n",
    "\n",
    "These are not particularly surprising facts, as our business is an essential business, so very few workers were forced to stay at home even while mandates were in place. However, we did have massive labor shortages during the most extreme periods. Perhaps capturing labor usage/availability would be of use in this case.\n",
    "\n",
    "We additionally found that the productoin volumes had a significant impact, which may suggest that the shipping group is understaffed relative to the production group, or that the production group is simply able to handle higher workloads.\n",
    "\n",
    "It is also possible that the availability of shipping capacity (from companies like XPO Logistics, Fedex, and UPS) may have been impacted during this time, holding us from shipping materials. In order to accomodate this possibility it would be worthwhile to collect shipping capacity data during the time period. This data is likely to be hard to come by though as much of it is proprietary.\n",
    "\n",
    "Lastly, the inclusion of additional resource metrics may be of use, including:\n",
    "- Average/daily assembly labor capacity\n",
    "- Average/daily stockroom labor capacity\n",
    "- Average/daily open shipping space\n",
    "- Average/daily shipping space utilization\n",
    "\n",
    "These factors may round out the picture further by showing the physical capacities and limits that could directly impact shipping's ability to send material out on time.\n",
    "\n",
    "### Final Thoughts\n",
    "\n",
    "Although the final model was not as accurate as desired, particularly in the \"Below Average\" predictions, the insights gained provide support for further examination. The most important features reinforced certain domain knowledge based conlusions, while also demonstrating space for improvement. Additional data (both externally and over the coming couple months) will be required in order to improve the model accuracy and predictive capacity."
   ]
  }
 ]
}